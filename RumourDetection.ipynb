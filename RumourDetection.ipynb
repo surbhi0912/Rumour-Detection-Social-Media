{
  "nbformat": 4,
  "nbformat_minor": 0,
  "metadata": {
    "colab": {
      "name": "RumourDetection.ipynb",
      "provenance": [],
      "collapsed_sections": []
    },
    "kernelspec": {
      "name": "python3",
      "display_name": "Python 3"
    },
    "language_info": {
      "name": "python"
    },
    "widgets": {
      "application/vnd.jupyter.widget-state+json": {
        "3ff9ce02c2524f1c8608f2e68a1383c0": {
          "model_module": "@jupyter-widgets/controls",
          "model_name": "HBoxModel",
          "model_module_version": "1.5.0",
          "state": {
            "_view_name": "HBoxView",
            "_dom_classes": [],
            "_model_name": "HBoxModel",
            "_view_module": "@jupyter-widgets/controls",
            "_model_module_version": "1.5.0",
            "_view_count": null,
            "_view_module_version": "1.5.0",
            "box_style": "",
            "layout": "IPY_MODEL_8a59a13317d8439b9dd3fd4229dff9f2",
            "_model_module": "@jupyter-widgets/controls",
            "children": [
              "IPY_MODEL_c21255bc311244578af91d10b6e398ed",
              "IPY_MODEL_7dd17867ae7e4a0dafe036c70af2f2ab"
            ]
          }
        },
        "8a59a13317d8439b9dd3fd4229dff9f2": {
          "model_module": "@jupyter-widgets/base",
          "model_name": "LayoutModel",
          "model_module_version": "1.2.0",
          "state": {
            "_view_name": "LayoutView",
            "grid_template_rows": null,
            "right": null,
            "justify_content": null,
            "_view_module": "@jupyter-widgets/base",
            "overflow": null,
            "_model_module_version": "1.2.0",
            "_view_count": null,
            "flex_flow": null,
            "width": null,
            "min_width": null,
            "border": null,
            "align_items": null,
            "bottom": null,
            "_model_module": "@jupyter-widgets/base",
            "top": null,
            "grid_column": null,
            "overflow_y": null,
            "overflow_x": null,
            "grid_auto_flow": null,
            "grid_area": null,
            "grid_template_columns": null,
            "flex": null,
            "_model_name": "LayoutModel",
            "justify_items": null,
            "grid_row": null,
            "max_height": null,
            "align_content": null,
            "visibility": null,
            "align_self": null,
            "height": null,
            "min_height": null,
            "padding": null,
            "grid_auto_rows": null,
            "grid_gap": null,
            "max_width": null,
            "order": null,
            "_view_module_version": "1.2.0",
            "grid_template_areas": null,
            "object_position": null,
            "object_fit": null,
            "grid_auto_columns": null,
            "margin": null,
            "display": null,
            "left": null
          }
        },
        "c21255bc311244578af91d10b6e398ed": {
          "model_module": "@jupyter-widgets/controls",
          "model_name": "FloatProgressModel",
          "model_module_version": "1.5.0",
          "state": {
            "_view_name": "ProgressView",
            "style": "IPY_MODEL_ed9340a39a304dad8813b96b5e6b00ee",
            "_dom_classes": [],
            "description": "Downloading: 100%",
            "_model_name": "FloatProgressModel",
            "bar_style": "success",
            "max": 231508,
            "_view_module": "@jupyter-widgets/controls",
            "_model_module_version": "1.5.0",
            "value": 231508,
            "_view_count": null,
            "_view_module_version": "1.5.0",
            "orientation": "horizontal",
            "min": 0,
            "description_tooltip": null,
            "_model_module": "@jupyter-widgets/controls",
            "layout": "IPY_MODEL_05e08d4e7afb4f5d9c9cc479030acf16"
          }
        },
        "7dd17867ae7e4a0dafe036c70af2f2ab": {
          "model_module": "@jupyter-widgets/controls",
          "model_name": "HTMLModel",
          "model_module_version": "1.5.0",
          "state": {
            "_view_name": "HTMLView",
            "style": "IPY_MODEL_2ae461403b9c40c8ad23488d664b4c07",
            "_dom_classes": [],
            "description": "",
            "_model_name": "HTMLModel",
            "placeholder": "​",
            "_view_module": "@jupyter-widgets/controls",
            "_model_module_version": "1.5.0",
            "value": " 232k/232k [00:00&lt;00:00, 713kB/s]",
            "_view_count": null,
            "_view_module_version": "1.5.0",
            "description_tooltip": null,
            "_model_module": "@jupyter-widgets/controls",
            "layout": "IPY_MODEL_d3e44a36df67411591450c33ce0de031"
          }
        },
        "ed9340a39a304dad8813b96b5e6b00ee": {
          "model_module": "@jupyter-widgets/controls",
          "model_name": "ProgressStyleModel",
          "model_module_version": "1.5.0",
          "state": {
            "_view_name": "StyleView",
            "_model_name": "ProgressStyleModel",
            "description_width": "initial",
            "_view_module": "@jupyter-widgets/base",
            "_model_module_version": "1.5.0",
            "_view_count": null,
            "_view_module_version": "1.2.0",
            "bar_color": null,
            "_model_module": "@jupyter-widgets/controls"
          }
        },
        "05e08d4e7afb4f5d9c9cc479030acf16": {
          "model_module": "@jupyter-widgets/base",
          "model_name": "LayoutModel",
          "model_module_version": "1.2.0",
          "state": {
            "_view_name": "LayoutView",
            "grid_template_rows": null,
            "right": null,
            "justify_content": null,
            "_view_module": "@jupyter-widgets/base",
            "overflow": null,
            "_model_module_version": "1.2.0",
            "_view_count": null,
            "flex_flow": null,
            "width": null,
            "min_width": null,
            "border": null,
            "align_items": null,
            "bottom": null,
            "_model_module": "@jupyter-widgets/base",
            "top": null,
            "grid_column": null,
            "overflow_y": null,
            "overflow_x": null,
            "grid_auto_flow": null,
            "grid_area": null,
            "grid_template_columns": null,
            "flex": null,
            "_model_name": "LayoutModel",
            "justify_items": null,
            "grid_row": null,
            "max_height": null,
            "align_content": null,
            "visibility": null,
            "align_self": null,
            "height": null,
            "min_height": null,
            "padding": null,
            "grid_auto_rows": null,
            "grid_gap": null,
            "max_width": null,
            "order": null,
            "_view_module_version": "1.2.0",
            "grid_template_areas": null,
            "object_position": null,
            "object_fit": null,
            "grid_auto_columns": null,
            "margin": null,
            "display": null,
            "left": null
          }
        },
        "2ae461403b9c40c8ad23488d664b4c07": {
          "model_module": "@jupyter-widgets/controls",
          "model_name": "DescriptionStyleModel",
          "model_module_version": "1.5.0",
          "state": {
            "_view_name": "StyleView",
            "_model_name": "DescriptionStyleModel",
            "description_width": "",
            "_view_module": "@jupyter-widgets/base",
            "_model_module_version": "1.5.0",
            "_view_count": null,
            "_view_module_version": "1.2.0",
            "_model_module": "@jupyter-widgets/controls"
          }
        },
        "d3e44a36df67411591450c33ce0de031": {
          "model_module": "@jupyter-widgets/base",
          "model_name": "LayoutModel",
          "model_module_version": "1.2.0",
          "state": {
            "_view_name": "LayoutView",
            "grid_template_rows": null,
            "right": null,
            "justify_content": null,
            "_view_module": "@jupyter-widgets/base",
            "overflow": null,
            "_model_module_version": "1.2.0",
            "_view_count": null,
            "flex_flow": null,
            "width": null,
            "min_width": null,
            "border": null,
            "align_items": null,
            "bottom": null,
            "_model_module": "@jupyter-widgets/base",
            "top": null,
            "grid_column": null,
            "overflow_y": null,
            "overflow_x": null,
            "grid_auto_flow": null,
            "grid_area": null,
            "grid_template_columns": null,
            "flex": null,
            "_model_name": "LayoutModel",
            "justify_items": null,
            "grid_row": null,
            "max_height": null,
            "align_content": null,
            "visibility": null,
            "align_self": null,
            "height": null,
            "min_height": null,
            "padding": null,
            "grid_auto_rows": null,
            "grid_gap": null,
            "max_width": null,
            "order": null,
            "_view_module_version": "1.2.0",
            "grid_template_areas": null,
            "object_position": null,
            "object_fit": null,
            "grid_auto_columns": null,
            "margin": null,
            "display": null,
            "left": null
          }
        },
        "8cde6c4fecd344c5aa13f930f5a863c6": {
          "model_module": "@jupyter-widgets/controls",
          "model_name": "HBoxModel",
          "model_module_version": "1.5.0",
          "state": {
            "_view_name": "HBoxView",
            "_dom_classes": [],
            "_model_name": "HBoxModel",
            "_view_module": "@jupyter-widgets/controls",
            "_model_module_version": "1.5.0",
            "_view_count": null,
            "_view_module_version": "1.5.0",
            "box_style": "",
            "layout": "IPY_MODEL_f9085903f2c44fd28c35b9fd0754da49",
            "_model_module": "@jupyter-widgets/controls",
            "children": [
              "IPY_MODEL_1c04a32900794ca1bc995dff0c772143",
              "IPY_MODEL_756046e06ae548088a8e1b105bcac94b"
            ]
          }
        },
        "f9085903f2c44fd28c35b9fd0754da49": {
          "model_module": "@jupyter-widgets/base",
          "model_name": "LayoutModel",
          "model_module_version": "1.2.0",
          "state": {
            "_view_name": "LayoutView",
            "grid_template_rows": null,
            "right": null,
            "justify_content": null,
            "_view_module": "@jupyter-widgets/base",
            "overflow": null,
            "_model_module_version": "1.2.0",
            "_view_count": null,
            "flex_flow": null,
            "width": null,
            "min_width": null,
            "border": null,
            "align_items": null,
            "bottom": null,
            "_model_module": "@jupyter-widgets/base",
            "top": null,
            "grid_column": null,
            "overflow_y": null,
            "overflow_x": null,
            "grid_auto_flow": null,
            "grid_area": null,
            "grid_template_columns": null,
            "flex": null,
            "_model_name": "LayoutModel",
            "justify_items": null,
            "grid_row": null,
            "max_height": null,
            "align_content": null,
            "visibility": null,
            "align_self": null,
            "height": null,
            "min_height": null,
            "padding": null,
            "grid_auto_rows": null,
            "grid_gap": null,
            "max_width": null,
            "order": null,
            "_view_module_version": "1.2.0",
            "grid_template_areas": null,
            "object_position": null,
            "object_fit": null,
            "grid_auto_columns": null,
            "margin": null,
            "display": null,
            "left": null
          }
        },
        "1c04a32900794ca1bc995dff0c772143": {
          "model_module": "@jupyter-widgets/controls",
          "model_name": "FloatProgressModel",
          "model_module_version": "1.5.0",
          "state": {
            "_view_name": "ProgressView",
            "style": "IPY_MODEL_6e9766ba0ac240e9832bc13468c461d0",
            "_dom_classes": [],
            "description": "Downloading: 100%",
            "_model_name": "FloatProgressModel",
            "bar_style": "success",
            "max": 28,
            "_view_module": "@jupyter-widgets/controls",
            "_model_module_version": "1.5.0",
            "value": 28,
            "_view_count": null,
            "_view_module_version": "1.5.0",
            "orientation": "horizontal",
            "min": 0,
            "description_tooltip": null,
            "_model_module": "@jupyter-widgets/controls",
            "layout": "IPY_MODEL_71578ed8df654e3bbc3ba8f2d587c44c"
          }
        },
        "756046e06ae548088a8e1b105bcac94b": {
          "model_module": "@jupyter-widgets/controls",
          "model_name": "HTMLModel",
          "model_module_version": "1.5.0",
          "state": {
            "_view_name": "HTMLView",
            "style": "IPY_MODEL_5d24bae0fa5e45a490419f6facb05977",
            "_dom_classes": [],
            "description": "",
            "_model_name": "HTMLModel",
            "placeholder": "​",
            "_view_module": "@jupyter-widgets/controls",
            "_model_module_version": "1.5.0",
            "value": " 28.0/28.0 [00:00&lt;00:00, 150B/s]",
            "_view_count": null,
            "_view_module_version": "1.5.0",
            "description_tooltip": null,
            "_model_module": "@jupyter-widgets/controls",
            "layout": "IPY_MODEL_6cf24a3ea582474098d55425cae95f3a"
          }
        },
        "6e9766ba0ac240e9832bc13468c461d0": {
          "model_module": "@jupyter-widgets/controls",
          "model_name": "ProgressStyleModel",
          "model_module_version": "1.5.0",
          "state": {
            "_view_name": "StyleView",
            "_model_name": "ProgressStyleModel",
            "description_width": "initial",
            "_view_module": "@jupyter-widgets/base",
            "_model_module_version": "1.5.0",
            "_view_count": null,
            "_view_module_version": "1.2.0",
            "bar_color": null,
            "_model_module": "@jupyter-widgets/controls"
          }
        },
        "71578ed8df654e3bbc3ba8f2d587c44c": {
          "model_module": "@jupyter-widgets/base",
          "model_name": "LayoutModel",
          "model_module_version": "1.2.0",
          "state": {
            "_view_name": "LayoutView",
            "grid_template_rows": null,
            "right": null,
            "justify_content": null,
            "_view_module": "@jupyter-widgets/base",
            "overflow": null,
            "_model_module_version": "1.2.0",
            "_view_count": null,
            "flex_flow": null,
            "width": null,
            "min_width": null,
            "border": null,
            "align_items": null,
            "bottom": null,
            "_model_module": "@jupyter-widgets/base",
            "top": null,
            "grid_column": null,
            "overflow_y": null,
            "overflow_x": null,
            "grid_auto_flow": null,
            "grid_area": null,
            "grid_template_columns": null,
            "flex": null,
            "_model_name": "LayoutModel",
            "justify_items": null,
            "grid_row": null,
            "max_height": null,
            "align_content": null,
            "visibility": null,
            "align_self": null,
            "height": null,
            "min_height": null,
            "padding": null,
            "grid_auto_rows": null,
            "grid_gap": null,
            "max_width": null,
            "order": null,
            "_view_module_version": "1.2.0",
            "grid_template_areas": null,
            "object_position": null,
            "object_fit": null,
            "grid_auto_columns": null,
            "margin": null,
            "display": null,
            "left": null
          }
        },
        "5d24bae0fa5e45a490419f6facb05977": {
          "model_module": "@jupyter-widgets/controls",
          "model_name": "DescriptionStyleModel",
          "model_module_version": "1.5.0",
          "state": {
            "_view_name": "StyleView",
            "_model_name": "DescriptionStyleModel",
            "description_width": "",
            "_view_module": "@jupyter-widgets/base",
            "_model_module_version": "1.5.0",
            "_view_count": null,
            "_view_module_version": "1.2.0",
            "_model_module": "@jupyter-widgets/controls"
          }
        },
        "6cf24a3ea582474098d55425cae95f3a": {
          "model_module": "@jupyter-widgets/base",
          "model_name": "LayoutModel",
          "model_module_version": "1.2.0",
          "state": {
            "_view_name": "LayoutView",
            "grid_template_rows": null,
            "right": null,
            "justify_content": null,
            "_view_module": "@jupyter-widgets/base",
            "overflow": null,
            "_model_module_version": "1.2.0",
            "_view_count": null,
            "flex_flow": null,
            "width": null,
            "min_width": null,
            "border": null,
            "align_items": null,
            "bottom": null,
            "_model_module": "@jupyter-widgets/base",
            "top": null,
            "grid_column": null,
            "overflow_y": null,
            "overflow_x": null,
            "grid_auto_flow": null,
            "grid_area": null,
            "grid_template_columns": null,
            "flex": null,
            "_model_name": "LayoutModel",
            "justify_items": null,
            "grid_row": null,
            "max_height": null,
            "align_content": null,
            "visibility": null,
            "align_self": null,
            "height": null,
            "min_height": null,
            "padding": null,
            "grid_auto_rows": null,
            "grid_gap": null,
            "max_width": null,
            "order": null,
            "_view_module_version": "1.2.0",
            "grid_template_areas": null,
            "object_position": null,
            "object_fit": null,
            "grid_auto_columns": null,
            "margin": null,
            "display": null,
            "left": null
          }
        },
        "cf5f8ed43c9e47079f41383095b4e2a0": {
          "model_module": "@jupyter-widgets/controls",
          "model_name": "HBoxModel",
          "model_module_version": "1.5.0",
          "state": {
            "_view_name": "HBoxView",
            "_dom_classes": [],
            "_model_name": "HBoxModel",
            "_view_module": "@jupyter-widgets/controls",
            "_model_module_version": "1.5.0",
            "_view_count": null,
            "_view_module_version": "1.5.0",
            "box_style": "",
            "layout": "IPY_MODEL_6b1c10b4de7e4a798a49523f0389eea7",
            "_model_module": "@jupyter-widgets/controls",
            "children": [
              "IPY_MODEL_b3edce211dec42618df5512c44883573",
              "IPY_MODEL_d3fa121c59ca453eae18fc7de3dd7356"
            ]
          }
        },
        "6b1c10b4de7e4a798a49523f0389eea7": {
          "model_module": "@jupyter-widgets/base",
          "model_name": "LayoutModel",
          "model_module_version": "1.2.0",
          "state": {
            "_view_name": "LayoutView",
            "grid_template_rows": null,
            "right": null,
            "justify_content": null,
            "_view_module": "@jupyter-widgets/base",
            "overflow": null,
            "_model_module_version": "1.2.0",
            "_view_count": null,
            "flex_flow": null,
            "width": null,
            "min_width": null,
            "border": null,
            "align_items": null,
            "bottom": null,
            "_model_module": "@jupyter-widgets/base",
            "top": null,
            "grid_column": null,
            "overflow_y": null,
            "overflow_x": null,
            "grid_auto_flow": null,
            "grid_area": null,
            "grid_template_columns": null,
            "flex": null,
            "_model_name": "LayoutModel",
            "justify_items": null,
            "grid_row": null,
            "max_height": null,
            "align_content": null,
            "visibility": null,
            "align_self": null,
            "height": null,
            "min_height": null,
            "padding": null,
            "grid_auto_rows": null,
            "grid_gap": null,
            "max_width": null,
            "order": null,
            "_view_module_version": "1.2.0",
            "grid_template_areas": null,
            "object_position": null,
            "object_fit": null,
            "grid_auto_columns": null,
            "margin": null,
            "display": null,
            "left": null
          }
        },
        "b3edce211dec42618df5512c44883573": {
          "model_module": "@jupyter-widgets/controls",
          "model_name": "FloatProgressModel",
          "model_module_version": "1.5.0",
          "state": {
            "_view_name": "ProgressView",
            "style": "IPY_MODEL_1fb50b28ec8f4b27aaf0b45cfd56be53",
            "_dom_classes": [],
            "description": "Downloading: 100%",
            "_model_name": "FloatProgressModel",
            "bar_style": "success",
            "max": 466062,
            "_view_module": "@jupyter-widgets/controls",
            "_model_module_version": "1.5.0",
            "value": 466062,
            "_view_count": null,
            "_view_module_version": "1.5.0",
            "orientation": "horizontal",
            "min": 0,
            "description_tooltip": null,
            "_model_module": "@jupyter-widgets/controls",
            "layout": "IPY_MODEL_22e4dce6f7e04122841204ef90e09092"
          }
        },
        "d3fa121c59ca453eae18fc7de3dd7356": {
          "model_module": "@jupyter-widgets/controls",
          "model_name": "HTMLModel",
          "model_module_version": "1.5.0",
          "state": {
            "_view_name": "HTMLView",
            "style": "IPY_MODEL_55c5e5d1da114e858f73cedd6fe5ac5b",
            "_dom_classes": [],
            "description": "",
            "_model_name": "HTMLModel",
            "placeholder": "​",
            "_view_module": "@jupyter-widgets/controls",
            "_model_module_version": "1.5.0",
            "value": " 466k/466k [00:00&lt;00:00, 5.39MB/s]",
            "_view_count": null,
            "_view_module_version": "1.5.0",
            "description_tooltip": null,
            "_model_module": "@jupyter-widgets/controls",
            "layout": "IPY_MODEL_bfd93b14139743159ef665aec2e0eadc"
          }
        },
        "1fb50b28ec8f4b27aaf0b45cfd56be53": {
          "model_module": "@jupyter-widgets/controls",
          "model_name": "ProgressStyleModel",
          "model_module_version": "1.5.0",
          "state": {
            "_view_name": "StyleView",
            "_model_name": "ProgressStyleModel",
            "description_width": "initial",
            "_view_module": "@jupyter-widgets/base",
            "_model_module_version": "1.5.0",
            "_view_count": null,
            "_view_module_version": "1.2.0",
            "bar_color": null,
            "_model_module": "@jupyter-widgets/controls"
          }
        },
        "22e4dce6f7e04122841204ef90e09092": {
          "model_module": "@jupyter-widgets/base",
          "model_name": "LayoutModel",
          "model_module_version": "1.2.0",
          "state": {
            "_view_name": "LayoutView",
            "grid_template_rows": null,
            "right": null,
            "justify_content": null,
            "_view_module": "@jupyter-widgets/base",
            "overflow": null,
            "_model_module_version": "1.2.0",
            "_view_count": null,
            "flex_flow": null,
            "width": null,
            "min_width": null,
            "border": null,
            "align_items": null,
            "bottom": null,
            "_model_module": "@jupyter-widgets/base",
            "top": null,
            "grid_column": null,
            "overflow_y": null,
            "overflow_x": null,
            "grid_auto_flow": null,
            "grid_area": null,
            "grid_template_columns": null,
            "flex": null,
            "_model_name": "LayoutModel",
            "justify_items": null,
            "grid_row": null,
            "max_height": null,
            "align_content": null,
            "visibility": null,
            "align_self": null,
            "height": null,
            "min_height": null,
            "padding": null,
            "grid_auto_rows": null,
            "grid_gap": null,
            "max_width": null,
            "order": null,
            "_view_module_version": "1.2.0",
            "grid_template_areas": null,
            "object_position": null,
            "object_fit": null,
            "grid_auto_columns": null,
            "margin": null,
            "display": null,
            "left": null
          }
        },
        "55c5e5d1da114e858f73cedd6fe5ac5b": {
          "model_module": "@jupyter-widgets/controls",
          "model_name": "DescriptionStyleModel",
          "model_module_version": "1.5.0",
          "state": {
            "_view_name": "StyleView",
            "_model_name": "DescriptionStyleModel",
            "description_width": "",
            "_view_module": "@jupyter-widgets/base",
            "_model_module_version": "1.5.0",
            "_view_count": null,
            "_view_module_version": "1.2.0",
            "_model_module": "@jupyter-widgets/controls"
          }
        },
        "bfd93b14139743159ef665aec2e0eadc": {
          "model_module": "@jupyter-widgets/base",
          "model_name": "LayoutModel",
          "model_module_version": "1.2.0",
          "state": {
            "_view_name": "LayoutView",
            "grid_template_rows": null,
            "right": null,
            "justify_content": null,
            "_view_module": "@jupyter-widgets/base",
            "overflow": null,
            "_model_module_version": "1.2.0",
            "_view_count": null,
            "flex_flow": null,
            "width": null,
            "min_width": null,
            "border": null,
            "align_items": null,
            "bottom": null,
            "_model_module": "@jupyter-widgets/base",
            "top": null,
            "grid_column": null,
            "overflow_y": null,
            "overflow_x": null,
            "grid_auto_flow": null,
            "grid_area": null,
            "grid_template_columns": null,
            "flex": null,
            "_model_name": "LayoutModel",
            "justify_items": null,
            "grid_row": null,
            "max_height": null,
            "align_content": null,
            "visibility": null,
            "align_self": null,
            "height": null,
            "min_height": null,
            "padding": null,
            "grid_auto_rows": null,
            "grid_gap": null,
            "max_width": null,
            "order": null,
            "_view_module_version": "1.2.0",
            "grid_template_areas": null,
            "object_position": null,
            "object_fit": null,
            "grid_auto_columns": null,
            "margin": null,
            "display": null,
            "left": null
          }
        },
        "382c6b1ade7d4a44bb8df300aa9e9653": {
          "model_module": "@jupyter-widgets/controls",
          "model_name": "HBoxModel",
          "model_module_version": "1.5.0",
          "state": {
            "_view_name": "HBoxView",
            "_dom_classes": [],
            "_model_name": "HBoxModel",
            "_view_module": "@jupyter-widgets/controls",
            "_model_module_version": "1.5.0",
            "_view_count": null,
            "_view_module_version": "1.5.0",
            "box_style": "",
            "layout": "IPY_MODEL_cc2a6e88878b426f89b10f6427e69d22",
            "_model_module": "@jupyter-widgets/controls",
            "children": [
              "IPY_MODEL_de57701b4c254e0fafb1ab8fdba86d1d",
              "IPY_MODEL_d828e642b10b43b2aade464dc88e41bb"
            ]
          }
        },
        "cc2a6e88878b426f89b10f6427e69d22": {
          "model_module": "@jupyter-widgets/base",
          "model_name": "LayoutModel",
          "model_module_version": "1.2.0",
          "state": {
            "_view_name": "LayoutView",
            "grid_template_rows": null,
            "right": null,
            "justify_content": null,
            "_view_module": "@jupyter-widgets/base",
            "overflow": null,
            "_model_module_version": "1.2.0",
            "_view_count": null,
            "flex_flow": null,
            "width": null,
            "min_width": null,
            "border": null,
            "align_items": null,
            "bottom": null,
            "_model_module": "@jupyter-widgets/base",
            "top": null,
            "grid_column": null,
            "overflow_y": null,
            "overflow_x": null,
            "grid_auto_flow": null,
            "grid_area": null,
            "grid_template_columns": null,
            "flex": null,
            "_model_name": "LayoutModel",
            "justify_items": null,
            "grid_row": null,
            "max_height": null,
            "align_content": null,
            "visibility": null,
            "align_self": null,
            "height": null,
            "min_height": null,
            "padding": null,
            "grid_auto_rows": null,
            "grid_gap": null,
            "max_width": null,
            "order": null,
            "_view_module_version": "1.2.0",
            "grid_template_areas": null,
            "object_position": null,
            "object_fit": null,
            "grid_auto_columns": null,
            "margin": null,
            "display": null,
            "left": null
          }
        },
        "de57701b4c254e0fafb1ab8fdba86d1d": {
          "model_module": "@jupyter-widgets/controls",
          "model_name": "FloatProgressModel",
          "model_module_version": "1.5.0",
          "state": {
            "_view_name": "ProgressView",
            "style": "IPY_MODEL_fd52dd11ad4949f39e9e3397b18e8e15",
            "_dom_classes": [],
            "description": "Downloading: 100%",
            "_model_name": "FloatProgressModel",
            "bar_style": "success",
            "max": 571,
            "_view_module": "@jupyter-widgets/controls",
            "_model_module_version": "1.5.0",
            "value": 571,
            "_view_count": null,
            "_view_module_version": "1.5.0",
            "orientation": "horizontal",
            "min": 0,
            "description_tooltip": null,
            "_model_module": "@jupyter-widgets/controls",
            "layout": "IPY_MODEL_aa12d43544b849aca9ec31318f180baa"
          }
        },
        "d828e642b10b43b2aade464dc88e41bb": {
          "model_module": "@jupyter-widgets/controls",
          "model_name": "HTMLModel",
          "model_module_version": "1.5.0",
          "state": {
            "_view_name": "HTMLView",
            "style": "IPY_MODEL_075be3906e454ee2834161109d4df57e",
            "_dom_classes": [],
            "description": "",
            "_model_name": "HTMLModel",
            "placeholder": "​",
            "_view_module": "@jupyter-widgets/controls",
            "_model_module_version": "1.5.0",
            "value": " 571/571 [00:00&lt;00:00, 2.64kB/s]",
            "_view_count": null,
            "_view_module_version": "1.5.0",
            "description_tooltip": null,
            "_model_module": "@jupyter-widgets/controls",
            "layout": "IPY_MODEL_d63cb3dc70f14880b4c252c84db989b2"
          }
        },
        "fd52dd11ad4949f39e9e3397b18e8e15": {
          "model_module": "@jupyter-widgets/controls",
          "model_name": "ProgressStyleModel",
          "model_module_version": "1.5.0",
          "state": {
            "_view_name": "StyleView",
            "_model_name": "ProgressStyleModel",
            "description_width": "initial",
            "_view_module": "@jupyter-widgets/base",
            "_model_module_version": "1.5.0",
            "_view_count": null,
            "_view_module_version": "1.2.0",
            "bar_color": null,
            "_model_module": "@jupyter-widgets/controls"
          }
        },
        "aa12d43544b849aca9ec31318f180baa": {
          "model_module": "@jupyter-widgets/base",
          "model_name": "LayoutModel",
          "model_module_version": "1.2.0",
          "state": {
            "_view_name": "LayoutView",
            "grid_template_rows": null,
            "right": null,
            "justify_content": null,
            "_view_module": "@jupyter-widgets/base",
            "overflow": null,
            "_model_module_version": "1.2.0",
            "_view_count": null,
            "flex_flow": null,
            "width": null,
            "min_width": null,
            "border": null,
            "align_items": null,
            "bottom": null,
            "_model_module": "@jupyter-widgets/base",
            "top": null,
            "grid_column": null,
            "overflow_y": null,
            "overflow_x": null,
            "grid_auto_flow": null,
            "grid_area": null,
            "grid_template_columns": null,
            "flex": null,
            "_model_name": "LayoutModel",
            "justify_items": null,
            "grid_row": null,
            "max_height": null,
            "align_content": null,
            "visibility": null,
            "align_self": null,
            "height": null,
            "min_height": null,
            "padding": null,
            "grid_auto_rows": null,
            "grid_gap": null,
            "max_width": null,
            "order": null,
            "_view_module_version": "1.2.0",
            "grid_template_areas": null,
            "object_position": null,
            "object_fit": null,
            "grid_auto_columns": null,
            "margin": null,
            "display": null,
            "left": null
          }
        },
        "075be3906e454ee2834161109d4df57e": {
          "model_module": "@jupyter-widgets/controls",
          "model_name": "DescriptionStyleModel",
          "model_module_version": "1.5.0",
          "state": {
            "_view_name": "StyleView",
            "_model_name": "DescriptionStyleModel",
            "description_width": "",
            "_view_module": "@jupyter-widgets/base",
            "_model_module_version": "1.5.0",
            "_view_count": null,
            "_view_module_version": "1.2.0",
            "_model_module": "@jupyter-widgets/controls"
          }
        },
        "d63cb3dc70f14880b4c252c84db989b2": {
          "model_module": "@jupyter-widgets/base",
          "model_name": "LayoutModel",
          "model_module_version": "1.2.0",
          "state": {
            "_view_name": "LayoutView",
            "grid_template_rows": null,
            "right": null,
            "justify_content": null,
            "_view_module": "@jupyter-widgets/base",
            "overflow": null,
            "_model_module_version": "1.2.0",
            "_view_count": null,
            "flex_flow": null,
            "width": null,
            "min_width": null,
            "border": null,
            "align_items": null,
            "bottom": null,
            "_model_module": "@jupyter-widgets/base",
            "top": null,
            "grid_column": null,
            "overflow_y": null,
            "overflow_x": null,
            "grid_auto_flow": null,
            "grid_area": null,
            "grid_template_columns": null,
            "flex": null,
            "_model_name": "LayoutModel",
            "justify_items": null,
            "grid_row": null,
            "max_height": null,
            "align_content": null,
            "visibility": null,
            "align_self": null,
            "height": null,
            "min_height": null,
            "padding": null,
            "grid_auto_rows": null,
            "grid_gap": null,
            "max_width": null,
            "order": null,
            "_view_module_version": "1.2.0",
            "grid_template_areas": null,
            "object_position": null,
            "object_fit": null,
            "grid_auto_columns": null,
            "margin": null,
            "display": null,
            "left": null
          }
        },
        "526dfef834a14888af8bcdcb9a4af70f": {
          "model_module": "@jupyter-widgets/controls",
          "model_name": "HBoxModel",
          "model_module_version": "1.5.0",
          "state": {
            "_view_name": "HBoxView",
            "_dom_classes": [],
            "_model_name": "HBoxModel",
            "_view_module": "@jupyter-widgets/controls",
            "_model_module_version": "1.5.0",
            "_view_count": null,
            "_view_module_version": "1.5.0",
            "box_style": "",
            "layout": "IPY_MODEL_44cb717ee02f4cb69b9cc0a16172e1e0",
            "_model_module": "@jupyter-widgets/controls",
            "children": [
              "IPY_MODEL_c165a68e2dae4e9882ea1071110bc33c",
              "IPY_MODEL_a80788e33cc44812b11ac023515224d2"
            ]
          }
        },
        "44cb717ee02f4cb69b9cc0a16172e1e0": {
          "model_module": "@jupyter-widgets/base",
          "model_name": "LayoutModel",
          "model_module_version": "1.2.0",
          "state": {
            "_view_name": "LayoutView",
            "grid_template_rows": null,
            "right": null,
            "justify_content": null,
            "_view_module": "@jupyter-widgets/base",
            "overflow": null,
            "_model_module_version": "1.2.0",
            "_view_count": null,
            "flex_flow": null,
            "width": null,
            "min_width": null,
            "border": null,
            "align_items": null,
            "bottom": null,
            "_model_module": "@jupyter-widgets/base",
            "top": null,
            "grid_column": null,
            "overflow_y": null,
            "overflow_x": null,
            "grid_auto_flow": null,
            "grid_area": null,
            "grid_template_columns": null,
            "flex": null,
            "_model_name": "LayoutModel",
            "justify_items": null,
            "grid_row": null,
            "max_height": null,
            "align_content": null,
            "visibility": null,
            "align_self": null,
            "height": null,
            "min_height": null,
            "padding": null,
            "grid_auto_rows": null,
            "grid_gap": null,
            "max_width": null,
            "order": null,
            "_view_module_version": "1.2.0",
            "grid_template_areas": null,
            "object_position": null,
            "object_fit": null,
            "grid_auto_columns": null,
            "margin": null,
            "display": null,
            "left": null
          }
        },
        "c165a68e2dae4e9882ea1071110bc33c": {
          "model_module": "@jupyter-widgets/controls",
          "model_name": "FloatProgressModel",
          "model_module_version": "1.5.0",
          "state": {
            "_view_name": "ProgressView",
            "style": "IPY_MODEL_dd39393f03b946688ce4dbf823362930",
            "_dom_classes": [],
            "description": "Downloading: 100%",
            "_model_name": "FloatProgressModel",
            "bar_style": "success",
            "max": 1344997306,
            "_view_module": "@jupyter-widgets/controls",
            "_model_module_version": "1.5.0",
            "value": 1344997306,
            "_view_count": null,
            "_view_module_version": "1.5.0",
            "orientation": "horizontal",
            "min": 0,
            "description_tooltip": null,
            "_model_module": "@jupyter-widgets/controls",
            "layout": "IPY_MODEL_8c08c68095164a9e95f403822d1505ef"
          }
        },
        "a80788e33cc44812b11ac023515224d2": {
          "model_module": "@jupyter-widgets/controls",
          "model_name": "HTMLModel",
          "model_module_version": "1.5.0",
          "state": {
            "_view_name": "HTMLView",
            "style": "IPY_MODEL_06551819785f46a3b0a83ea9e755dae1",
            "_dom_classes": [],
            "description": "",
            "_model_name": "HTMLModel",
            "placeholder": "​",
            "_view_module": "@jupyter-widgets/controls",
            "_model_module_version": "1.5.0",
            "value": " 1.34G/1.34G [00:26&lt;00:00, 51.2MB/s]",
            "_view_count": null,
            "_view_module_version": "1.5.0",
            "description_tooltip": null,
            "_model_module": "@jupyter-widgets/controls",
            "layout": "IPY_MODEL_0fc75f77d7ab4ed3866b133f34d9a717"
          }
        },
        "dd39393f03b946688ce4dbf823362930": {
          "model_module": "@jupyter-widgets/controls",
          "model_name": "ProgressStyleModel",
          "model_module_version": "1.5.0",
          "state": {
            "_view_name": "StyleView",
            "_model_name": "ProgressStyleModel",
            "description_width": "initial",
            "_view_module": "@jupyter-widgets/base",
            "_model_module_version": "1.5.0",
            "_view_count": null,
            "_view_module_version": "1.2.0",
            "bar_color": null,
            "_model_module": "@jupyter-widgets/controls"
          }
        },
        "8c08c68095164a9e95f403822d1505ef": {
          "model_module": "@jupyter-widgets/base",
          "model_name": "LayoutModel",
          "model_module_version": "1.2.0",
          "state": {
            "_view_name": "LayoutView",
            "grid_template_rows": null,
            "right": null,
            "justify_content": null,
            "_view_module": "@jupyter-widgets/base",
            "overflow": null,
            "_model_module_version": "1.2.0",
            "_view_count": null,
            "flex_flow": null,
            "width": null,
            "min_width": null,
            "border": null,
            "align_items": null,
            "bottom": null,
            "_model_module": "@jupyter-widgets/base",
            "top": null,
            "grid_column": null,
            "overflow_y": null,
            "overflow_x": null,
            "grid_auto_flow": null,
            "grid_area": null,
            "grid_template_columns": null,
            "flex": null,
            "_model_name": "LayoutModel",
            "justify_items": null,
            "grid_row": null,
            "max_height": null,
            "align_content": null,
            "visibility": null,
            "align_self": null,
            "height": null,
            "min_height": null,
            "padding": null,
            "grid_auto_rows": null,
            "grid_gap": null,
            "max_width": null,
            "order": null,
            "_view_module_version": "1.2.0",
            "grid_template_areas": null,
            "object_position": null,
            "object_fit": null,
            "grid_auto_columns": null,
            "margin": null,
            "display": null,
            "left": null
          }
        },
        "06551819785f46a3b0a83ea9e755dae1": {
          "model_module": "@jupyter-widgets/controls",
          "model_name": "DescriptionStyleModel",
          "model_module_version": "1.5.0",
          "state": {
            "_view_name": "StyleView",
            "_model_name": "DescriptionStyleModel",
            "description_width": "",
            "_view_module": "@jupyter-widgets/base",
            "_model_module_version": "1.5.0",
            "_view_count": null,
            "_view_module_version": "1.2.0",
            "_model_module": "@jupyter-widgets/controls"
          }
        },
        "0fc75f77d7ab4ed3866b133f34d9a717": {
          "model_module": "@jupyter-widgets/base",
          "model_name": "LayoutModel",
          "model_module_version": "1.2.0",
          "state": {
            "_view_name": "LayoutView",
            "grid_template_rows": null,
            "right": null,
            "justify_content": null,
            "_view_module": "@jupyter-widgets/base",
            "overflow": null,
            "_model_module_version": "1.2.0",
            "_view_count": null,
            "flex_flow": null,
            "width": null,
            "min_width": null,
            "border": null,
            "align_items": null,
            "bottom": null,
            "_model_module": "@jupyter-widgets/base",
            "top": null,
            "grid_column": null,
            "overflow_y": null,
            "overflow_x": null,
            "grid_auto_flow": null,
            "grid_area": null,
            "grid_template_columns": null,
            "flex": null,
            "_model_name": "LayoutModel",
            "justify_items": null,
            "grid_row": null,
            "max_height": null,
            "align_content": null,
            "visibility": null,
            "align_self": null,
            "height": null,
            "min_height": null,
            "padding": null,
            "grid_auto_rows": null,
            "grid_gap": null,
            "max_width": null,
            "order": null,
            "_view_module_version": "1.2.0",
            "grid_template_areas": null,
            "object_position": null,
            "object_fit": null,
            "grid_auto_columns": null,
            "margin": null,
            "display": null,
            "left": null
          }
        }
      }
    }
  },
  "cells": [
    {
      "cell_type": "markdown",
      "metadata": {
        "id": "RT9SxDbFWHmZ"
      },
      "source": [
        "## **IMPORT DATA AND PRE-PROCESSING**"
      ]
    },
    {
      "cell_type": "code",
      "metadata": {
        "id": "Gx_NsUCFgVCt"
      },
      "source": [
        "import pandas as pd\n",
        "#Twitter15 = pd.read_csv('Twitter15.csv',delimiter='\\t')\n",
        "#Twitter16 = pd.read_csv('Twitter16.csv',delimiter='\\t')"
      ],
      "execution_count": null,
      "outputs": []
    },
    {
      "cell_type": "code",
      "metadata": {
        "id": "C7AsObnNENSr",
        "colab": {
          "base_uri": "https://localhost:8080/",
          "height": 206
        },
        "outputId": "08087b08-ca85-4083-d2fb-caeaa7b0c975"
      },
      "source": [
        "Twitter15.head()"
      ],
      "execution_count": null,
      "outputs": [
        {
          "output_type": "execute_result",
          "data": {
            "text/html": [
              "<div>\n",
              "<style scoped>\n",
              "    .dataframe tbody tr th:only-of-type {\n",
              "        vertical-align: middle;\n",
              "    }\n",
              "\n",
              "    .dataframe tbody tr th {\n",
              "        vertical-align: top;\n",
              "    }\n",
              "\n",
              "    .dataframe thead th {\n",
              "        text-align: right;\n",
              "    }\n",
              "</style>\n",
              "<table border=\"1\" class=\"dataframe\">\n",
              "  <thead>\n",
              "    <tr style=\"text-align: right;\">\n",
              "      <th></th>\n",
              "      <th>tweet</th>\n",
              "      <th>label</th>\n",
              "    </tr>\n",
              "  </thead>\n",
              "  <tbody>\n",
              "    <tr>\n",
              "      <th>0</th>\n",
              "      <td>🔥ca kkk grand wizard 🔥 endorses @hillaryclinto...</td>\n",
              "      <td>unverified</td>\n",
              "    </tr>\n",
              "    <tr>\n",
              "      <th>1</th>\n",
              "      <td>an open letter to trump voters from his top st...</td>\n",
              "      <td>unverified</td>\n",
              "    </tr>\n",
              "    <tr>\n",
              "      <th>2</th>\n",
              "      <td>america is a nation of second chances —@potus ...</td>\n",
              "      <td>non-rumor</td>\n",
              "    </tr>\n",
              "    <tr>\n",
              "      <th>3</th>\n",
              "      <td>brandon marshall visits and offers advice, sup...</td>\n",
              "      <td>non-rumor</td>\n",
              "    </tr>\n",
              "    <tr>\n",
              "      <th>4</th>\n",
              "      <td>rip elly may clampett: so sad to learn #beverl...</td>\n",
              "      <td>true</td>\n",
              "    </tr>\n",
              "  </tbody>\n",
              "</table>\n",
              "</div>"
            ],
            "text/plain": [
              "                                               tweet       label\n",
              "0  🔥ca kkk grand wizard 🔥 endorses @hillaryclinto...  unverified\n",
              "1  an open letter to trump voters from his top st...  unverified\n",
              "2  america is a nation of second chances —@potus ...   non-rumor\n",
              "3  brandon marshall visits and offers advice, sup...   non-rumor\n",
              "4  rip elly may clampett: so sad to learn #beverl...        true"
            ]
          },
          "metadata": {
            "tags": []
          },
          "execution_count": 3
        }
      ]
    },
    {
      "cell_type": "code",
      "metadata": {
        "colab": {
          "base_uri": "https://localhost:8080/",
          "height": 206
        },
        "id": "OKA9xeCyGDcq",
        "outputId": "15e8a5ef-cfe8-44e0-87bd-349fa0e77de9"
      },
      "source": [
        "Twitter16.head()"
      ],
      "execution_count": null,
      "outputs": [
        {
          "output_type": "execute_result",
          "data": {
            "text/html": [
              "<div>\n",
              "<style scoped>\n",
              "    .dataframe tbody tr th:only-of-type {\n",
              "        vertical-align: middle;\n",
              "    }\n",
              "\n",
              "    .dataframe tbody tr th {\n",
              "        vertical-align: top;\n",
              "    }\n",
              "\n",
              "    .dataframe thead th {\n",
              "        text-align: right;\n",
              "    }\n",
              "</style>\n",
              "<table border=\"1\" class=\"dataframe\">\n",
              "  <thead>\n",
              "    <tr style=\"text-align: right;\">\n",
              "      <th></th>\n",
              "      <th>tweet</th>\n",
              "      <th>label</th>\n",
              "    </tr>\n",
              "  </thead>\n",
              "  <tbody>\n",
              "    <tr>\n",
              "      <th>0</th>\n",
              "      <td>correct predictions in back to the future ii URL</td>\n",
              "      <td>false</td>\n",
              "    </tr>\n",
              "    <tr>\n",
              "      <th>1</th>\n",
              "      <td>.@whitehouse in rainbow colors for #scotusmarr...</td>\n",
              "      <td>true</td>\n",
              "    </tr>\n",
              "    <tr>\n",
              "      <th>2</th>\n",
              "      <td>cops bought the alleged church shooter burger ...</td>\n",
              "      <td>false</td>\n",
              "    </tr>\n",
              "    <tr>\n",
              "      <th>3</th>\n",
              "      <td>🔥ca kkk grand wizard 🔥 endorses @hillaryclinto...</td>\n",
              "      <td>unverified</td>\n",
              "    </tr>\n",
              "    <tr>\n",
              "      <th>4</th>\n",
              "      <td>an open letter to trump voters from his top st...</td>\n",
              "      <td>unverified</td>\n",
              "    </tr>\n",
              "  </tbody>\n",
              "</table>\n",
              "</div>"
            ],
            "text/plain": [
              "                                               tweet       label\n",
              "0   correct predictions in back to the future ii URL       false\n",
              "1  .@whitehouse in rainbow colors for #scotusmarr...        true\n",
              "2  cops bought the alleged church shooter burger ...       false\n",
              "3  🔥ca kkk grand wizard 🔥 endorses @hillaryclinto...  unverified\n",
              "4  an open letter to trump voters from his top st...  unverified"
            ]
          },
          "metadata": {
            "tags": []
          },
          "execution_count": 4
        }
      ]
    },
    {
      "cell_type": "code",
      "metadata": {
        "colab": {
          "base_uri": "https://localhost:8080/"
        },
        "id": "qOBOA6bRDRCi",
        "outputId": "45beb3d7-37c7-464f-e5e3-67da0962a308"
      },
      "source": [
        "Twitter15['label'].value_counts(normalize=True) * 100"
      ],
      "execution_count": null,
      "outputs": [
        {
          "output_type": "execute_result",
          "data": {
            "text/plain": [
              "non-rumor     25.100671\n",
              "unverified    25.100671\n",
              "true          24.966443\n",
              "false         24.832215\n",
              "Name: label, dtype: float64"
            ]
          },
          "metadata": {
            "tags": []
          },
          "execution_count": 5
        }
      ]
    },
    {
      "cell_type": "code",
      "metadata": {
        "colab": {
          "base_uri": "https://localhost:8080/"
        },
        "id": "21nr-dqZEU36",
        "outputId": "9951a2d5-85b4-4454-8b05-7075f366b318"
      },
      "source": [
        "Twitter16['label'].value_counts(normalize=True) * 100"
      ],
      "execution_count": null,
      "outputs": [
        {
          "output_type": "execute_result",
          "data": {
            "text/plain": [
              "true          25.305623\n",
              "non-rumor     25.061125\n",
              "false         25.061125\n",
              "unverified    24.572127\n",
              "Name: label, dtype: float64"
            ]
          },
          "metadata": {
            "tags": []
          },
          "execution_count": 6
        }
      ]
    },
    {
      "cell_type": "code",
      "metadata": {
        "colab": {
          "base_uri": "https://localhost:8080/"
        },
        "id": "jV-WKn4c9NWx",
        "outputId": "87755f53-6ad9-4c86-89a9-64670812d27c"
      },
      "source": [
        "!pip install emot"
      ],
      "execution_count": null,
      "outputs": [
        {
          "output_type": "stream",
          "text": [
            "Collecting emot\n",
            "  Downloading https://files.pythonhosted.org/packages/49/07/20001ade19873de611b7b66a4d5e5aabbf190d65abea337d5deeaa2bc3de/emot-2.1-py3-none-any.whl\n",
            "Installing collected packages: emot\n",
            "Successfully installed emot-2.1\n"
          ],
          "name": "stdout"
        }
      ]
    },
    {
      "cell_type": "code",
      "metadata": {
        "id": "VfnHkze39PUb"
      },
      "source": [
        "#To convert emojis and emoticons to words\n",
        "from emot.emo_unicode import UNICODE_EMO\n",
        "def convert_emojis(text):\n",
        "    for emot in UNICODE_EMO:\n",
        "        text = text.replace(emot, \"_\".join(UNICODE_EMO[emot].replace(\",\",\"\").replace(\":\",\"\").split()))\n",
        "    return text"
      ],
      "execution_count": null,
      "outputs": []
    },
    {
      "cell_type": "code",
      "metadata": {
        "id": "nd7kJ77-F7qi"
      },
      "source": [
        "def puntuation_removal(tweets):\n",
        "  #punctuation removal and converting to lowercase\n",
        "  punct = '''!()-[]{};:'\\,<>/=?\"“”@#$%^&*_~�—.'''   \n",
        "  punct_removed=\"\"\n",
        "  for sentence in tweets:\n",
        "    for letter in sentence:\n",
        "      if letter not in punct:\n",
        "        punct_removed= punct_removed + letter\n",
        "  return punct_removed"
      ],
      "execution_count": null,
      "outputs": []
    },
    {
      "cell_type": "code",
      "metadata": {
        "colab": {
          "base_uri": "https://localhost:8080/"
        },
        "id": "BX43OqGCINcJ",
        "outputId": "7cf514e3-e45e-4f56-84f9-dbb7ba0d903b"
      },
      "source": [
        "import nltk\n",
        "from nltk.corpus import stopwords\n",
        "nltk.download('stopwords')"
      ],
      "execution_count": null,
      "outputs": [
        {
          "output_type": "stream",
          "text": [
            "[nltk_data] Downloading package stopwords to /root/nltk_data...\n",
            "[nltk_data]   Unzipping corpora/stopwords.zip.\n"
          ],
          "name": "stdout"
        },
        {
          "output_type": "execute_result",
          "data": {
            "text/plain": [
              "True"
            ]
          },
          "metadata": {
            "tags": []
          },
          "execution_count": 4
        }
      ]
    },
    {
      "cell_type": "code",
      "metadata": {
        "id": "cMTeMNb2fn68"
      },
      "source": [
        "#Remove stopwords\n",
        "def stopwords_removal(tweets):\n",
        "  stop_words = stopwords.words('english')\n",
        "  filtered =[]\n",
        "  for word in tweets.split():\n",
        "    if word not in stop_words:\n",
        "      word = word.lower()\n",
        "      filtered.append(word)\n",
        "  return ' '.join(filtered)"
      ],
      "execution_count": null,
      "outputs": []
    },
    {
      "cell_type": "code",
      "metadata": {
        "colab": {
          "base_uri": "https://localhost:8080/"
        },
        "id": "5PwJFvJN74_-",
        "outputId": "6399e6f1-b0b0-467a-ffa4-2fc4ba1d2e70"
      },
      "source": [
        "from nltk.stem import WordNetLemmatizer\n",
        "nltk.download('wordnet')"
      ],
      "execution_count": null,
      "outputs": [
        {
          "output_type": "stream",
          "text": [
            "[nltk_data] Downloading package wordnet to /root/nltk_data...\n",
            "[nltk_data]   Unzipping corpora/wordnet.zip.\n"
          ],
          "name": "stdout"
        },
        {
          "output_type": "execute_result",
          "data": {
            "text/plain": [
              "True"
            ]
          },
          "metadata": {
            "tags": []
          },
          "execution_count": 6
        }
      ]
    },
    {
      "cell_type": "code",
      "metadata": {
        "id": "qXB5xqvB6KYh"
      },
      "source": [
        "#Lemmatize to convert words to there root form\n",
        "def lemmatize(tweets):\n",
        "  lemmatizer=WordNetLemmatizer()\n",
        "  filtered =[]\n",
        "  for each_word in tweets.split():\n",
        "    filtered.append(lemmatizer.lemmatize(each_word))\n",
        "  return ' '.join(filtered)"
      ],
      "execution_count": null,
      "outputs": []
    },
    {
      "cell_type": "code",
      "metadata": {
        "id": "OsnHNdOJYuJI"
      },
      "source": [
        "#Remove URL from tweets\n",
        "import re\n",
        "def remove_url(tweets):\n",
        "  patt = re.compile('(\\s*)URL(\\s*)')\n",
        "  tweets = patt.sub(' ',tweets)\n",
        "  return tweets"
      ],
      "execution_count": null,
      "outputs": []
    },
    {
      "cell_type": "code",
      "metadata": {
        "id": "BJqN-Pa1Fy8G"
      },
      "source": [
        "#Preprocessing\n",
        "def preprocessing(tweets):\n",
        "  tweets = puntuation_removal(tweets)\n",
        "  tweets = stopwords_removal(tweets)\n",
        "  tweets = lemmatize(tweets)\n",
        "  return tweets"
      ],
      "execution_count": null,
      "outputs": []
    },
    {
      "cell_type": "code",
      "metadata": {
        "colab": {
          "base_uri": "https://localhost:8080/",
          "height": 35
        },
        "id": "Xfg8SwX4c7wy",
        "outputId": "6c0f4dd0-edcb-4e9a-e0ca-66e66c4b4241"
      },
      "source": [
        "preprocessing(\"I am an employee of Oracle Corporation. Views expressed here are my own and not necessarily those of my employer.\")"
      ],
      "execution_count": null,
      "outputs": [
        {
          "output_type": "execute_result",
          "data": {
            "application/vnd.google.colaboratory.intrinsic+json": {
              "type": "string"
            },
            "text/plain": [
              "'i employee oracle corporation view expressed necessarily employer'"
            ]
          },
          "metadata": {
            "tags": []
          },
          "execution_count": 22
        }
      ]
    },
    {
      "cell_type": "code",
      "metadata": {
        "id": "zIyoB_v0paSG"
      },
      "source": [
        "for i in range(len(Twitter15['tweet'])-1):\n",
        "  Twitter15['tweet'][i] = preprocessing(Twitter15['tweet'][i])\n",
        "\n",
        "for i in range(len(Twitter16['tweet'])-1):\n",
        "  Twitter16['tweet'][i] = preprocessing(Twitter16['tweet'][i])"
      ],
      "execution_count": null,
      "outputs": []
    },
    {
      "cell_type": "code",
      "metadata": {
        "id": "Zf8H_qBir7SQ"
      },
      "source": [
        "from sklearn import preprocessing\n",
        "le = preprocessing.LabelEncoder()\n",
        "Twitter15['label'] = le.fit_transform(Twitter15['label'])\n",
        "Twitter16['label'] = le.fit_transform(Twitter16['label'])"
      ],
      "execution_count": null,
      "outputs": []
    },
    {
      "cell_type": "markdown",
      "metadata": {
        "id": "qXtv9W0YlqRI"
      },
      "source": [
        "## **LSTM WITH PRE-TRAINED GLOVE EMBEDDING**"
      ]
    },
    {
      "cell_type": "code",
      "metadata": {
        "id": "3YzmdUYI3lmO"
      },
      "source": [
        "from keras.layers import Dropout, Dense, Embedding, LSTM, Bidirectional\n",
        "import tensorflow as tf\n",
        "from tensorflow.keras import layers\n",
        "from tensorflow.keras import losses\n",
        "from keras.preprocessing.text import Tokenizer\n",
        "from keras.preprocessing.sequence import pad_sequences\n",
        "from keras.models import Sequential\n",
        "from keras.optimizers import Adam\n",
        "from keras.layers import Embedding, LSTM, Dense, SpatialDropout1D\n",
        "from sklearn.metrics import matthews_corrcoef, confusion_matrix\n",
        "from sklearn import metrics\n",
        "from sklearn.utils import shuffle\n",
        "import numpy as np\n",
        "import pickle\n",
        "import matplotlib.pyplot as plt\n",
        "import warnings\n",
        "import logging\n",
        "logging.basicConfig(level=logging.INFO)"
      ],
      "execution_count": null,
      "outputs": []
    },
    {
      "cell_type": "code",
      "metadata": {
        "colab": {
          "base_uri": "https://localhost:8080/"
        },
        "id": "TEIETzMG1MvC",
        "outputId": "b32b25aa-a30e-4c0b-cafc-642f3fd71def"
      },
      "source": [
        "!wget http://nlp.stanford.edu/data/glove.6B.zip"
      ],
      "execution_count": null,
      "outputs": [
        {
          "output_type": "stream",
          "text": [
            "--2021-04-29 16:16:30--  http://nlp.stanford.edu/data/glove.6B.zip\n",
            "Resolving nlp.stanford.edu (nlp.stanford.edu)... 171.64.67.140\n",
            "Connecting to nlp.stanford.edu (nlp.stanford.edu)|171.64.67.140|:80... connected.\n",
            "HTTP request sent, awaiting response... 302 Found\n",
            "Location: https://nlp.stanford.edu/data/glove.6B.zip [following]\n",
            "--2021-04-29 16:16:31--  https://nlp.stanford.edu/data/glove.6B.zip\n",
            "Connecting to nlp.stanford.edu (nlp.stanford.edu)|171.64.67.140|:443... connected.\n",
            "HTTP request sent, awaiting response... 301 Moved Permanently\n",
            "Location: http://downloads.cs.stanford.edu/nlp/data/glove.6B.zip [following]\n",
            "--2021-04-29 16:16:31--  http://downloads.cs.stanford.edu/nlp/data/glove.6B.zip\n",
            "Resolving downloads.cs.stanford.edu (downloads.cs.stanford.edu)... 171.64.64.22\n",
            "Connecting to downloads.cs.stanford.edu (downloads.cs.stanford.edu)|171.64.64.22|:80... connected.\n",
            "HTTP request sent, awaiting response... 200 OK\n",
            "Length: 862182613 (822M) [application/zip]\n",
            "Saving to: ‘glove.6B.zip’\n",
            "\n",
            "glove.6B.zip        100%[===================>] 822.24M  5.18MB/s    in 2m 40s  \n",
            "\n",
            "2021-04-29 16:19:11 (5.14 MB/s) - ‘glove.6B.zip’ saved [862182613/862182613]\n",
            "\n"
          ],
          "name": "stdout"
        }
      ]
    },
    {
      "cell_type": "code",
      "metadata": {
        "colab": {
          "base_uri": "https://localhost:8080/"
        },
        "id": "JfysNafo1Ue7",
        "outputId": "32ffe244-26e3-4d1a-d63b-4d6a382f2234"
      },
      "source": [
        "!unzip glove*.zip"
      ],
      "execution_count": null,
      "outputs": [
        {
          "output_type": "stream",
          "text": [
            "Archive:  glove.6B.zip\n",
            "  inflating: glove.6B.50d.txt        \n",
            "  inflating: glove.6B.100d.txt       \n",
            "  inflating: glove.6B.200d.txt       \n",
            "  inflating: glove.6B.300d.txt       \n"
          ],
          "name": "stdout"
        }
      ]
    },
    {
      "cell_type": "code",
      "metadata": {
        "id": "ZxBgB-i41oqj"
      },
      "source": [
        "def plot_graphs(history, string):\n",
        "  plt.plot(history.history[string])\n",
        "  plt.plot(history.history['val_'+string], '')\n",
        "  plt.xlabel(\"Epochs\")\n",
        "  plt.ylabel(string)\n",
        "  plt.legend([string, 'val_'+string])\n",
        "  plt.show()"
      ],
      "execution_count": null,
      "outputs": []
    },
    {
      "cell_type": "code",
      "metadata": {
        "id": "143piKHMMioq"
      },
      "source": [
        "def model_input(X_train, X_test,MAX_NB_WORDS=65000,MAX_SEQUENCE_LENGTH=500):\n",
        "    np.random.seed(7)\n",
        "    text = np.concatenate((X_train, X_test), axis=0)\n",
        "    text = np.array(text)\n",
        "    print(text.shape)\n",
        "\n",
        "    tokenizer = Tokenizer(num_words=MAX_NB_WORDS)\n",
        "    tokenizer.fit_on_texts(text)\n",
        "    sequences = tokenizer.texts_to_sequences(text)\n",
        "    word_index = tokenizer.word_index\n",
        "    text = pad_sequences(sequences, maxlen=MAX_SEQUENCE_LENGTH)\n",
        "    print('Found %s unique tokens.' % len(word_index))\n",
        "    \n",
        "    indices = np.arange(text.shape[0])\n",
        "    text = text[indices]\n",
        "    print(text.shape)\n",
        "\n",
        "    X_train_Glove = text[0:len(X_train), ]\n",
        "    X_test_Glove = text[len(X_train):, ]\n",
        "\n",
        "    embeddings_dict = {}\n",
        "    f = open(\"glove.6B.100d.txt\", encoding=\"utf8\")\n",
        "    for line in f:\n",
        "        values = line.split()\n",
        "        word = values[0]\n",
        "        try:\n",
        "            coefs = np.asarray(values[1:], dtype='float32')\n",
        "        except:\n",
        "            pass\n",
        "        embeddings_dict[word] = coefs\n",
        "    f.close()\n",
        "\n",
        "    print('Total %s word vectors.' % len(embeddings_dict))\n",
        "    return (X_train_Glove, X_test_Glove, word_index, embeddings_dict)"
      ],
      "execution_count": null,
      "outputs": []
    },
    {
      "cell_type": "code",
      "metadata": {
        "id": "U4PgqXpjMnXa"
      },
      "source": [
        "def build_lstm(word_index, embeddings_dict, nclasses, MAX_SEQUENCE_LENGTH=500, EMBEDDING_DIM=100, dropout=0.5):\n",
        "    # Initializing a sequential model\n",
        "    model = Sequential()\n",
        "    # Using embedding_dict to make the embedding matrix\n",
        "    embedding_matrix = np.random.random((len(word_index) + 1, EMBEDDING_DIM))\n",
        "    for word, i in word_index.items():\n",
        "        embedding_vector = embeddings_dict.get(word)\n",
        "        if embedding_vector is not None:\n",
        "            # words not found in embedding index will be all-zeros.\n",
        "            if len(embedding_matrix[i]) != len(embedding_vector):\n",
        "                print(\"EMBEDDING_DIM is not equal to embedding_vector file GloVe\")\n",
        "                exit(1)\n",
        "            embedding_matrix[i] = embedding_vector\n",
        "            \n",
        "    #embedding layer\n",
        "    model.add(Embedding(len(word_index) + 1,EMBEDDING_DIM,weights=[embedding_matrix],input_length=MAX_SEQUENCE_LENGTH))\n",
        "    model.add(SpatialDropout1D(0.2))\n",
        "    model.add(LSTM(100, dropout=0.2, recurrent_dropout=0.2))\n",
        "    model.add(Dense(100, activation='relu'))\n",
        "    model.add(Dense(100, activation='relu'))    \n",
        "    model.add(Dense(100, activation='relu'))\n",
        "    model.add(Dense(100, activation='relu'))\n",
        "    model.add(Dense(nclasses, activation='softmax')) #Softmax activation since multi-class classification\n",
        "    opt=Adam(learning_rate=5e-5)\n",
        "    model.compile(loss='sparse_categorical_crossentropy',optimizer='adam',metrics=['accuracy'])\n",
        "    return model"
      ],
      "execution_count": null,
      "outputs": []
    },
    {
      "cell_type": "markdown",
      "metadata": {
        "id": "gWWWZ4-7nXw9"
      },
      "source": [
        "### Twitter15 Dataset with 70:30 split for train and test"
      ]
    },
    {
      "cell_type": "code",
      "metadata": {
        "id": "eUBnHyf0J_zF"
      },
      "source": [
        "from sklearn.model_selection import train_test_split\n",
        "X = Twitter15.tweet\n",
        "y = Twitter15.label\n",
        "X_train, X_test, y_train, y_test = train_test_split(X, y, test_size = 0.3, random_state = 0)"
      ],
      "execution_count": null,
      "outputs": []
    },
    {
      "cell_type": "code",
      "metadata": {
        "colab": {
          "base_uri": "https://localhost:8080/"
        },
        "id": "_Eas1scJKyu5",
        "outputId": "d8d9a155-bbd2-4c3c-8f11-6099a3f7af8e"
      },
      "source": [
        "X_train_Glove, X_test_Glove, word_index, embeddings_dict = model_input(X_train,X_test)\n",
        "model = build_lstm(word_index, embeddings_dict, 4)\n",
        "model.summary()"
      ],
      "execution_count": null,
      "outputs": [
        {
          "output_type": "stream",
          "text": [
            "(1490,)\n",
            "Found 4700 unique tokens.\n",
            "(1490, 500)\n",
            "Total 400000 word vectors.\n",
            "WARNING:tensorflow:Layer lstm_16 will not use cuDNN kernel since it doesn't meet the cuDNN kernel criteria. It will use generic GPU kernel as fallback when running on GPU\n"
          ],
          "name": "stdout"
        },
        {
          "output_type": "stream",
          "text": [
            "WARNING:tensorflow:Layer lstm_16 will not use cuDNN kernel since it doesn't meet the cuDNN kernel criteria. It will use generic GPU kernel as fallback when running on GPU\n"
          ],
          "name": "stderr"
        },
        {
          "output_type": "stream",
          "text": [
            "Model: \"sequential_13\"\n",
            "_________________________________________________________________\n",
            "Layer (type)                 Output Shape              Param #   \n",
            "=================================================================\n",
            "embedding_13 (Embedding)     (None, 500, 100)          470100    \n",
            "_________________________________________________________________\n",
            "spatial_dropout1d_11 (Spatia (None, 500, 100)          0         \n",
            "_________________________________________________________________\n",
            "lstm_16 (LSTM)               (None, 100)               80400     \n",
            "_________________________________________________________________\n",
            "dense_57 (Dense)             (None, 100)               10100     \n",
            "_________________________________________________________________\n",
            "dense_58 (Dense)             (None, 100)               10100     \n",
            "_________________________________________________________________\n",
            "dense_59 (Dense)             (None, 100)               10100     \n",
            "_________________________________________________________________\n",
            "dense_60 (Dense)             (None, 100)               10100     \n",
            "_________________________________________________________________\n",
            "dense_61 (Dense)             (None, 4)                 404       \n",
            "=================================================================\n",
            "Total params: 591,304\n",
            "Trainable params: 591,304\n",
            "Non-trainable params: 0\n",
            "_________________________________________________________________\n"
          ],
          "name": "stdout"
        }
      ]
    },
    {
      "cell_type": "code",
      "metadata": {
        "colab": {
          "base_uri": "https://localhost:8080/"
        },
        "id": "jhVGARi4K2dL",
        "outputId": "3c567676-1ed6-4904-fbb5-9687837550f4"
      },
      "source": [
        "history1 = model.fit(X_train_Glove, y_train,epochs=30,validation_data=(X_test_Glove,y_test),batch_size=128,verbose=1)"
      ],
      "execution_count": null,
      "outputs": [
        {
          "output_type": "stream",
          "text": [
            "Epoch 1/30\n",
            "9/9 [==============================] - 17s 2s/step - loss: 1.3882 - accuracy: 0.2416 - val_loss: 1.3787 - val_accuracy: 0.3043\n",
            "Epoch 2/30\n",
            "9/9 [==============================] - 15s 2s/step - loss: 1.3731 - accuracy: 0.3317 - val_loss: 1.3583 - val_accuracy: 0.3177\n",
            "Epoch 3/30\n",
            "9/9 [==============================] - 15s 2s/step - loss: 1.3432 - accuracy: 0.3616 - val_loss: 1.3051 - val_accuracy: 0.4004\n",
            "Epoch 4/30\n",
            "9/9 [==============================] - 15s 2s/step - loss: 1.2791 - accuracy: 0.4352 - val_loss: 1.2848 - val_accuracy: 0.3960\n",
            "Epoch 5/30\n",
            "9/9 [==============================] - 15s 2s/step - loss: 1.2104 - accuracy: 0.4629 - val_loss: 1.1754 - val_accuracy: 0.4541\n",
            "Epoch 6/30\n",
            "9/9 [==============================] - 15s 2s/step - loss: 1.0590 - accuracy: 0.5882 - val_loss: 1.1692 - val_accuracy: 0.4698\n",
            "Epoch 7/30\n",
            "9/9 [==============================] - 15s 2s/step - loss: 1.0081 - accuracy: 0.5769 - val_loss: 1.1172 - val_accuracy: 0.5190\n",
            "Epoch 8/30\n",
            "9/9 [==============================] - 15s 2s/step - loss: 0.9190 - accuracy: 0.6093 - val_loss: 1.0244 - val_accuracy: 0.5861\n",
            "Epoch 9/30\n",
            "9/9 [==============================] - 16s 2s/step - loss: 0.8325 - accuracy: 0.6661 - val_loss: 1.0532 - val_accuracy: 0.5884\n",
            "Epoch 10/30\n",
            "9/9 [==============================] - 15s 2s/step - loss: 0.7804 - accuracy: 0.6931 - val_loss: 1.0379 - val_accuracy: 0.5682\n",
            "Epoch 11/30\n",
            "9/9 [==============================] - 15s 2s/step - loss: 0.7352 - accuracy: 0.6954 - val_loss: 1.0135 - val_accuracy: 0.5996\n",
            "Epoch 12/30\n",
            "9/9 [==============================] - 15s 2s/step - loss: 0.6819 - accuracy: 0.7342 - val_loss: 0.9760 - val_accuracy: 0.6130\n",
            "Epoch 13/30\n",
            "9/9 [==============================] - 15s 2s/step - loss: 0.5924 - accuracy: 0.7734 - val_loss: 0.9219 - val_accuracy: 0.6309\n",
            "Epoch 14/30\n",
            "9/9 [==============================] - 15s 2s/step - loss: 0.5077 - accuracy: 0.8121 - val_loss: 0.9929 - val_accuracy: 0.6331\n",
            "Epoch 15/30\n",
            "9/9 [==============================] - 15s 2s/step - loss: 0.5229 - accuracy: 0.8121 - val_loss: 1.0279 - val_accuracy: 0.6376\n",
            "Epoch 16/30\n",
            "9/9 [==============================] - 15s 2s/step - loss: 0.3960 - accuracy: 0.8498 - val_loss: 0.8921 - val_accuracy: 0.6801\n",
            "Epoch 17/30\n",
            "9/9 [==============================] - 15s 2s/step - loss: 0.3494 - accuracy: 0.8770 - val_loss: 0.9010 - val_accuracy: 0.6957\n",
            "Epoch 18/30\n",
            "9/9 [==============================] - 15s 2s/step - loss: 0.3049 - accuracy: 0.8897 - val_loss: 0.9637 - val_accuracy: 0.6913\n",
            "Epoch 19/30\n",
            "9/9 [==============================] - 15s 2s/step - loss: 0.2870 - accuracy: 0.8937 - val_loss: 0.9979 - val_accuracy: 0.6980\n",
            "Epoch 20/30\n",
            "9/9 [==============================] - 15s 2s/step - loss: 0.2469 - accuracy: 0.9022 - val_loss: 1.0761 - val_accuracy: 0.6801\n",
            "Epoch 21/30\n",
            "9/9 [==============================] - 15s 2s/step - loss: 0.2308 - accuracy: 0.9224 - val_loss: 0.9341 - val_accuracy: 0.7002\n",
            "Epoch 22/30\n",
            "9/9 [==============================] - 15s 2s/step - loss: 0.2215 - accuracy: 0.9182 - val_loss: 0.8913 - val_accuracy: 0.7226\n",
            "Epoch 23/30\n",
            "9/9 [==============================] - 15s 2s/step - loss: 0.1866 - accuracy: 0.9308 - val_loss: 0.9800 - val_accuracy: 0.7002\n",
            "Epoch 24/30\n",
            "9/9 [==============================] - 15s 2s/step - loss: 0.1957 - accuracy: 0.9418 - val_loss: 1.0185 - val_accuracy: 0.7159\n",
            "Epoch 25/30\n",
            "9/9 [==============================] - 15s 2s/step - loss: 0.1631 - accuracy: 0.9438 - val_loss: 0.9852 - val_accuracy: 0.7271\n",
            "Epoch 26/30\n",
            "9/9 [==============================] - 15s 2s/step - loss: 0.1341 - accuracy: 0.9535 - val_loss: 1.0185 - val_accuracy: 0.7047\n",
            "Epoch 27/30\n",
            "9/9 [==============================] - 15s 2s/step - loss: 0.1212 - accuracy: 0.9601 - val_loss: 1.0185 - val_accuracy: 0.7204\n",
            "Epoch 28/30\n",
            "9/9 [==============================] - 15s 2s/step - loss: 0.1311 - accuracy: 0.9543 - val_loss: 1.0455 - val_accuracy: 0.7136\n",
            "Epoch 29/30\n",
            "9/9 [==============================] - 15s 2s/step - loss: 0.1146 - accuracy: 0.9617 - val_loss: 1.1425 - val_accuracy: 0.7159\n",
            "Epoch 30/30\n",
            "9/9 [==============================] - 15s 2s/step - loss: 0.0948 - accuracy: 0.9697 - val_loss: 1.0827 - val_accuracy: 0.7315\n"
          ],
          "name": "stdout"
        }
      ]
    },
    {
      "cell_type": "code",
      "metadata": {
        "colab": {
          "base_uri": "https://localhost:8080/",
          "height": 543
        },
        "id": "yx0JBWUXOgdv",
        "outputId": "55eef44e-c909-4ecc-9534-4c29ec63f299"
      },
      "source": [
        "plot_graphs(history1, 'accuracy')\n",
        "plot_graphs(history1, 'loss')"
      ],
      "execution_count": null,
      "outputs": [
        {
          "output_type": "display_data",
          "data": {
            "image/png": "[encoded data removed]",
            "text/plain": [
              "<Figure size 432x288 with 1 Axes>"
            ]
          },
          "metadata": {
            "tags": [],
            "needs_background": "light"
          }
        },
        {
          "output_type": "display_data",
          "data": {
            "image/png": "[encoded data removed]",
            "text/plain": [
              "<Figure size 432x288 with 1 Axes>"
            ]
          },
          "metadata": {
            "tags": [],
            "needs_background": "light"
          }
        }
      ]
    },
    {
      "cell_type": "code",
      "metadata": {
        "colab": {
          "base_uri": "https://localhost:8080/"
        },
        "id": "lR4XussjLBj7",
        "outputId": "7057ec65-0ea2-46c0-c5ff-d8ad6a617a2e"
      },
      "source": [
        "print(\"\\n Evaluating Model \\n\")\n",
        "predicted = model.predict_classes(X_test_Glove)\n",
        "print(metrics.classification_report(y_test, predicted))"
      ],
      "execution_count": null,
      "outputs": [
        {
          "output_type": "stream",
          "text": [
            "\n",
            " Evaluating Model ... \n",
            "\n"
          ],
          "name": "stdout"
        },
        {
          "output_type": "stream",
          "text": [
            "/usr/local/lib/python3.7/dist-packages/tensorflow/python/keras/engine/sequential.py:450: UserWarning: `model.predict_classes()` is deprecated and will be removed after 2021-01-01. Please use instead:* `np.argmax(model.predict(x), axis=-1)`,   if your model does multi-class classification   (e.g. if it uses a `softmax` last-layer activation).* `(model.predict(x) > 0.5).astype(\"int32\")`,   if your model does binary classification   (e.g. if it uses a `sigmoid` last-layer activation).\n",
            "  warnings.warn('`model.predict_classes()` is deprecated and '\n"
          ],
          "name": "stderr"
        },
        {
          "output_type": "stream",
          "text": [
            "              precision    recall  f1-score   support\n",
            "\n",
            "           0       0.80      0.67      0.73       108\n",
            "           1       0.66      0.74      0.70       119\n",
            "           2       0.78      0.80      0.79       103\n",
            "           3       0.72      0.73      0.72       117\n",
            "\n",
            "    accuracy                           0.73       447\n",
            "   macro avg       0.74      0.73      0.73       447\n",
            "weighted avg       0.74      0.73      0.73       447\n",
            "\n"
          ],
          "name": "stdout"
        }
      ]
    },
    {
      "cell_type": "markdown",
      "metadata": {
        "id": "maGv7TmToqSa"
      },
      "source": [
        "### Twitter16 Dataset with 70:30 Split for train and test"
      ]
    },
    {
      "cell_type": "code",
      "metadata": {
        "id": "zUi49pWpNYD3"
      },
      "source": [
        "from sklearn.model_selection import train_test_split\n",
        "X = Twitter16.tweet\n",
        "y = Twitter16.label\n",
        "X_train, X_test, y_train, y_test = train_test_split(X, y, test_size = 0.3, random_state = 0)"
      ],
      "execution_count": null,
      "outputs": []
    },
    {
      "cell_type": "code",
      "metadata": {
        "colab": {
          "base_uri": "https://localhost:8080/"
        },
        "id": "nipcuRM4NYD4",
        "outputId": "4aaddc9f-f14c-4a20-a505-044150542075"
      },
      "source": [
        "X_train_Glove, X_test_Glove, word_index, embeddings_dict = model_input(X_train,X_test)\n",
        "model = build_lstm(word_index, embeddings_dict, 4)\n",
        "model.summary()"
      ],
      "execution_count": null,
      "outputs": [
        {
          "output_type": "stream",
          "text": [
            "(818,)\n",
            "Found 3004 unique tokens.\n",
            "(818, 500)\n",
            "Total 400000 word vectors.\n",
            "WARNING:tensorflow:Layer lstm_17 will not use cuDNN kernel since it doesn't meet the cuDNN kernel criteria. It will use generic GPU kernel as fallback when running on GPU\n"
          ],
          "name": "stdout"
        },
        {
          "output_type": "stream",
          "text": [
            "WARNING:tensorflow:Layer lstm_17 will not use cuDNN kernel since it doesn't meet the cuDNN kernel criteria. It will use generic GPU kernel as fallback when running on GPU\n"
          ],
          "name": "stderr"
        },
        {
          "output_type": "stream",
          "text": [
            "Model: \"sequential_14\"\n",
            "_________________________________________________________________\n",
            "Layer (type)                 Output Shape              Param #   \n",
            "=================================================================\n",
            "embedding_14 (Embedding)     (None, 500, 100)          300500    \n",
            "_________________________________________________________________\n",
            "spatial_dropout1d_12 (Spatia (None, 500, 100)          0         \n",
            "_________________________________________________________________\n",
            "lstm_17 (LSTM)               (None, 100)               80400     \n",
            "_________________________________________________________________\n",
            "dense_62 (Dense)             (None, 100)               10100     \n",
            "_________________________________________________________________\n",
            "dense_63 (Dense)             (None, 100)               10100     \n",
            "_________________________________________________________________\n",
            "dense_64 (Dense)             (None, 100)               10100     \n",
            "_________________________________________________________________\n",
            "dense_65 (Dense)             (None, 100)               10100     \n",
            "_________________________________________________________________\n",
            "dense_66 (Dense)             (None, 4)                 404       \n",
            "=================================================================\n",
            "Total params: 421,704\n",
            "Trainable params: 421,704\n",
            "Non-trainable params: 0\n",
            "_________________________________________________________________\n"
          ],
          "name": "stdout"
        }
      ]
    },
    {
      "cell_type": "code",
      "metadata": {
        "colab": {
          "base_uri": "https://localhost:8080/"
        },
        "id": "3NnC5L07NYD5",
        "outputId": "924e5996-a19d-491e-8630-4b15a6249fb4"
      },
      "source": [
        "history2 = model.fit(X_train_Glove, y_train,epochs=30,validation_data=(X_test_Glove,y_test),batch_size=128,verbose=1)"
      ],
      "execution_count": null,
      "outputs": [
        {
          "output_type": "stream",
          "text": [
            "Epoch 1/30\n",
            "5/5 [==============================] - 11s 2s/step - loss: 1.3858 - accuracy: 0.2677 - val_loss: 1.3852 - val_accuracy: 0.2480\n",
            "Epoch 2/30\n",
            "5/5 [==============================] - 8s 2s/step - loss: 1.3697 - accuracy: 0.3310 - val_loss: 1.3724 - val_accuracy: 0.2886\n",
            "Epoch 3/30\n",
            "5/5 [==============================] - 8s 2s/step - loss: 1.3502 - accuracy: 0.3762 - val_loss: 1.3303 - val_accuracy: 0.3943\n",
            "Epoch 4/30\n",
            "5/5 [==============================] - 8s 2s/step - loss: 1.3023 - accuracy: 0.4713 - val_loss: 1.2741 - val_accuracy: 0.3902\n",
            "Epoch 5/30\n",
            "5/5 [==============================] - 8s 2s/step - loss: 1.2355 - accuracy: 0.4714 - val_loss: 1.1687 - val_accuracy: 0.4715\n",
            "Epoch 6/30\n",
            "5/5 [==============================] - 8s 2s/step - loss: 1.1358 - accuracy: 0.5204 - val_loss: 1.0788 - val_accuracy: 0.4797\n",
            "Epoch 7/30\n",
            "5/5 [==============================] - 8s 2s/step - loss: 1.0647 - accuracy: 0.5432 - val_loss: 1.1152 - val_accuracy: 0.5610\n",
            "Epoch 8/30\n",
            "5/5 [==============================] - 8s 2s/step - loss: 0.9736 - accuracy: 0.6216 - val_loss: 1.0227 - val_accuracy: 0.5528\n",
            "Epoch 9/30\n",
            "5/5 [==============================] - 8s 2s/step - loss: 0.8886 - accuracy: 0.6328 - val_loss: 0.9579 - val_accuracy: 0.6423\n",
            "Epoch 10/30\n",
            "5/5 [==============================] - 8s 2s/step - loss: 0.8115 - accuracy: 0.6643 - val_loss: 0.9541 - val_accuracy: 0.6626\n",
            "Epoch 11/30\n",
            "5/5 [==============================] - 9s 2s/step - loss: 0.6927 - accuracy: 0.7207 - val_loss: 0.8688 - val_accuracy: 0.6789\n",
            "Epoch 12/30\n",
            "5/5 [==============================] - 9s 2s/step - loss: 0.6057 - accuracy: 0.7679 - val_loss: 0.8982 - val_accuracy: 0.6789\n",
            "Epoch 13/30\n",
            "5/5 [==============================] - 8s 2s/step - loss: 0.6011 - accuracy: 0.7751 - val_loss: 0.8970 - val_accuracy: 0.6829\n",
            "Epoch 14/30\n",
            "5/5 [==============================] - 8s 2s/step - loss: 0.4819 - accuracy: 0.8064 - val_loss: 0.9051 - val_accuracy: 0.7317\n",
            "Epoch 15/30\n",
            "5/5 [==============================] - 8s 2s/step - loss: 0.5159 - accuracy: 0.8150 - val_loss: 0.8933 - val_accuracy: 0.6789\n",
            "Epoch 16/30\n",
            "5/5 [==============================] - 8s 2s/step - loss: 0.3825 - accuracy: 0.8664 - val_loss: 0.8821 - val_accuracy: 0.7317\n",
            "Epoch 17/30\n",
            "5/5 [==============================] - 8s 2s/step - loss: 0.3826 - accuracy: 0.8653 - val_loss: 0.9370 - val_accuracy: 0.6951\n",
            "Epoch 18/30\n",
            "5/5 [==============================] - 8s 2s/step - loss: 0.3445 - accuracy: 0.8704 - val_loss: 0.8466 - val_accuracy: 0.7480\n",
            "Epoch 19/30\n",
            "5/5 [==============================] - 8s 2s/step - loss: 0.2693 - accuracy: 0.9063 - val_loss: 0.8767 - val_accuracy: 0.7358\n",
            "Epoch 20/30\n",
            "5/5 [==============================] - 8s 2s/step - loss: 0.2041 - accuracy: 0.9389 - val_loss: 0.9251 - val_accuracy: 0.7398\n",
            "Epoch 21/30\n",
            "5/5 [==============================] - 8s 2s/step - loss: 0.1670 - accuracy: 0.9459 - val_loss: 0.9294 - val_accuracy: 0.7602\n",
            "Epoch 22/30\n",
            "5/5 [==============================] - 8s 2s/step - loss: 0.1825 - accuracy: 0.9365 - val_loss: 1.1197 - val_accuracy: 0.7073\n",
            "Epoch 23/30\n",
            "5/5 [==============================] - 8s 2s/step - loss: 0.1657 - accuracy: 0.9362 - val_loss: 1.0567 - val_accuracy: 0.7439\n",
            "Epoch 24/30\n",
            "5/5 [==============================] - 8s 2s/step - loss: 0.1740 - accuracy: 0.9436 - val_loss: 1.0368 - val_accuracy: 0.7236\n",
            "Epoch 25/30\n",
            "5/5 [==============================] - 8s 2s/step - loss: 0.1468 - accuracy: 0.9458 - val_loss: 0.9756 - val_accuracy: 0.7480\n",
            "Epoch 26/30\n",
            "5/5 [==============================] - 8s 2s/step - loss: 0.1274 - accuracy: 0.9585 - val_loss: 0.9351 - val_accuracy: 0.7724\n",
            "Epoch 27/30\n",
            "5/5 [==============================] - 8s 2s/step - loss: 0.1122 - accuracy: 0.9588 - val_loss: 0.9872 - val_accuracy: 0.7439\n",
            "Epoch 28/30\n",
            "5/5 [==============================] - 8s 2s/step - loss: 0.0860 - accuracy: 0.9718 - val_loss: 0.9906 - val_accuracy: 0.7642\n",
            "Epoch 29/30\n",
            "5/5 [==============================] - 8s 2s/step - loss: 0.0712 - accuracy: 0.9773 - val_loss: 1.0311 - val_accuracy: 0.7683\n",
            "Epoch 30/30\n",
            "5/5 [==============================] - 8s 2s/step - loss: 0.0769 - accuracy: 0.9745 - val_loss: 1.1669 - val_accuracy: 0.7439\n"
          ],
          "name": "stdout"
        }
      ]
    },
    {
      "cell_type": "code",
      "metadata": {
        "colab": {
          "base_uri": "https://localhost:8080/",
          "height": 542
        },
        "id": "VJ7AxeuLOqVt",
        "outputId": "60910929-419a-4d56-cc62-324377013fad"
      },
      "source": [
        "plot_graphs(history2, 'accuracy')\n",
        "plot_graphs(history2, 'loss')"
      ],
      "execution_count": null,
      "outputs": [
        {
          "output_type": "display_data",
          "data": {
            "image/png": "[encoded data removed]",
            "text/plain": [
              "<Figure size 432x288 with 1 Axes>"
            ]
          },
          "metadata": {
            "tags": [],
            "needs_background": "light"
          }
        },
        {
          "output_type": "display_data",
          "data": {
            "image/png": "[encoded data removed]",
            "text/plain": [
              "<Figure size 432x288 with 1 Axes>"
            ]
          },
          "metadata": {
            "tags": [],
            "needs_background": "light"
          }
        }
      ]
    },
    {
      "cell_type": "code",
      "metadata": {
        "colab": {
          "base_uri": "https://localhost:8080/"
        },
        "id": "lgknIWsONYD-",
        "outputId": "7aa8e9ff-47c9-49dd-9a9d-6ad783bb5bf7"
      },
      "source": [
        "print(\"\\n Evaluating Model \\n\")\n",
        "predicted = model.predict_classes(X_test_Glove)\n",
        "print(metrics.classification_report(y_test, predicted))"
      ],
      "execution_count": null,
      "outputs": [
        {
          "output_type": "stream",
          "text": [
            "\n",
            " Evaluating Model ... \n",
            "\n"
          ],
          "name": "stdout"
        },
        {
          "output_type": "stream",
          "text": [
            "/usr/local/lib/python3.7/dist-packages/tensorflow/python/keras/engine/sequential.py:450: UserWarning: `model.predict_classes()` is deprecated and will be removed after 2021-01-01. Please use instead:* `np.argmax(model.predict(x), axis=-1)`,   if your model does multi-class classification   (e.g. if it uses a `softmax` last-layer activation).* `(model.predict(x) > 0.5).astype(\"int32\")`,   if your model does binary classification   (e.g. if it uses a `sigmoid` last-layer activation).\n",
            "  warnings.warn('`model.predict_classes()` is deprecated and '\n"
          ],
          "name": "stderr"
        },
        {
          "output_type": "stream",
          "text": [
            "              precision    recall  f1-score   support\n",
            "\n",
            "           0       0.58      0.81      0.68        54\n",
            "           1       0.70      0.56      0.63        55\n",
            "           2       0.92      0.84      0.88        68\n",
            "           3       0.80      0.74      0.77        69\n",
            "\n",
            "    accuracy                           0.74       246\n",
            "   macro avg       0.75      0.74      0.74       246\n",
            "weighted avg       0.76      0.74      0.75       246\n",
            "\n"
          ],
          "name": "stdout"
        }
      ]
    },
    {
      "cell_type": "markdown",
      "metadata": {
        "id": "cxOnB2XedHYH"
      },
      "source": [
        "# **BERT PRE-TRAINED**\n",
        "---\n",
        "\n"
      ]
    },
    {
      "cell_type": "code",
      "metadata": {
        "colab": {
          "base_uri": "https://localhost:8080/"
        },
        "id": "uA9KA_ArdNRB",
        "outputId": "35a8b625-f1bf-4565-96f9-44132c7647e6"
      },
      "source": [
        "!pip install transformers"
      ],
      "execution_count": null,
      "outputs": [
        {
          "output_type": "stream",
          "text": [
            "Collecting transformers\n",
            "\u001b[?25l  Downloading https://files.pythonhosted.org/packages/d8/b2/57495b5309f09fa501866e225c84532d1fd89536ea62406b2181933fb418/transformers-4.5.1-py3-none-any.whl (2.1MB)\n",
            "\u001b[K     |████████████████████████████████| 2.1MB 17.2MB/s \n",
            "\u001b[?25hCollecting sacremoses\n",
            "\u001b[?25l  Downloading https://files.pythonhosted.org/packages/75/ee/67241dc87f266093c533a2d4d3d69438e57d7a90abb216fa076e7d475d4a/sacremoses-0.0.45-py3-none-any.whl (895kB)\n",
            "\u001b[K     |████████████████████████████████| 901kB 54.3MB/s \n",
            "\u001b[?25hRequirement already satisfied: tqdm>=4.27 in /usr/local/lib/python3.7/dist-packages (from transformers) (4.41.1)\n",
            "Requirement already satisfied: requests in /usr/local/lib/python3.7/dist-packages (from transformers) (2.23.0)\n",
            "Requirement already satisfied: importlib-metadata; python_version < \"3.8\" in /usr/local/lib/python3.7/dist-packages (from transformers) (3.10.1)\n",
            "Requirement already satisfied: regex!=2019.12.17 in /usr/local/lib/python3.7/dist-packages (from transformers) (2019.12.20)\n",
            "Requirement already satisfied: numpy>=1.17 in /usr/local/lib/python3.7/dist-packages (from transformers) (1.19.5)\n",
            "Requirement already satisfied: filelock in /usr/local/lib/python3.7/dist-packages (from transformers) (3.0.12)\n",
            "Requirement already satisfied: packaging in /usr/local/lib/python3.7/dist-packages (from transformers) (20.9)\n",
            "Collecting tokenizers<0.11,>=0.10.1\n",
            "\u001b[?25l  Downloading https://files.pythonhosted.org/packages/ae/04/5b870f26a858552025a62f1649c20d29d2672c02ff3c3fb4c688ca46467a/tokenizers-0.10.2-cp37-cp37m-manylinux2010_x86_64.whl (3.3MB)\n",
            "\u001b[K     |████████████████████████████████| 3.3MB 39.7MB/s \n",
            "\u001b[?25hRequirement already satisfied: joblib in /usr/local/lib/python3.7/dist-packages (from sacremoses->transformers) (1.0.1)\n",
            "Requirement already satisfied: click in /usr/local/lib/python3.7/dist-packages (from sacremoses->transformers) (7.1.2)\n",
            "Requirement already satisfied: six in /usr/local/lib/python3.7/dist-packages (from sacremoses->transformers) (1.15.0)\n",
            "Requirement already satisfied: urllib3!=1.25.0,!=1.25.1,<1.26,>=1.21.1 in /usr/local/lib/python3.7/dist-packages (from requests->transformers) (1.24.3)\n",
            "Requirement already satisfied: idna<3,>=2.5 in /usr/local/lib/python3.7/dist-packages (from requests->transformers) (2.10)\n",
            "Requirement already satisfied: certifi>=2017.4.17 in /usr/local/lib/python3.7/dist-packages (from requests->transformers) (2020.12.5)\n",
            "Requirement already satisfied: chardet<4,>=3.0.2 in /usr/local/lib/python3.7/dist-packages (from requests->transformers) (3.0.4)\n",
            "Requirement already satisfied: zipp>=0.5 in /usr/local/lib/python3.7/dist-packages (from importlib-metadata; python_version < \"3.8\"->transformers) (3.4.1)\n",
            "Requirement already satisfied: typing-extensions>=3.6.4; python_version < \"3.8\" in /usr/local/lib/python3.7/dist-packages (from importlib-metadata; python_version < \"3.8\"->transformers) (3.7.4.3)\n",
            "Requirement already satisfied: pyparsing>=2.0.2 in /usr/local/lib/python3.7/dist-packages (from packaging->transformers) (2.4.7)\n",
            "Installing collected packages: sacremoses, tokenizers, transformers\n",
            "Successfully installed sacremoses-0.0.45 tokenizers-0.10.2 transformers-4.5.1\n"
          ],
          "name": "stdout"
        }
      ]
    },
    {
      "cell_type": "code",
      "metadata": {
        "id": "cL-DuzUVdO00"
      },
      "source": [
        "#Importing necessary libraries\n",
        "import numpy as np\n",
        "import pandas as pd\n",
        "from sklearn.model_selection import GridSearchCV\n",
        "from sklearn.model_selection import cross_val_score\n",
        "import torch\n",
        "import transformers as ppb\n",
        "import warnings\n",
        "warnings.filterwarnings('ignore')"
      ],
      "execution_count": null,
      "outputs": []
    },
    {
      "cell_type": "code",
      "metadata": {
        "colab": {
          "base_uri": "https://localhost:8080/",
          "height": 264,
          "referenced_widgets": [
            "3ff9ce02c2524f1c8608f2e68a1383c0",
            "8a59a13317d8439b9dd3fd4229dff9f2",
            "c21255bc311244578af91d10b6e398ed",
            "7dd17867ae7e4a0dafe036c70af2f2ab",
            "ed9340a39a304dad8813b96b5e6b00ee",
            "05e08d4e7afb4f5d9c9cc479030acf16",
            "2ae461403b9c40c8ad23488d664b4c07",
            "d3e44a36df67411591450c33ce0de031",
            "8cde6c4fecd344c5aa13f930f5a863c6",
            "f9085903f2c44fd28c35b9fd0754da49",
            "1c04a32900794ca1bc995dff0c772143",
            "756046e06ae548088a8e1b105bcac94b",
            "6e9766ba0ac240e9832bc13468c461d0",
            "71578ed8df654e3bbc3ba8f2d587c44c",
            "5d24bae0fa5e45a490419f6facb05977",
            "6cf24a3ea582474098d55425cae95f3a",
            "cf5f8ed43c9e47079f41383095b4e2a0",
            "6b1c10b4de7e4a798a49523f0389eea7",
            "b3edce211dec42618df5512c44883573",
            "d3fa121c59ca453eae18fc7de3dd7356",
            "1fb50b28ec8f4b27aaf0b45cfd56be53",
            "22e4dce6f7e04122841204ef90e09092",
            "55c5e5d1da114e858f73cedd6fe5ac5b",
            "bfd93b14139743159ef665aec2e0eadc",
            "382c6b1ade7d4a44bb8df300aa9e9653",
            "cc2a6e88878b426f89b10f6427e69d22",
            "de57701b4c254e0fafb1ab8fdba86d1d",
            "d828e642b10b43b2aade464dc88e41bb",
            "fd52dd11ad4949f39e9e3397b18e8e15",
            "aa12d43544b849aca9ec31318f180baa",
            "075be3906e454ee2834161109d4df57e",
            "d63cb3dc70f14880b4c252c84db989b2",
            "526dfef834a14888af8bcdcb9a4af70f",
            "44cb717ee02f4cb69b9cc0a16172e1e0",
            "c165a68e2dae4e9882ea1071110bc33c",
            "a80788e33cc44812b11ac023515224d2",
            "dd39393f03b946688ce4dbf823362930",
            "8c08c68095164a9e95f403822d1505ef",
            "06551819785f46a3b0a83ea9e755dae1",
            "0fc75f77d7ab4ed3866b133f34d9a717"
          ]
        },
        "id": "9OPSvTRWdRNV",
        "outputId": "db580ba2-b364-4f66-81e3-0d8e063fa39a"
      },
      "source": [
        "#Pre-trained BERT EMBEDDINGS\n",
        "model_class, tokenizer_class, pretrained_weights = (ppb.BertModel, ppb.BertTokenizer, 'bert-large-uncased')\n",
        "# Load pretrained model/tokenizer\n",
        "tokenizer = tokenizer_class.from_pretrained(pretrained_weights)\n",
        "model = model_class.from_pretrained(pretrained_weights)"
      ],
      "execution_count": null,
      "outputs": [
        {
          "output_type": "display_data",
          "data": {
            "application/vnd.jupyter.widget-view+json": {
              "model_id": "3ff9ce02c2524f1c8608f2e68a1383c0",
              "version_minor": 0,
              "version_major": 2
            },
            "text/plain": [
              "HBox(children=(FloatProgress(value=0.0, description='Downloading', max=231508.0, style=ProgressStyle(descripti…"
            ]
          },
          "metadata": {
            "tags": []
          }
        },
        {
          "output_type": "stream",
          "text": [
            "\n"
          ],
          "name": "stdout"
        },
        {
          "output_type": "display_data",
          "data": {
            "application/vnd.jupyter.widget-view+json": {
              "model_id": "8cde6c4fecd344c5aa13f930f5a863c6",
              "version_minor": 0,
              "version_major": 2
            },
            "text/plain": [
              "HBox(children=(FloatProgress(value=0.0, description='Downloading', max=28.0, style=ProgressStyle(description_w…"
            ]
          },
          "metadata": {
            "tags": []
          }
        },
        {
          "output_type": "stream",
          "text": [
            "\n"
          ],
          "name": "stdout"
        },
        {
          "output_type": "display_data",
          "data": {
            "application/vnd.jupyter.widget-view+json": {
              "model_id": "cf5f8ed43c9e47079f41383095b4e2a0",
              "version_minor": 0,
              "version_major": 2
            },
            "text/plain": [
              "HBox(children=(FloatProgress(value=0.0, description='Downloading', max=466062.0, style=ProgressStyle(descripti…"
            ]
          },
          "metadata": {
            "tags": []
          }
        },
        {
          "output_type": "stream",
          "text": [
            "\n"
          ],
          "name": "stdout"
        },
        {
          "output_type": "display_data",
          "data": {
            "application/vnd.jupyter.widget-view+json": {
              "model_id": "382c6b1ade7d4a44bb8df300aa9e9653",
              "version_minor": 0,
              "version_major": 2
            },
            "text/plain": [
              "HBox(children=(FloatProgress(value=0.0, description='Downloading', max=571.0, style=ProgressStyle(description_…"
            ]
          },
          "metadata": {
            "tags": []
          }
        },
        {
          "output_type": "stream",
          "text": [
            "\n"
          ],
          "name": "stdout"
        },
        {
          "output_type": "display_data",
          "data": {
            "application/vnd.jupyter.widget-view+json": {
              "model_id": "526dfef834a14888af8bcdcb9a4af70f",
              "version_minor": 0,
              "version_major": 2
            },
            "text/plain": [
              "HBox(children=(FloatProgress(value=0.0, description='Downloading', max=1344997306.0, style=ProgressStyle(descr…"
            ]
          },
          "metadata": {
            "tags": []
          }
        },
        {
          "output_type": "stream",
          "text": [
            "\n"
          ],
          "name": "stdout"
        }
      ]
    },
    {
      "cell_type": "code",
      "metadata": {
        "id": "SJRofqD8dZCJ"
      },
      "source": [
        "#Tokenization in BERT format\n",
        "tokenized_15 = Twitter15['tweet'].apply((lambda x: tokenizer.encode(x, add_special_tokens=True)))\n",
        "tokenized_16 = Twitter16['tweet'].apply((lambda x: tokenizer.encode(x, add_special_tokens=True)))"
      ],
      "execution_count": null,
      "outputs": []
    },
    {
      "cell_type": "code",
      "metadata": {
        "colab": {
          "base_uri": "https://localhost:8080/"
        },
        "id": "dr3KrEdKdveS",
        "outputId": "3633f8c8-0d6c-4124-afb0-9f401c166a49"
      },
      "source": [
        "#Padding\n",
        "max_len = 0\n",
        "for i in tokenized_15.values:\n",
        "    if len(i) > max_len:\n",
        "        max_len = len(i)\n",
        "\n",
        "padded_15 = np.array([i + [0]*(max_len-len(i)) for i in tokenized_15.values])\n",
        "np.array(padded_15).shape"
      ],
      "execution_count": null,
      "outputs": [
        {
          "output_type": "execute_result",
          "data": {
            "text/plain": [
              "(1490, 41)"
            ]
          },
          "metadata": {
            "tags": []
          },
          "execution_count": 22
        }
      ]
    },
    {
      "cell_type": "code",
      "metadata": {
        "colab": {
          "base_uri": "https://localhost:8080/"
        },
        "id": "1uGz-IBGIFtn",
        "outputId": "55cff61e-042a-4a30-d1c8-6a7d5a21382d"
      },
      "source": [
        "#Padding\n",
        "max_len = 0\n",
        "for i in tokenized_16.values:\n",
        "    if len(i) > max_len:\n",
        "        max_len = len(i)\n",
        "\n",
        "padded_16 = np.array([i + [0]*(max_len-len(i)) for i in tokenized_16.values])\n",
        "np.array(padded_16).shape"
      ],
      "execution_count": null,
      "outputs": [
        {
          "output_type": "execute_result",
          "data": {
            "text/plain": [
              "(818, 37)"
            ]
          },
          "metadata": {
            "tags": []
          },
          "execution_count": 23
        }
      ]
    },
    {
      "cell_type": "code",
      "metadata": {
        "colab": {
          "base_uri": "https://localhost:8080/"
        },
        "id": "WXHKzBn4eIMB",
        "outputId": "5e3fcaf5-ef1b-4072-d9be-7f1935cab88d"
      },
      "source": [
        "#Adding attention mask to Twitter15\n",
        "attention_mask_15 = np.where(padded_15 != 0, 1, 0)\n",
        "attention_mask_15.shape"
      ],
      "execution_count": null,
      "outputs": [
        {
          "output_type": "execute_result",
          "data": {
            "text/plain": [
              "(1490, 41)"
            ]
          },
          "metadata": {
            "tags": []
          },
          "execution_count": 24
        }
      ]
    },
    {
      "cell_type": "code",
      "metadata": {
        "colab": {
          "base_uri": "https://localhost:8080/"
        },
        "id": "yXpYsfpkIWtn",
        "outputId": "c9196cdd-d44e-4089-9a77-9dd654d07568"
      },
      "source": [
        "#Adding attention mask to Twitter16\n",
        "attention_mask_16 = np.where(padded_16 != 0, 1, 0)\n",
        "attention_mask_16.shape"
      ],
      "execution_count": null,
      "outputs": [
        {
          "output_type": "execute_result",
          "data": {
            "text/plain": [
              "(818, 37)"
            ]
          },
          "metadata": {
            "tags": []
          },
          "execution_count": 25
        }
      ]
    },
    {
      "cell_type": "code",
      "metadata": {
        "id": "O9UDmILSeVIX"
      },
      "source": [
        "#Getting vectors \n",
        "input_ids = torch.tensor(padded_15)  \n",
        "attention_mask_15 = torch.tensor(attention_mask_15)\n",
        "\n",
        "with torch.no_grad():\n",
        "    last_hidden_states_15 = model(input_ids, attention_mask=attention_mask_15)"
      ],
      "execution_count": null,
      "outputs": []
    },
    {
      "cell_type": "code",
      "metadata": {
        "id": "1ba-hunYlEiT"
      },
      "source": [
        "#Getting vectors \n",
        "input_ids = torch.tensor(padded_16)  \n",
        "attention_mask_16 = torch.tensor(attention_mask_16)\n",
        "\n",
        "with torch.no_grad():\n",
        "    last_hidden_states_16 = model(input_ids, attention_mask=attention_mask_16)"
      ],
      "execution_count": null,
      "outputs": []
    },
    {
      "cell_type": "code",
      "metadata": {
        "id": "6L-rgZhdJiFn"
      },
      "source": [
        "features_15 = last_hidden_states_15[0][:,0,:].numpy()\n",
        "labels_15 =   Twitter15['label']\n",
        "\n",
        "features_16 = last_hidden_states_16[0][:,0,:].numpy()\n",
        "labels_16 =   Twitter16['label']"
      ],
      "execution_count": null,
      "outputs": []
    },
    {
      "cell_type": "markdown",
      "metadata": {
        "id": "UUXlEChhOY5B"
      },
      "source": [
        "**SVM**"
      ]
    },
    {
      "cell_type": "code",
      "metadata": {
        "id": "L-R0admtJpBn"
      },
      "source": [
        "#train, test split\n",
        "from sklearn.model_selection import train_test_split\n",
        "train_features, test_features, train_labels, test_labels = train_test_split(features_16, labels_16, test_size=0.2,random_state=0)"
      ],
      "execution_count": null,
      "outputs": []
    },
    {
      "cell_type": "code",
      "metadata": {
        "id": "DbKes27WLV8u",
        "colab": {
          "base_uri": "https://localhost:8080/",
          "height": 220
        },
        "outputId": "e643f53b-d181-4e73-bfe0-9d4d24ccd02d"
      },
      "source": [
        "from sklearn.model_selection import GridSearchCV\n",
        "param={'kernel':('rbf', 'sigmoid'),\n",
        "      'C':np.arange(1,42,10),\n",
        "      'degree':np.arange(3,6)}"
      ],
      "execution_count": null,
      "outputs": [
        {
          "output_type": "error",
          "ename": "NameError",
          "evalue": "ignored",
          "traceback": [
            "\u001b[0;31m---------------------------------------------------------------------------\u001b[0m",
            "\u001b[0;31mNameError\u001b[0m                                 Traceback (most recent call last)",
            "\u001b[0;32m<ipython-input-1-6dbd9cdd4309>\u001b[0m in \u001b[0;36m<module>\u001b[0;34m()\u001b[0m\n\u001b[1;32m      1\u001b[0m \u001b[0;32mfrom\u001b[0m \u001b[0msklearn\u001b[0m\u001b[0;34m.\u001b[0m\u001b[0mmodel_selection\u001b[0m \u001b[0;32mimport\u001b[0m \u001b[0mGridSearchCV\u001b[0m\u001b[0;34m\u001b[0m\u001b[0;34m\u001b[0m\u001b[0m\n\u001b[1;32m      2\u001b[0m param={'kernel':('rbf', 'sigmoid'),\n\u001b[0;32m----> 3\u001b[0;31m       \u001b[0;34m'C'\u001b[0m\u001b[0;34m:\u001b[0m\u001b[0mnp\u001b[0m\u001b[0;34m.\u001b[0m\u001b[0marange\u001b[0m\u001b[0;34m(\u001b[0m\u001b[0;36m1\u001b[0m\u001b[0;34m,\u001b[0m\u001b[0;36m42\u001b[0m\u001b[0;34m,\u001b[0m\u001b[0;36m10\u001b[0m\u001b[0;34m)\u001b[0m\u001b[0;34m,\u001b[0m\u001b[0;34m\u001b[0m\u001b[0;34m\u001b[0m\u001b[0m\n\u001b[0m\u001b[1;32m      4\u001b[0m       'degree':np.arange(3,6)}\n",
            "\u001b[0;31mNameError\u001b[0m: name 'np' is not defined"
          ]
        }
      ]
    },
    {
      "cell_type": "code",
      "metadata": {
        "colab": {
          "base_uri": "https://localhost:8080/"
        },
        "id": "KVzjcCkTMvU5",
        "outputId": "6ca0a100-df40-4faf-852d-e90c9043463c"
      },
      "source": [
        "SVModel = SVC()\n",
        "GridS = GridSearchCV(SVModel,param,cv=5)\n",
        "GridS.fit(train_features,train_labels)"
      ],
      "execution_count": null,
      "outputs": [
        {
          "output_type": "execute_result",
          "data": {
            "text/plain": [
              "GridSearchCV(cv=5, error_score=nan,\n",
              "             estimator=SVC(C=1.0, break_ties=False, cache_size=200,\n",
              "                           class_weight=None, coef0=0.0,\n",
              "                           decision_function_shape='ovr', degree=3,\n",
              "                           gamma='scale', kernel='rbf', max_iter=-1,\n",
              "                           probability=False, random_state=None, shrinking=True,\n",
              "                           tol=0.001, verbose=False),\n",
              "             iid='deprecated', n_jobs=None,\n",
              "             param_grid={'C': array([ 1, 11, 21, 31, 41]),\n",
              "                         'coef0': array([1.000e-03, 5.010e-01, 1.001e+00, 1.501e+00, 2.001e+00, 2.501e+00]),\n",
              "                         'degree': array([3, 4, 5]),\n",
              "                         'kernel': ('rbf', 'sigmoid')},\n",
              "             pre_dispatch='2*n_jobs', refit=True, return_train_score=False,\n",
              "             scoring=None, verbose=0)"
            ]
          },
          "metadata": {
            "tags": []
          },
          "execution_count": 49
        }
      ]
    },
    {
      "cell_type": "code",
      "metadata": {
        "id": "e8oTk5QqzM2D"
      },
      "source": [
        "SVM = SVC(C=1.0, kernel='rbf', degree=3, gamma='scale',coef0=0.0)\n",
        "SVM.fit(train_features,train_labels)# predict the labels on validation dataset\n",
        "predictions_SVM = SVM.predict(test_features)"
      ],
      "execution_count": null,
      "outputs": []
    },
    {
      "cell_type": "code",
      "metadata": {
        "colab": {
          "base_uri": "https://localhost:8080/"
        },
        "id": "uGIAMJ3AmM0R",
        "outputId": "7419979a-90bc-4e99-a430-7d30cdcacac5"
      },
      "source": [
        " #Use accuracy_score function to get the accuracy\n",
        "from sklearn.metrics import accuracy_score\n",
        "print(\"SVM Accuracy Score -> \",accuracy_score(predictions_SVM,test_labels)*100)"
      ],
      "execution_count": null,
      "outputs": [
        {
          "output_type": "stream",
          "text": [
            "SVM Accuracy Score ->  58.536585365853654\n"
          ],
          "name": "stdout"
        }
      ]
    },
    {
      "cell_type": "markdown",
      "metadata": {
        "id": "SONnUNDKObnb"
      },
      "source": [
        "**RANDOM_FOREST**"
      ]
    },
    {
      "cell_type": "code",
      "metadata": {
        "colab": {
          "base_uri": "https://localhost:8080/"
        },
        "id": "4Hzxi3KIOjXx",
        "outputId": "06a67ba8-54d6-4ac9-bbd2-862f13907b60"
      },
      "source": [
        "from sklearn.ensemble import RandomForestClassifier\n",
        "from sklearn.metrics import accuracy_score\n",
        "rfc=RandomForestClassifier(random_state=42)\n",
        "param_grid = { \n",
        "    'n_estimators': [200, 500],\n",
        "    'max_features': ['auto', 'sqrt', 'log2'],\n",
        "    'max_depth' : [4,5,6,7,8],\n",
        "    'criterion' :['gini', 'entropy']\n",
        "}\n",
        "\n",
        "CV_rfc = GridSearchCV(estimator=rfc, param_grid=param_grid, cv= 5)\n",
        "CV_rfc.fit(train_features,train_labels)"
      ],
      "execution_count": null,
      "outputs": [
        {
          "output_type": "execute_result",
          "data": {
            "text/plain": [
              "GridSearchCV(cv=5, error_score=nan,\n",
              "             estimator=RandomForestClassifier(bootstrap=True, ccp_alpha=0.0,\n",
              "                                              class_weight=None,\n",
              "                                              criterion='gini', max_depth=None,\n",
              "                                              max_features='auto',\n",
              "                                              max_leaf_nodes=None,\n",
              "                                              max_samples=None,\n",
              "                                              min_impurity_decrease=0.0,\n",
              "                                              min_impurity_split=None,\n",
              "                                              min_samples_leaf=1,\n",
              "                                              min_samples_split=2,\n",
              "                                              min_weight_fraction_leaf=0.0,\n",
              "                                              n_estimators=100, n_jobs=None,\n",
              "                                              oob_score=False, random_state=42,\n",
              "                                              verbose=0, warm_start=False),\n",
              "             iid='deprecated', n_jobs=None,\n",
              "             param_grid={'criterion': ['gini', 'entropy'],\n",
              "                         'max_depth': [4, 5, 6, 7, 8],\n",
              "                         'max_features': ['auto', 'sqrt', 'log2'],\n",
              "                         'n_estimators': [200, 500]},\n",
              "             pre_dispatch='2*n_jobs', refit=True, return_train_score=False,\n",
              "             scoring=None, verbose=0)"
            ]
          },
          "metadata": {
            "tags": []
          },
          "execution_count": 64
        }
      ]
    },
    {
      "cell_type": "code",
      "metadata": {
        "colab": {
          "base_uri": "https://localhost:8080/"
        },
        "id": "LTZAysXRQakw",
        "outputId": "71703297-9db6-4bae-97cd-53502df38f55"
      },
      "source": [
        "CV_rfc.best_params_"
      ],
      "execution_count": null,
      "outputs": [
        {
          "output_type": "execute_result",
          "data": {
            "text/plain": [
              "{'criterion': 'entropy',\n",
              " 'max_depth': 8,\n",
              " 'max_features': 'auto',\n",
              " 'n_estimators': 500}"
            ]
          },
          "metadata": {
            "tags": []
          },
          "execution_count": 65
        }
      ]
    },
    {
      "cell_type": "code",
      "metadata": {
        "id": "EOpS-VBUQdGi"
      },
      "source": [
        "rfc1=RandomForestClassifier(random_state=42, max_features='auto', n_estimators= 500, max_depth=8, criterion='entropy')"
      ],
      "execution_count": null,
      "outputs": []
    },
    {
      "cell_type": "code",
      "metadata": {
        "colab": {
          "base_uri": "https://localhost:8080/"
        },
        "id": "ygAe5dn8Qfyp",
        "outputId": "66e644ba-9c7f-4365-9159-e30f13485fdb"
      },
      "source": [
        "rfc1.fit(train_features,train_labels)\n",
        "pred=rfc1.predict(test_features)\n",
        "print(\"Accuracy for Random Forest on CV data: \",accuracy_score(test_labels,pred))"
      ],
      "execution_count": null,
      "outputs": [
        {
          "output_type": "stream",
          "text": [
            "Accuracy for Random Forest on CV data:  0.6219512195121951\n"
          ],
          "name": "stdout"
        }
      ]
    },
    {
      "cell_type": "markdown",
      "metadata": {
        "id": "jOSAv3I3cHD0"
      },
      "source": [
        "# **FINE TUNED BERT**\n",
        "---\n",
        "\n"
      ]
    },
    {
      "cell_type": "code",
      "metadata": {
        "colab": {
          "base_uri": "https://localhost:8080/"
        },
        "id": "9FpQGbmqcZYp",
        "outputId": "a4f33ab8-2ead-44e0-c3bd-5458404025f3"
      },
      "source": [
        "!pip install transformers"
      ],
      "execution_count": null,
      "outputs": [
        {
          "output_type": "stream",
          "text": [
            "Requirement already satisfied: transformers in /usr/local/lib/python3.7/dist-packages (4.5.1)\n",
            "Requirement already satisfied: requests in /usr/local/lib/python3.7/dist-packages (from transformers) (2.23.0)\n",
            "Requirement already satisfied: filelock in /usr/local/lib/python3.7/dist-packages (from transformers) (3.0.12)\n",
            "Requirement already satisfied: importlib-metadata; python_version < \"3.8\" in /usr/local/lib/python3.7/dist-packages (from transformers) (3.10.1)\n",
            "Requirement already satisfied: sacremoses in /usr/local/lib/python3.7/dist-packages (from transformers) (0.0.45)\n",
            "Requirement already satisfied: tqdm>=4.27 in /usr/local/lib/python3.7/dist-packages (from transformers) (4.41.1)\n",
            "Requirement already satisfied: regex!=2019.12.17 in /usr/local/lib/python3.7/dist-packages (from transformers) (2019.12.20)\n",
            "Requirement already satisfied: tokenizers<0.11,>=0.10.1 in /usr/local/lib/python3.7/dist-packages (from transformers) (0.10.2)\n",
            "Requirement already satisfied: numpy>=1.17 in /usr/local/lib/python3.7/dist-packages (from transformers) (1.19.5)\n",
            "Requirement already satisfied: packaging in /usr/local/lib/python3.7/dist-packages (from transformers) (20.9)\n",
            "Requirement already satisfied: chardet<4,>=3.0.2 in /usr/local/lib/python3.7/dist-packages (from requests->transformers) (3.0.4)\n",
            "Requirement already satisfied: certifi>=2017.4.17 in /usr/local/lib/python3.7/dist-packages (from requests->transformers) (2020.12.5)\n",
            "Requirement already satisfied: urllib3!=1.25.0,!=1.25.1,<1.26,>=1.21.1 in /usr/local/lib/python3.7/dist-packages (from requests->transformers) (1.24.3)\n",
            "Requirement already satisfied: idna<3,>=2.5 in /usr/local/lib/python3.7/dist-packages (from requests->transformers) (2.10)\n",
            "Requirement already satisfied: typing-extensions>=3.6.4; python_version < \"3.8\" in /usr/local/lib/python3.7/dist-packages (from importlib-metadata; python_version < \"3.8\"->transformers) (3.7.4.3)\n",
            "Requirement already satisfied: zipp>=0.5 in /usr/local/lib/python3.7/dist-packages (from importlib-metadata; python_version < \"3.8\"->transformers) (3.4.1)\n",
            "Requirement already satisfied: joblib in /usr/local/lib/python3.7/dist-packages (from sacremoses->transformers) (1.0.1)\n",
            "Requirement already satisfied: click in /usr/local/lib/python3.7/dist-packages (from sacremoses->transformers) (7.1.2)\n",
            "Requirement already satisfied: six in /usr/local/lib/python3.7/dist-packages (from sacremoses->transformers) (1.15.0)\n",
            "Requirement already satisfied: pyparsing>=2.0.2 in /usr/local/lib/python3.7/dist-packages (from packaging->transformers) (2.4.7)\n"
          ],
          "name": "stdout"
        }
      ]
    },
    {
      "cell_type": "code",
      "metadata": {
        "id": "LkFjVPgLDdE3"
      },
      "source": [
        "from sklearn.model_selection import train_test_split\n",
        "train_final , test_final = train_test_split(Twitter15, test_size=0.2,random_state=0)"
      ],
      "execution_count": null,
      "outputs": []
    },
    {
      "cell_type": "code",
      "metadata": {
        "id": "xEVwrX2LP3Aq"
      },
      "source": [
        "train_final = train_final.reset_index()\n",
        "test_final = test_final.reset_index()"
      ],
      "execution_count": null,
      "outputs": []
    },
    {
      "cell_type": "code",
      "metadata": {
        "colab": {
          "base_uri": "https://localhost:8080/"
        },
        "id": "4X4PuRmdnQ_7",
        "outputId": "a76d43bd-fa5b-43a0-e3fe-c0e5984403e7"
      },
      "source": [
        "import tensorflow as tf\n",
        "\n",
        "# Get the GPU device name.\n",
        "device_name = tf.test.gpu_device_name()\n",
        "\n",
        "# The device name should look like the following:\n",
        "if device_name == '/device:GPU:0':\n",
        "    print('Found GPU at: {}'.format(device_name))\n",
        "else:\n",
        "    raise SystemError('GPU device not found')"
      ],
      "execution_count": null,
      "outputs": [
        {
          "output_type": "stream",
          "text": [
            "Found GPU at: /device:GPU:0\n"
          ],
          "name": "stdout"
        }
      ]
    },
    {
      "cell_type": "code",
      "metadata": {
        "colab": {
          "base_uri": "https://localhost:8080/"
        },
        "id": "KYnNwu-KnTpy",
        "outputId": "6ab44ae7-86f2-45cd-e861-a19a54c60822"
      },
      "source": [
        "import torch\n",
        "\n",
        "# If there's a GPU available...\n",
        "if torch.cuda.is_available():    \n",
        "\n",
        "    # Tell PyTorch to use the GPU.    \n",
        "    device = torch.device(\"cuda\")\n",
        "\n",
        "    print('There are %d GPU(s) available.' % torch.cuda.device_count())\n",
        "\n",
        "    print('We will use the GPU:', torch.cuda.get_device_name(0))\n",
        "\n",
        "# If not...\n",
        "else:\n",
        "    print('No GPU available, using the CPU instead.')\n",
        "    device = torch.device(\"cpu\")"
      ],
      "execution_count": null,
      "outputs": [
        {
          "output_type": "stream",
          "text": [
            "There are 1 GPU(s) available.\n",
            "We will use the GPU: Tesla T4\n"
          ],
          "name": "stdout"
        }
      ]
    },
    {
      "cell_type": "code",
      "metadata": {
        "colab": {
          "base_uri": "https://localhost:8080/"
        },
        "id": "J7zupft5nYY0",
        "outputId": "d83018db-03c9-4e31-9043-3a6ed29fbdf6"
      },
      "source": [
        "# Get the lists of sentences and their labels.\n",
        "sentences = train_final['tweet']\n",
        "labels = train_final['label']\n",
        "\n",
        "# Load the BERT tokenizer.\n",
        "from transformers import BertTokenizer\n",
        "print('Loading BERT tokenizer...')\n",
        "tokenizer = BertTokenizer.from_pretrained('bert-large-uncased', do_lower_case=True)"
      ],
      "execution_count": null,
      "outputs": [
        {
          "output_type": "stream",
          "text": [
            "Loading BERT tokenizer...\n"
          ],
          "name": "stdout"
        }
      ]
    },
    {
      "cell_type": "code",
      "metadata": {
        "colab": {
          "base_uri": "https://localhost:8080/"
        },
        "id": "7B9EDEc0n8a8",
        "outputId": "c4859fea-1264-44a5-b776-98ef5a02398c"
      },
      "source": [
        "max_len = 0\n",
        "\n",
        "# For every sentence...\n",
        "for sent in sentences:\n",
        "\n",
        "    # Tokenize the text and add `[CLS]` and `[SEP]` tokens.\n",
        "    input_ids = tokenizer.encode(sent, add_special_tokens=True)\n",
        "\n",
        "    # Update the maximum sentence length.\n",
        "    max_len = max(max_len, len(input_ids))\n",
        "\n",
        "print('Max sentence length: ', max_len)"
      ],
      "execution_count": null,
      "outputs": [
        {
          "output_type": "stream",
          "text": [
            "Max sentence length:  41\n"
          ],
          "name": "stdout"
        }
      ]
    },
    {
      "cell_type": "code",
      "metadata": {
        "colab": {
          "base_uri": "https://localhost:8080/"
        },
        "id": "McRq_fNsoEpY",
        "outputId": "eec5aeaf-235e-4672-bb11-2ffba783ebaf"
      },
      "source": [
        "# Tokenize all of the sentences and map the tokens to thier word IDs.\n",
        "input_ids = []\n",
        "attention_masks = []\n",
        "\n",
        "# For every sentence...\n",
        "for sent in sentences:\n",
        "    encoded_dict = tokenizer.encode_plus(\n",
        "                        sent,                      # Sentence to encode.\n",
        "                        add_special_tokens = True, # Add '[CLS]' and '[SEP]'\n",
        "                        max_length = 64,           # Pad & truncate all sentences.\n",
        "                        pad_to_max_length = True,\n",
        "                        return_attention_mask = True,   # Construct attn. masks.\n",
        "                        return_tensors = 'pt',     # Return pytorch tensors.\n",
        "                   )\n",
        "    \n",
        "    # Add the encoded sentence to the list.    \n",
        "    input_ids.append(encoded_dict['input_ids'])\n",
        "    \n",
        "    # And its attention mask (simply differentiates padding from non-padding).\n",
        "    attention_masks.append(encoded_dict['attention_mask'])\n",
        "\n",
        "# Convert the lists into tensors.\n",
        "input_ids = torch.cat(input_ids, dim=0)\n",
        "attention_masks = torch.cat(attention_masks, dim=0)\n",
        "labels = torch.tensor(labels)"
      ],
      "execution_count": null,
      "outputs": [
        {
          "output_type": "stream",
          "text": [
            "Truncation was not explicitly activated but `max_length` is provided a specific value, please use `truncation=True` to explicitly truncate examples to max length. Defaulting to 'longest_first' truncation strategy. If you encode pairs of sequences (GLUE-style) with the tokenizer you can select this strategy more precisely by providing a specific strategy to `truncation`.\n"
          ],
          "name": "stderr"
        }
      ]
    },
    {
      "cell_type": "code",
      "metadata": {
        "colab": {
          "base_uri": "https://localhost:8080/"
        },
        "id": "nfEvLEDhoJE9",
        "outputId": "1b12e379-3216-496f-e702-db41c5a1f465"
      },
      "source": [
        "from torch.utils.data import TensorDataset, random_split\n",
        "\n",
        "# Combine the training inputs into a TensorDataset.\n",
        "dataset = TensorDataset(input_ids, attention_masks, labels)\n",
        "\n",
        "# Create a 90-10 train-validation split.\n",
        "\n",
        "# Calculate the number of samples to include in each set.\n",
        "train_size = int(0.9 * len(dataset))\n",
        "val_size = len(dataset) - train_size\n",
        "\n",
        "# Divide the dataset by randomly selecting samples.\n",
        "train_dataset, val_dataset = random_split(dataset, [train_size, val_size])\n",
        "\n",
        "print('{:>5,} training samples'.format(train_size))\n",
        "print('{:>5,} validation samples'.format(val_size))"
      ],
      "execution_count": null,
      "outputs": [
        {
          "output_type": "stream",
          "text": [
            "1,072 training samples\n",
            "  120 validation samples\n"
          ],
          "name": "stdout"
        }
      ]
    },
    {
      "cell_type": "code",
      "metadata": {
        "id": "GjZt0ZfkoZj1"
      },
      "source": [
        "from torch.utils.data import DataLoader, RandomSampler, SequentialSampler\n",
        "batch_size = 16\n",
        "\n",
        "# Create the DataLoaders for our training and validation sets.\n",
        "# We'll take training samples in random order. \n",
        "train_dataloader = DataLoader(\n",
        "            train_dataset,  # The training samples.\n",
        "            sampler = RandomSampler(train_dataset), # Select batches randomly\n",
        "            batch_size = batch_size # Trains with this batch size.\n",
        "        )\n",
        "\n",
        "# For validation the order doesn't matter, so we'll just read them sequentially.\n",
        "validation_dataloader = DataLoader(\n",
        "            val_dataset, # The validation samples.\n",
        "            sampler = SequentialSampler(val_dataset), # Pull out batches sequentially.\n",
        "            batch_size = batch_size # Evaluate with this batch size.\n",
        "        )"
      ],
      "execution_count": null,
      "outputs": []
    },
    {
      "cell_type": "code",
      "metadata": {
        "colab": {
          "base_uri": "https://localhost:8080/"
        },
        "id": "DnEZaSPZob92",
        "outputId": "8496a5bc-2b7f-44a5-88c2-52825a4bc583"
      },
      "source": [
        "from transformers import BertForSequenceClassification, AdamW, BertConfig\n",
        "#loading bert to classify sequence\n",
        "model = BertForSequenceClassification.from_pretrained( \"bert-large-uncased\", num_labels = 4,output_attentions = False, output_hidden_states = False,)\n",
        "\n",
        "#run this model on the GPU.\n",
        "model.cuda()"
      ],
      "execution_count": null,
      "outputs": [
        {
          "output_type": "stream",
          "text": [
            "Some weights of the model checkpoint at bert-large-uncased were not used when initializing BertForSequenceClassification: ['cls.predictions.bias', 'cls.predictions.transform.dense.weight', 'cls.predictions.transform.dense.bias', 'cls.predictions.decoder.weight', 'cls.seq_relationship.weight', 'cls.seq_relationship.bias', 'cls.predictions.transform.LayerNorm.weight', 'cls.predictions.transform.LayerNorm.bias']\n",
            "- This IS expected if you are initializing BertForSequenceClassification from the checkpoint of a model trained on another task or with another architecture (e.g. initializing a BertForSequenceClassification model from a BertForPreTraining model).\n",
            "- This IS NOT expected if you are initializing BertForSequenceClassification from the checkpoint of a model that you expect to be exactly identical (initializing a BertForSequenceClassification model from a BertForSequenceClassification model).\n",
            "Some weights of BertForSequenceClassification were not initialized from the model checkpoint at bert-large-uncased and are newly initialized: ['classifier.weight', 'classifier.bias']\n",
            "You should probably TRAIN this model on a down-stream task to be able to use it for predictions and inference.\n"
          ],
          "name": "stderr"
        },
        {
          "output_type": "execute_result",
          "data": {
            "text/plain": [
              "BertForSequenceClassification(\n",
              "  (bert): BertModel(\n",
              "    (embeddings): BertEmbeddings(\n",
              "      (word_embeddings): Embedding(30522, 1024, padding_idx=0)\n",
              "      (position_embeddings): Embedding(512, 1024)\n",
              "      (token_type_embeddings): Embedding(2, 1024)\n",
              "      (LayerNorm): LayerNorm((1024,), eps=1e-12, elementwise_affine=True)\n",
              "      (dropout): Dropout(p=0.1, inplace=False)\n",
              "    )\n",
              "    (encoder): BertEncoder(\n",
              "      (layer): ModuleList(\n",
              "        (0): BertLayer(\n",
              "          (attention): BertAttention(\n",
              "            (self): BertSelfAttention(\n",
              "              (query): Linear(in_features=1024, out_features=1024, bias=True)\n",
              "              (key): Linear(in_features=1024, out_features=1024, bias=True)\n",
              "              (value): Linear(in_features=1024, out_features=1024, bias=True)\n",
              "              (dropout): Dropout(p=0.1, inplace=False)\n",
              "            )\n",
              "            (output): BertSelfOutput(\n",
              "              (dense): Linear(in_features=1024, out_features=1024, bias=True)\n",
              "              (LayerNorm): LayerNorm((1024,), eps=1e-12, elementwise_affine=True)\n",
              "              (dropout): Dropout(p=0.1, inplace=False)\n",
              "            )\n",
              "          )\n",
              "          (intermediate): BertIntermediate(\n",
              "            (dense): Linear(in_features=1024, out_features=4096, bias=True)\n",
              "          )\n",
              "          (output): BertOutput(\n",
              "            (dense): Linear(in_features=4096, out_features=1024, bias=True)\n",
              "            (LayerNorm): LayerNorm((1024,), eps=1e-12, elementwise_affine=True)\n",
              "            (dropout): Dropout(p=0.1, inplace=False)\n",
              "          )\n",
              "        )\n",
              "        (1): BertLayer(\n",
              "          (attention): BertAttention(\n",
              "            (self): BertSelfAttention(\n",
              "              (query): Linear(in_features=1024, out_features=1024, bias=True)\n",
              "              (key): Linear(in_features=1024, out_features=1024, bias=True)\n",
              "              (value): Linear(in_features=1024, out_features=1024, bias=True)\n",
              "              (dropout): Dropout(p=0.1, inplace=False)\n",
              "            )\n",
              "            (output): BertSelfOutput(\n",
              "              (dense): Linear(in_features=1024, out_features=1024, bias=True)\n",
              "              (LayerNorm): LayerNorm((1024,), eps=1e-12, elementwise_affine=True)\n",
              "              (dropout): Dropout(p=0.1, inplace=False)\n",
              "            )\n",
              "          )\n",
              "          (intermediate): BertIntermediate(\n",
              "            (dense): Linear(in_features=1024, out_features=4096, bias=True)\n",
              "          )\n",
              "          (output): BertOutput(\n",
              "            (dense): Linear(in_features=4096, out_features=1024, bias=True)\n",
              "            (LayerNorm): LayerNorm((1024,), eps=1e-12, elementwise_affine=True)\n",
              "            (dropout): Dropout(p=0.1, inplace=False)\n",
              "          )\n",
              "        )\n",
              "        (2): BertLayer(\n",
              "          (attention): BertAttention(\n",
              "            (self): BertSelfAttention(\n",
              "              (query): Linear(in_features=1024, out_features=1024, bias=True)\n",
              "              (key): Linear(in_features=1024, out_features=1024, bias=True)\n",
              "              (value): Linear(in_features=1024, out_features=1024, bias=True)\n",
              "              (dropout): Dropout(p=0.1, inplace=False)\n",
              "            )\n",
              "            (output): BertSelfOutput(\n",
              "              (dense): Linear(in_features=1024, out_features=1024, bias=True)\n",
              "              (LayerNorm): LayerNorm((1024,), eps=1e-12, elementwise_affine=True)\n",
              "              (dropout): Dropout(p=0.1, inplace=False)\n",
              "            )\n",
              "          )\n",
              "          (intermediate): BertIntermediate(\n",
              "            (dense): Linear(in_features=1024, out_features=4096, bias=True)\n",
              "          )\n",
              "          (output): BertOutput(\n",
              "            (dense): Linear(in_features=4096, out_features=1024, bias=True)\n",
              "            (LayerNorm): LayerNorm((1024,), eps=1e-12, elementwise_affine=True)\n",
              "            (dropout): Dropout(p=0.1, inplace=False)\n",
              "          )\n",
              "        )\n",
              "        (3): BertLayer(\n",
              "          (attention): BertAttention(\n",
              "            (self): BertSelfAttention(\n",
              "              (query): Linear(in_features=1024, out_features=1024, bias=True)\n",
              "              (key): Linear(in_features=1024, out_features=1024, bias=True)\n",
              "              (value): Linear(in_features=1024, out_features=1024, bias=True)\n",
              "              (dropout): Dropout(p=0.1, inplace=False)\n",
              "            )\n",
              "            (output): BertSelfOutput(\n",
              "              (dense): Linear(in_features=1024, out_features=1024, bias=True)\n",
              "              (LayerNorm): LayerNorm((1024,), eps=1e-12, elementwise_affine=True)\n",
              "              (dropout): Dropout(p=0.1, inplace=False)\n",
              "            )\n",
              "          )\n",
              "          (intermediate): BertIntermediate(\n",
              "            (dense): Linear(in_features=1024, out_features=4096, bias=True)\n",
              "          )\n",
              "          (output): BertOutput(\n",
              "            (dense): Linear(in_features=4096, out_features=1024, bias=True)\n",
              "            (LayerNorm): LayerNorm((1024,), eps=1e-12, elementwise_affine=True)\n",
              "            (dropout): Dropout(p=0.1, inplace=False)\n",
              "          )\n",
              "        )\n",
              "        (4): BertLayer(\n",
              "          (attention): BertAttention(\n",
              "            (self): BertSelfAttention(\n",
              "              (query): Linear(in_features=1024, out_features=1024, bias=True)\n",
              "              (key): Linear(in_features=1024, out_features=1024, bias=True)\n",
              "              (value): Linear(in_features=1024, out_features=1024, bias=True)\n",
              "              (dropout): Dropout(p=0.1, inplace=False)\n",
              "            )\n",
              "            (output): BertSelfOutput(\n",
              "              (dense): Linear(in_features=1024, out_features=1024, bias=True)\n",
              "              (LayerNorm): LayerNorm((1024,), eps=1e-12, elementwise_affine=True)\n",
              "              (dropout): Dropout(p=0.1, inplace=False)\n",
              "            )\n",
              "          )\n",
              "          (intermediate): BertIntermediate(\n",
              "            (dense): Linear(in_features=1024, out_features=4096, bias=True)\n",
              "          )\n",
              "          (output): BertOutput(\n",
              "            (dense): Linear(in_features=4096, out_features=1024, bias=True)\n",
              "            (LayerNorm): LayerNorm((1024,), eps=1e-12, elementwise_affine=True)\n",
              "            (dropout): Dropout(p=0.1, inplace=False)\n",
              "          )\n",
              "        )\n",
              "        (5): BertLayer(\n",
              "          (attention): BertAttention(\n",
              "            (self): BertSelfAttention(\n",
              "              (query): Linear(in_features=1024, out_features=1024, bias=True)\n",
              "              (key): Linear(in_features=1024, out_features=1024, bias=True)\n",
              "              (value): Linear(in_features=1024, out_features=1024, bias=True)\n",
              "              (dropout): Dropout(p=0.1, inplace=False)\n",
              "            )\n",
              "            (output): BertSelfOutput(\n",
              "              (dense): Linear(in_features=1024, out_features=1024, bias=True)\n",
              "              (LayerNorm): LayerNorm((1024,), eps=1e-12, elementwise_affine=True)\n",
              "              (dropout): Dropout(p=0.1, inplace=False)\n",
              "            )\n",
              "          )\n",
              "          (intermediate): BertIntermediate(\n",
              "            (dense): Linear(in_features=1024, out_features=4096, bias=True)\n",
              "          )\n",
              "          (output): BertOutput(\n",
              "            (dense): Linear(in_features=4096, out_features=1024, bias=True)\n",
              "            (LayerNorm): LayerNorm((1024,), eps=1e-12, elementwise_affine=True)\n",
              "            (dropout): Dropout(p=0.1, inplace=False)\n",
              "          )\n",
              "        )\n",
              "        (6): BertLayer(\n",
              "          (attention): BertAttention(\n",
              "            (self): BertSelfAttention(\n",
              "              (query): Linear(in_features=1024, out_features=1024, bias=True)\n",
              "              (key): Linear(in_features=1024, out_features=1024, bias=True)\n",
              "              (value): Linear(in_features=1024, out_features=1024, bias=True)\n",
              "              (dropout): Dropout(p=0.1, inplace=False)\n",
              "            )\n",
              "            (output): BertSelfOutput(\n",
              "              (dense): Linear(in_features=1024, out_features=1024, bias=True)\n",
              "              (LayerNorm): LayerNorm((1024,), eps=1e-12, elementwise_affine=True)\n",
              "              (dropout): Dropout(p=0.1, inplace=False)\n",
              "            )\n",
              "          )\n",
              "          (intermediate): BertIntermediate(\n",
              "            (dense): Linear(in_features=1024, out_features=4096, bias=True)\n",
              "          )\n",
              "          (output): BertOutput(\n",
              "            (dense): Linear(in_features=4096, out_features=1024, bias=True)\n",
              "            (LayerNorm): LayerNorm((1024,), eps=1e-12, elementwise_affine=True)\n",
              "            (dropout): Dropout(p=0.1, inplace=False)\n",
              "          )\n",
              "        )\n",
              "        (7): BertLayer(\n",
              "          (attention): BertAttention(\n",
              "            (self): BertSelfAttention(\n",
              "              (query): Linear(in_features=1024, out_features=1024, bias=True)\n",
              "              (key): Linear(in_features=1024, out_features=1024, bias=True)\n",
              "              (value): Linear(in_features=1024, out_features=1024, bias=True)\n",
              "              (dropout): Dropout(p=0.1, inplace=False)\n",
              "            )\n",
              "            (output): BertSelfOutput(\n",
              "              (dense): Linear(in_features=1024, out_features=1024, bias=True)\n",
              "              (LayerNorm): LayerNorm((1024,), eps=1e-12, elementwise_affine=True)\n",
              "              (dropout): Dropout(p=0.1, inplace=False)\n",
              "            )\n",
              "          )\n",
              "          (intermediate): BertIntermediate(\n",
              "            (dense): Linear(in_features=1024, out_features=4096, bias=True)\n",
              "          )\n",
              "          (output): BertOutput(\n",
              "            (dense): Linear(in_features=4096, out_features=1024, bias=True)\n",
              "            (LayerNorm): LayerNorm((1024,), eps=1e-12, elementwise_affine=True)\n",
              "            (dropout): Dropout(p=0.1, inplace=False)\n",
              "          )\n",
              "        )\n",
              "        (8): BertLayer(\n",
              "          (attention): BertAttention(\n",
              "            (self): BertSelfAttention(\n",
              "              (query): Linear(in_features=1024, out_features=1024, bias=True)\n",
              "              (key): Linear(in_features=1024, out_features=1024, bias=True)\n",
              "              (value): Linear(in_features=1024, out_features=1024, bias=True)\n",
              "              (dropout): Dropout(p=0.1, inplace=False)\n",
              "            )\n",
              "            (output): BertSelfOutput(\n",
              "              (dense): Linear(in_features=1024, out_features=1024, bias=True)\n",
              "              (LayerNorm): LayerNorm((1024,), eps=1e-12, elementwise_affine=True)\n",
              "              (dropout): Dropout(p=0.1, inplace=False)\n",
              "            )\n",
              "          )\n",
              "          (intermediate): BertIntermediate(\n",
              "            (dense): Linear(in_features=1024, out_features=4096, bias=True)\n",
              "          )\n",
              "          (output): BertOutput(\n",
              "            (dense): Linear(in_features=4096, out_features=1024, bias=True)\n",
              "            (LayerNorm): LayerNorm((1024,), eps=1e-12, elementwise_affine=True)\n",
              "            (dropout): Dropout(p=0.1, inplace=False)\n",
              "          )\n",
              "        )\n",
              "        (9): BertLayer(\n",
              "          (attention): BertAttention(\n",
              "            (self): BertSelfAttention(\n",
              "              (query): Linear(in_features=1024, out_features=1024, bias=True)\n",
              "              (key): Linear(in_features=1024, out_features=1024, bias=True)\n",
              "              (value): Linear(in_features=1024, out_features=1024, bias=True)\n",
              "              (dropout): Dropout(p=0.1, inplace=False)\n",
              "            )\n",
              "            (output): BertSelfOutput(\n",
              "              (dense): Linear(in_features=1024, out_features=1024, bias=True)\n",
              "              (LayerNorm): LayerNorm((1024,), eps=1e-12, elementwise_affine=True)\n",
              "              (dropout): Dropout(p=0.1, inplace=False)\n",
              "            )\n",
              "          )\n",
              "          (intermediate): BertIntermediate(\n",
              "            (dense): Linear(in_features=1024, out_features=4096, bias=True)\n",
              "          )\n",
              "          (output): BertOutput(\n",
              "            (dense): Linear(in_features=4096, out_features=1024, bias=True)\n",
              "            (LayerNorm): LayerNorm((1024,), eps=1e-12, elementwise_affine=True)\n",
              "            (dropout): Dropout(p=0.1, inplace=False)\n",
              "          )\n",
              "        )\n",
              "        (10): BertLayer(\n",
              "          (attention): BertAttention(\n",
              "            (self): BertSelfAttention(\n",
              "              (query): Linear(in_features=1024, out_features=1024, bias=True)\n",
              "              (key): Linear(in_features=1024, out_features=1024, bias=True)\n",
              "              (value): Linear(in_features=1024, out_features=1024, bias=True)\n",
              "              (dropout): Dropout(p=0.1, inplace=False)\n",
              "            )\n",
              "            (output): BertSelfOutput(\n",
              "              (dense): Linear(in_features=1024, out_features=1024, bias=True)\n",
              "              (LayerNorm): LayerNorm((1024,), eps=1e-12, elementwise_affine=True)\n",
              "              (dropout): Dropout(p=0.1, inplace=False)\n",
              "            )\n",
              "          )\n",
              "          (intermediate): BertIntermediate(\n",
              "            (dense): Linear(in_features=1024, out_features=4096, bias=True)\n",
              "          )\n",
              "          (output): BertOutput(\n",
              "            (dense): Linear(in_features=4096, out_features=1024, bias=True)\n",
              "            (LayerNorm): LayerNorm((1024,), eps=1e-12, elementwise_affine=True)\n",
              "            (dropout): Dropout(p=0.1, inplace=False)\n",
              "          )\n",
              "        )\n",
              "        (11): BertLayer(\n",
              "          (attention): BertAttention(\n",
              "            (self): BertSelfAttention(\n",
              "              (query): Linear(in_features=1024, out_features=1024, bias=True)\n",
              "              (key): Linear(in_features=1024, out_features=1024, bias=True)\n",
              "              (value): Linear(in_features=1024, out_features=1024, bias=True)\n",
              "              (dropout): Dropout(p=0.1, inplace=False)\n",
              "            )\n",
              "            (output): BertSelfOutput(\n",
              "              (dense): Linear(in_features=1024, out_features=1024, bias=True)\n",
              "              (LayerNorm): LayerNorm((1024,), eps=1e-12, elementwise_affine=True)\n",
              "              (dropout): Dropout(p=0.1, inplace=False)\n",
              "            )\n",
              "          )\n",
              "          (intermediate): BertIntermediate(\n",
              "            (dense): Linear(in_features=1024, out_features=4096, bias=True)\n",
              "          )\n",
              "          (output): BertOutput(\n",
              "            (dense): Linear(in_features=4096, out_features=1024, bias=True)\n",
              "            (LayerNorm): LayerNorm((1024,), eps=1e-12, elementwise_affine=True)\n",
              "            (dropout): Dropout(p=0.1, inplace=False)\n",
              "          )\n",
              "        )\n",
              "        (12): BertLayer(\n",
              "          (attention): BertAttention(\n",
              "            (self): BertSelfAttention(\n",
              "              (query): Linear(in_features=1024, out_features=1024, bias=True)\n",
              "              (key): Linear(in_features=1024, out_features=1024, bias=True)\n",
              "              (value): Linear(in_features=1024, out_features=1024, bias=True)\n",
              "              (dropout): Dropout(p=0.1, inplace=False)\n",
              "            )\n",
              "            (output): BertSelfOutput(\n",
              "              (dense): Linear(in_features=1024, out_features=1024, bias=True)\n",
              "              (LayerNorm): LayerNorm((1024,), eps=1e-12, elementwise_affine=True)\n",
              "              (dropout): Dropout(p=0.1, inplace=False)\n",
              "            )\n",
              "          )\n",
              "          (intermediate): BertIntermediate(\n",
              "            (dense): Linear(in_features=1024, out_features=4096, bias=True)\n",
              "          )\n",
              "          (output): BertOutput(\n",
              "            (dense): Linear(in_features=4096, out_features=1024, bias=True)\n",
              "            (LayerNorm): LayerNorm((1024,), eps=1e-12, elementwise_affine=True)\n",
              "            (dropout): Dropout(p=0.1, inplace=False)\n",
              "          )\n",
              "        )\n",
              "        (13): BertLayer(\n",
              "          (attention): BertAttention(\n",
              "            (self): BertSelfAttention(\n",
              "              (query): Linear(in_features=1024, out_features=1024, bias=True)\n",
              "              (key): Linear(in_features=1024, out_features=1024, bias=True)\n",
              "              (value): Linear(in_features=1024, out_features=1024, bias=True)\n",
              "              (dropout): Dropout(p=0.1, inplace=False)\n",
              "            )\n",
              "            (output): BertSelfOutput(\n",
              "              (dense): Linear(in_features=1024, out_features=1024, bias=True)\n",
              "              (LayerNorm): LayerNorm((1024,), eps=1e-12, elementwise_affine=True)\n",
              "              (dropout): Dropout(p=0.1, inplace=False)\n",
              "            )\n",
              "          )\n",
              "          (intermediate): BertIntermediate(\n",
              "            (dense): Linear(in_features=1024, out_features=4096, bias=True)\n",
              "          )\n",
              "          (output): BertOutput(\n",
              "            (dense): Linear(in_features=4096, out_features=1024, bias=True)\n",
              "            (LayerNorm): LayerNorm((1024,), eps=1e-12, elementwise_affine=True)\n",
              "            (dropout): Dropout(p=0.1, inplace=False)\n",
              "          )\n",
              "        )\n",
              "        (14): BertLayer(\n",
              "          (attention): BertAttention(\n",
              "            (self): BertSelfAttention(\n",
              "              (query): Linear(in_features=1024, out_features=1024, bias=True)\n",
              "              (key): Linear(in_features=1024, out_features=1024, bias=True)\n",
              "              (value): Linear(in_features=1024, out_features=1024, bias=True)\n",
              "              (dropout): Dropout(p=0.1, inplace=False)\n",
              "            )\n",
              "            (output): BertSelfOutput(\n",
              "              (dense): Linear(in_features=1024, out_features=1024, bias=True)\n",
              "              (LayerNorm): LayerNorm((1024,), eps=1e-12, elementwise_affine=True)\n",
              "              (dropout): Dropout(p=0.1, inplace=False)\n",
              "            )\n",
              "          )\n",
              "          (intermediate): BertIntermediate(\n",
              "            (dense): Linear(in_features=1024, out_features=4096, bias=True)\n",
              "          )\n",
              "          (output): BertOutput(\n",
              "            (dense): Linear(in_features=4096, out_features=1024, bias=True)\n",
              "            (LayerNorm): LayerNorm((1024,), eps=1e-12, elementwise_affine=True)\n",
              "            (dropout): Dropout(p=0.1, inplace=False)\n",
              "          )\n",
              "        )\n",
              "        (15): BertLayer(\n",
              "          (attention): BertAttention(\n",
              "            (self): BertSelfAttention(\n",
              "              (query): Linear(in_features=1024, out_features=1024, bias=True)\n",
              "              (key): Linear(in_features=1024, out_features=1024, bias=True)\n",
              "              (value): Linear(in_features=1024, out_features=1024, bias=True)\n",
              "              (dropout): Dropout(p=0.1, inplace=False)\n",
              "            )\n",
              "            (output): BertSelfOutput(\n",
              "              (dense): Linear(in_features=1024, out_features=1024, bias=True)\n",
              "              (LayerNorm): LayerNorm((1024,), eps=1e-12, elementwise_affine=True)\n",
              "              (dropout): Dropout(p=0.1, inplace=False)\n",
              "            )\n",
              "          )\n",
              "          (intermediate): BertIntermediate(\n",
              "            (dense): Linear(in_features=1024, out_features=4096, bias=True)\n",
              "          )\n",
              "          (output): BertOutput(\n",
              "            (dense): Linear(in_features=4096, out_features=1024, bias=True)\n",
              "            (LayerNorm): LayerNorm((1024,), eps=1e-12, elementwise_affine=True)\n",
              "            (dropout): Dropout(p=0.1, inplace=False)\n",
              "          )\n",
              "        )\n",
              "        (16): BertLayer(\n",
              "          (attention): BertAttention(\n",
              "            (self): BertSelfAttention(\n",
              "              (query): Linear(in_features=1024, out_features=1024, bias=True)\n",
              "              (key): Linear(in_features=1024, out_features=1024, bias=True)\n",
              "              (value): Linear(in_features=1024, out_features=1024, bias=True)\n",
              "              (dropout): Dropout(p=0.1, inplace=False)\n",
              "            )\n",
              "            (output): BertSelfOutput(\n",
              "              (dense): Linear(in_features=1024, out_features=1024, bias=True)\n",
              "              (LayerNorm): LayerNorm((1024,), eps=1e-12, elementwise_affine=True)\n",
              "              (dropout): Dropout(p=0.1, inplace=False)\n",
              "            )\n",
              "          )\n",
              "          (intermediate): BertIntermediate(\n",
              "            (dense): Linear(in_features=1024, out_features=4096, bias=True)\n",
              "          )\n",
              "          (output): BertOutput(\n",
              "            (dense): Linear(in_features=4096, out_features=1024, bias=True)\n",
              "            (LayerNorm): LayerNorm((1024,), eps=1e-12, elementwise_affine=True)\n",
              "            (dropout): Dropout(p=0.1, inplace=False)\n",
              "          )\n",
              "        )\n",
              "        (17): BertLayer(\n",
              "          (attention): BertAttention(\n",
              "            (self): BertSelfAttention(\n",
              "              (query): Linear(in_features=1024, out_features=1024, bias=True)\n",
              "              (key): Linear(in_features=1024, out_features=1024, bias=True)\n",
              "              (value): Linear(in_features=1024, out_features=1024, bias=True)\n",
              "              (dropout): Dropout(p=0.1, inplace=False)\n",
              "            )\n",
              "            (output): BertSelfOutput(\n",
              "              (dense): Linear(in_features=1024, out_features=1024, bias=True)\n",
              "              (LayerNorm): LayerNorm((1024,), eps=1e-12, elementwise_affine=True)\n",
              "              (dropout): Dropout(p=0.1, inplace=False)\n",
              "            )\n",
              "          )\n",
              "          (intermediate): BertIntermediate(\n",
              "            (dense): Linear(in_features=1024, out_features=4096, bias=True)\n",
              "          )\n",
              "          (output): BertOutput(\n",
              "            (dense): Linear(in_features=4096, out_features=1024, bias=True)\n",
              "            (LayerNorm): LayerNorm((1024,), eps=1e-12, elementwise_affine=True)\n",
              "            (dropout): Dropout(p=0.1, inplace=False)\n",
              "          )\n",
              "        )\n",
              "        (18): BertLayer(\n",
              "          (attention): BertAttention(\n",
              "            (self): BertSelfAttention(\n",
              "              (query): Linear(in_features=1024, out_features=1024, bias=True)\n",
              "              (key): Linear(in_features=1024, out_features=1024, bias=True)\n",
              "              (value): Linear(in_features=1024, out_features=1024, bias=True)\n",
              "              (dropout): Dropout(p=0.1, inplace=False)\n",
              "            )\n",
              "            (output): BertSelfOutput(\n",
              "              (dense): Linear(in_features=1024, out_features=1024, bias=True)\n",
              "              (LayerNorm): LayerNorm((1024,), eps=1e-12, elementwise_affine=True)\n",
              "              (dropout): Dropout(p=0.1, inplace=False)\n",
              "            )\n",
              "          )\n",
              "          (intermediate): BertIntermediate(\n",
              "            (dense): Linear(in_features=1024, out_features=4096, bias=True)\n",
              "          )\n",
              "          (output): BertOutput(\n",
              "            (dense): Linear(in_features=4096, out_features=1024, bias=True)\n",
              "            (LayerNorm): LayerNorm((1024,), eps=1e-12, elementwise_affine=True)\n",
              "            (dropout): Dropout(p=0.1, inplace=False)\n",
              "          )\n",
              "        )\n",
              "        (19): BertLayer(\n",
              "          (attention): BertAttention(\n",
              "            (self): BertSelfAttention(\n",
              "              (query): Linear(in_features=1024, out_features=1024, bias=True)\n",
              "              (key): Linear(in_features=1024, out_features=1024, bias=True)\n",
              "              (value): Linear(in_features=1024, out_features=1024, bias=True)\n",
              "              (dropout): Dropout(p=0.1, inplace=False)\n",
              "            )\n",
              "            (output): BertSelfOutput(\n",
              "              (dense): Linear(in_features=1024, out_features=1024, bias=True)\n",
              "              (LayerNorm): LayerNorm((1024,), eps=1e-12, elementwise_affine=True)\n",
              "              (dropout): Dropout(p=0.1, inplace=False)\n",
              "            )\n",
              "          )\n",
              "          (intermediate): BertIntermediate(\n",
              "            (dense): Linear(in_features=1024, out_features=4096, bias=True)\n",
              "          )\n",
              "          (output): BertOutput(\n",
              "            (dense): Linear(in_features=4096, out_features=1024, bias=True)\n",
              "            (LayerNorm): LayerNorm((1024,), eps=1e-12, elementwise_affine=True)\n",
              "            (dropout): Dropout(p=0.1, inplace=False)\n",
              "          )\n",
              "        )\n",
              "        (20): BertLayer(\n",
              "          (attention): BertAttention(\n",
              "            (self): BertSelfAttention(\n",
              "              (query): Linear(in_features=1024, out_features=1024, bias=True)\n",
              "              (key): Linear(in_features=1024, out_features=1024, bias=True)\n",
              "              (value): Linear(in_features=1024, out_features=1024, bias=True)\n",
              "              (dropout): Dropout(p=0.1, inplace=False)\n",
              "            )\n",
              "            (output): BertSelfOutput(\n",
              "              (dense): Linear(in_features=1024, out_features=1024, bias=True)\n",
              "              (LayerNorm): LayerNorm((1024,), eps=1e-12, elementwise_affine=True)\n",
              "              (dropout): Dropout(p=0.1, inplace=False)\n",
              "            )\n",
              "          )\n",
              "          (intermediate): BertIntermediate(\n",
              "            (dense): Linear(in_features=1024, out_features=4096, bias=True)\n",
              "          )\n",
              "          (output): BertOutput(\n",
              "            (dense): Linear(in_features=4096, out_features=1024, bias=True)\n",
              "            (LayerNorm): LayerNorm((1024,), eps=1e-12, elementwise_affine=True)\n",
              "            (dropout): Dropout(p=0.1, inplace=False)\n",
              "          )\n",
              "        )\n",
              "        (21): BertLayer(\n",
              "          (attention): BertAttention(\n",
              "            (self): BertSelfAttention(\n",
              "              (query): Linear(in_features=1024, out_features=1024, bias=True)\n",
              "              (key): Linear(in_features=1024, out_features=1024, bias=True)\n",
              "              (value): Linear(in_features=1024, out_features=1024, bias=True)\n",
              "              (dropout): Dropout(p=0.1, inplace=False)\n",
              "            )\n",
              "            (output): BertSelfOutput(\n",
              "              (dense): Linear(in_features=1024, out_features=1024, bias=True)\n",
              "              (LayerNorm): LayerNorm((1024,), eps=1e-12, elementwise_affine=True)\n",
              "              (dropout): Dropout(p=0.1, inplace=False)\n",
              "            )\n",
              "          )\n",
              "          (intermediate): BertIntermediate(\n",
              "            (dense): Linear(in_features=1024, out_features=4096, bias=True)\n",
              "          )\n",
              "          (output): BertOutput(\n",
              "            (dense): Linear(in_features=4096, out_features=1024, bias=True)\n",
              "            (LayerNorm): LayerNorm((1024,), eps=1e-12, elementwise_affine=True)\n",
              "            (dropout): Dropout(p=0.1, inplace=False)\n",
              "          )\n",
              "        )\n",
              "        (22): BertLayer(\n",
              "          (attention): BertAttention(\n",
              "            (self): BertSelfAttention(\n",
              "              (query): Linear(in_features=1024, out_features=1024, bias=True)\n",
              "              (key): Linear(in_features=1024, out_features=1024, bias=True)\n",
              "              (value): Linear(in_features=1024, out_features=1024, bias=True)\n",
              "              (dropout): Dropout(p=0.1, inplace=False)\n",
              "            )\n",
              "            (output): BertSelfOutput(\n",
              "              (dense): Linear(in_features=1024, out_features=1024, bias=True)\n",
              "              (LayerNorm): LayerNorm((1024,), eps=1e-12, elementwise_affine=True)\n",
              "              (dropout): Dropout(p=0.1, inplace=False)\n",
              "            )\n",
              "          )\n",
              "          (intermediate): BertIntermediate(\n",
              "            (dense): Linear(in_features=1024, out_features=4096, bias=True)\n",
              "          )\n",
              "          (output): BertOutput(\n",
              "            (dense): Linear(in_features=4096, out_features=1024, bias=True)\n",
              "            (LayerNorm): LayerNorm((1024,), eps=1e-12, elementwise_affine=True)\n",
              "            (dropout): Dropout(p=0.1, inplace=False)\n",
              "          )\n",
              "        )\n",
              "        (23): BertLayer(\n",
              "          (attention): BertAttention(\n",
              "            (self): BertSelfAttention(\n",
              "              (query): Linear(in_features=1024, out_features=1024, bias=True)\n",
              "              (key): Linear(in_features=1024, out_features=1024, bias=True)\n",
              "              (value): Linear(in_features=1024, out_features=1024, bias=True)\n",
              "              (dropout): Dropout(p=0.1, inplace=False)\n",
              "            )\n",
              "            (output): BertSelfOutput(\n",
              "              (dense): Linear(in_features=1024, out_features=1024, bias=True)\n",
              "              (LayerNorm): LayerNorm((1024,), eps=1e-12, elementwise_affine=True)\n",
              "              (dropout): Dropout(p=0.1, inplace=False)\n",
              "            )\n",
              "          )\n",
              "          (intermediate): BertIntermediate(\n",
              "            (dense): Linear(in_features=1024, out_features=4096, bias=True)\n",
              "          )\n",
              "          (output): BertOutput(\n",
              "            (dense): Linear(in_features=4096, out_features=1024, bias=True)\n",
              "            (LayerNorm): LayerNorm((1024,), eps=1e-12, elementwise_affine=True)\n",
              "            (dropout): Dropout(p=0.1, inplace=False)\n",
              "          )\n",
              "        )\n",
              "      )\n",
              "    )\n",
              "    (pooler): BertPooler(\n",
              "      (dense): Linear(in_features=1024, out_features=1024, bias=True)\n",
              "      (activation): Tanh()\n",
              "    )\n",
              "  )\n",
              "  (dropout): Dropout(p=0.1, inplace=False)\n",
              "  (classifier): Linear(in_features=1024, out_features=4, bias=True)\n",
              ")"
            ]
          },
          "metadata": {
            "tags": []
          },
          "execution_count": 38
        }
      ]
    },
    {
      "cell_type": "code",
      "metadata": {
        "id": "ZBt_tfUMovdI"
      },
      "source": [
        "# Get all of the model's parameters as a list of tuples.\n",
        "params = list(model.named_parameters())\n",
        "\n",
        "optimizer = AdamW( model.parameters(), lr = 2e-5, eps = 1e-8)\n",
        "\n",
        "from transformers import get_linear_schedule_with_warmup\n",
        "epochs = 4\n",
        "\n",
        "# Total number of training steps is [number of batches] x [number of epochs]. \n",
        "total_steps = len(train_dataloader) * epochs\n",
        "\n",
        "# Create the learning rate scheduler.\n",
        "scheduler = get_linear_schedule_with_warmup(optimizer, num_warmup_steps = 0,num_training_steps = total_steps)\n"
      ],
      "execution_count": null,
      "outputs": []
    },
    {
      "cell_type": "code",
      "metadata": {
        "id": "6LtOrA52o0OU"
      },
      "source": [
        "import numpy as np\n",
        "\n",
        "# Function to calculate the accuracy of our predictions vs labels\n",
        "def flat_accuracy(preds, labels):\n",
        "    pred_flat = np.argmax(preds, axis=1).flatten()\n",
        "    labels_flat = labels.flatten()\n",
        "    return np.sum(pred_flat == labels_flat) / len(labels_flat)"
      ],
      "execution_count": null,
      "outputs": []
    },
    {
      "cell_type": "code",
      "metadata": {
        "id": "-yCjhLh4o2aF"
      },
      "source": [
        "import time\n",
        "import datetime\n",
        "\n",
        "def format_time(elapsed):\n",
        "    '''\n",
        "    Takes a time in seconds and returns a string hh:mm:ss\n",
        "    '''\n",
        "    # Round to the nearest second.\n",
        "    elapsed_rounded = int(round((elapsed)))\n",
        "    \n",
        "    # Format as hh:mm:ss\n",
        "    return str(datetime.timedelta(seconds=elapsed_rounded))\n"
      ],
      "execution_count": null,
      "outputs": []
    },
    {
      "cell_type": "code",
      "metadata": {
        "colab": {
          "base_uri": "https://localhost:8080/"
        },
        "id": "SZWSPVoPo7Mt",
        "outputId": "de42148a-c088-41fe-a441-bd7974dc7976"
      },
      "source": [
        "import random\n",
        "import numpy as np\n",
        "\n",
        "# Random seed\n",
        "seed_val = 16\n",
        "\n",
        "random.seed(seed_val)\n",
        "np.random.seed(seed_val)\n",
        "torch.manual_seed(seed_val)\n",
        "torch.cuda.manual_seed_all(seed_val)\n",
        "\n",
        "# We'll store a number of quantities such as training and validation loss, \n",
        "# validation accuracy, and timings.\n",
        "training_stats = []\n",
        "\n",
        "# Measure the total training time for the whole run.\n",
        "total_t0 = time.time()\n",
        "\n",
        "# For each epoch...\n",
        "for epoch_i in range(0, epochs):\n",
        "    \n",
        "    # ========================================\n",
        "    #               Training\n",
        "    # ========================================\n",
        "    \n",
        "    # Perform one full pass over the training set.\n",
        "\n",
        "    print(\"\")\n",
        "    print('======== Epoch {:} / {:} ========'.format(epoch_i + 1, epochs))\n",
        "    print('Training...')\n",
        "\n",
        "    # Measure how long the training epoch takes.\n",
        "    t0 = time.time()\n",
        "\n",
        "    # Reset the total loss for this epoch.\n",
        "    total_train_loss = 0\n",
        "    model.train()\n",
        "\n",
        "    # For each batch of training data...\n",
        "    for step, batch in enumerate(train_dataloader):\n",
        "\n",
        "        # Progress update every 40 batches.\n",
        "        if step % 40 == 0 and not step == 0:\n",
        "            # Calculate elapsed time in minutes.\n",
        "            elapsed = format_time(time.time() - t0)\n",
        "            \n",
        "            # Report progress.\n",
        "            print('  Batch {:>5,}  of  {:>5,}.    Elapsed: {:}.'.format(step, len(train_dataloader), elapsed))\n",
        "\n",
        "        b_input_ids = batch[0].to(device)\n",
        "        b_input_mask = batch[1].to(device)\n",
        "        b_labels = batch[2].to(device)\n",
        "        \n",
        "        model.zero_grad()        \n",
        "\n",
        "        result = model(b_input_ids, \n",
        "                       token_type_ids=None, \n",
        "                       attention_mask=b_input_mask, \n",
        "                       labels=b_labels,\n",
        "                       return_dict=True)\n",
        "\n",
        "        loss = result.loss\n",
        "        logits = result.logits\n",
        "\n",
        "        total_train_loss += loss.item()\n",
        "\n",
        "        # Perform a backward pass to calculate the gradients.\n",
        "        loss.backward()\n",
        "\n",
        "        # Clip the norm of the gradients to 1.0.\n",
        "        # This is to help prevent the \"exploding gradients\" problem.\n",
        "        torch.nn.utils.clip_grad_norm_(model.parameters(), 1.0)\n",
        "\n",
        "        # Update parameters and take a step using the computed gradient.\n",
        "        # The optimizer dictates the \"update rule\"--how the parameters are\n",
        "        # modified based on their gradients, the learning rate, etc.\n",
        "        optimizer.step()\n",
        "\n",
        "        # Update the learning rate.\n",
        "        scheduler.step()\n",
        "\n",
        "    # Calculate the average loss over all of the batches.\n",
        "    avg_train_loss = total_train_loss / len(train_dataloader)            \n",
        "    \n",
        "    # Measure how long this epoch took.\n",
        "    training_time = format_time(time.time() - t0)\n",
        "\n",
        "    print(\"\")\n",
        "    print(\"  Average training loss: {0:.2f}\".format(avg_train_loss))\n",
        "    print(\"  Training epcoh took: {:}\".format(training_time))\n",
        "        \n",
        "    # ========================================\n",
        "    #               Validation\n",
        "    # ========================================\n",
        "    # After the completion of each training epoch, measure our performance on\n",
        "    # our validation set.\n",
        "\n",
        "    print(\"\")\n",
        "    print(\"Running Validation...\")\n",
        "\n",
        "    t0 = time.time()\n",
        "\n",
        "    # Put the model in evaluation mode--the dropout layers behave differently\n",
        "    # during evaluation.\n",
        "    model.eval()\n",
        "\n",
        "    # Tracking variables \n",
        "    total_eval_accuracy = 0\n",
        "    total_eval_loss = 0\n",
        "    nb_eval_steps = 0\n",
        "\n",
        "    # Evaluate data for one epoch\n",
        "    for batch in validation_dataloader:\n",
        "        b_input_ids = batch[0].to(device)\n",
        "        b_input_mask = batch[1].to(device)\n",
        "        b_labels = batch[2].to(device)\n",
        "        \n",
        "        # Tell pytorch not to bother with constructing the compute graph during\n",
        "        # the forward pass, since this is only needed for backprop (training).\n",
        "        with torch.no_grad():        \n",
        "\n",
        "            # Forward pass, calculate logit predictions.\n",
        "            # token_type_ids is the same as the \"segment ids\", which \n",
        "            # differentiates sentence 1 and 2 in 2-sentence tasks.\n",
        "            result = model(b_input_ids, \n",
        "                           token_type_ids=None, \n",
        "                           attention_mask=b_input_mask,\n",
        "                           labels=b_labels,\n",
        "                           return_dict=True)\n",
        "            \n",
        "        loss = result.loss\n",
        "        logits = result.logits\n",
        "            \n",
        "        # Accumulate the validation loss.\n",
        "        total_eval_loss += loss.item()\n",
        "\n",
        "        # Move logits and labels to CPU\n",
        "        logits = logits.detach().cpu().numpy()\n",
        "        label_ids = b_labels.to('cpu').numpy()\n",
        "\n",
        "        # Calculate the accuracy for this batch of test sentences, and\n",
        "        # accumulate it over all batches.\n",
        "        total_eval_accuracy += flat_accuracy(logits, label_ids)\n",
        "        \n",
        "\n",
        "    # Report the final accuracy for this validation run.\n",
        "    avg_val_accuracy = total_eval_accuracy / len(validation_dataloader)\n",
        "    print(\"  Accuracy: {0:.2f}\".format(avg_val_accuracy))\n",
        "\n",
        "    # Calculate the average loss over all of the batches.\n",
        "    avg_val_loss = total_eval_loss / len(validation_dataloader)\n",
        "    \n",
        "    # Measure how long the validation run took.\n",
        "    validation_time = format_time(time.time() - t0)\n",
        "    \n",
        "    print(\"  Validation Loss: {0:.2f}\".format(avg_val_loss))\n",
        "    print(\"  Validation took: {:}\".format(validation_time))\n",
        "\n",
        "    # Record all statistics from this epoch.\n",
        "    training_stats.append(\n",
        "        {\n",
        "            'epoch': epoch_i + 1,\n",
        "            'Training Loss': avg_train_loss,\n",
        "            'Valid. Loss': avg_val_loss,\n",
        "            'Valid. Accur.': avg_val_accuracy,\n",
        "            'Training Time': training_time,\n",
        "            'Validation Time': validation_time\n",
        "        }\n",
        "    )\n",
        "\n",
        "print(\"\")\n",
        "print(\"Training complete!\")\n",
        "print(\"Total training took {:} (h:mm:ss)\".format(format_time(time.time()-total_t0)))"
      ],
      "execution_count": null,
      "outputs": [
        {
          "output_type": "stream",
          "text": [
            "\n",
            "======== Epoch 1 / 4 ========\n",
            "Training...\n",
            "  Batch    40  of     67.    Elapsed: 0:00:26.\n",
            "\n",
            "  Average training loss: 1.33\n",
            "  Training epcoh took: 0:00:43\n",
            "\n",
            "Running Validation...\n",
            "  Accuracy: 0.51\n",
            "  Validation Loss: 1.17\n",
            "  Validation took: 0:00:02\n",
            "\n",
            "======== Epoch 2 / 4 ========\n",
            "Training...\n",
            "  Batch    40  of     67.    Elapsed: 0:00:27.\n",
            "\n",
            "  Average training loss: 0.96\n",
            "  Training epcoh took: 0:00:46\n",
            "\n",
            "Running Validation...\n",
            "  Accuracy: 0.73\n",
            "  Validation Loss: 0.85\n",
            "  Validation took: 0:00:02\n",
            "\n",
            "======== Epoch 3 / 4 ========\n",
            "Training...\n",
            "  Batch    40  of     67.    Elapsed: 0:00:28.\n",
            "\n",
            "  Average training loss: 0.59\n",
            "  Training epcoh took: 0:00:47\n",
            "\n",
            "Running Validation...\n",
            "  Accuracy: 0.78\n",
            "  Validation Loss: 0.69\n",
            "  Validation took: 0:00:02\n",
            "\n",
            "======== Epoch 4 / 4 ========\n",
            "Training...\n",
            "  Batch    40  of     67.    Elapsed: 0:00:28.\n",
            "\n",
            "  Average training loss: 0.37\n",
            "  Training epcoh took: 0:00:47\n",
            "\n",
            "Running Validation...\n",
            "  Accuracy: 0.75\n",
            "  Validation Loss: 0.67\n",
            "  Validation took: 0:00:02\n",
            "\n",
            "Training complete!\n",
            "Total training took 0:03:09 (h:mm:ss)\n"
          ],
          "name": "stdout"
        }
      ]
    },
    {
      "cell_type": "code",
      "metadata": {
        "colab": {
          "base_uri": "https://localhost:8080/",
          "height": 206
        },
        "id": "eAeZddVRo8zI",
        "outputId": "03d79ff0-de76-4f02-9dcc-42bf56843933"
      },
      "source": [
        "import pandas as pd\n",
        "pd.set_option('precision', 2)\n",
        "df_stats = pd.DataFrame(data=training_stats)\n",
        "# Use the 'epoch' as the row index.\n",
        "df_stats = df_stats.set_index('epoch')\n",
        "# Display the table.\n",
        "df_stats"
      ],
      "execution_count": null,
      "outputs": [
        {
          "output_type": "execute_result",
          "data": {
            "text/html": [
              "<div>\n",
              "<style scoped>\n",
              "    .dataframe tbody tr th:only-of-type {\n",
              "        vertical-align: middle;\n",
              "    }\n",
              "\n",
              "    .dataframe tbody tr th {\n",
              "        vertical-align: top;\n",
              "    }\n",
              "\n",
              "    .dataframe thead th {\n",
              "        text-align: right;\n",
              "    }\n",
              "</style>\n",
              "<table border=\"1\" class=\"dataframe\">\n",
              "  <thead>\n",
              "    <tr style=\"text-align: right;\">\n",
              "      <th></th>\n",
              "      <th>Training Loss</th>\n",
              "      <th>Valid. Loss</th>\n",
              "      <th>Valid. Accur.</th>\n",
              "      <th>Training Time</th>\n",
              "      <th>Validation Time</th>\n",
              "    </tr>\n",
              "    <tr>\n",
              "      <th>epoch</th>\n",
              "      <th></th>\n",
              "      <th></th>\n",
              "      <th></th>\n",
              "      <th></th>\n",
              "      <th></th>\n",
              "    </tr>\n",
              "  </thead>\n",
              "  <tbody>\n",
              "    <tr>\n",
              "      <th>1</th>\n",
              "      <td>1.33</td>\n",
              "      <td>1.17</td>\n",
              "      <td>0.51</td>\n",
              "      <td>0:00:43</td>\n",
              "      <td>0:00:02</td>\n",
              "    </tr>\n",
              "    <tr>\n",
              "      <th>2</th>\n",
              "      <td>0.96</td>\n",
              "      <td>0.85</td>\n",
              "      <td>0.73</td>\n",
              "      <td>0:00:46</td>\n",
              "      <td>0:00:02</td>\n",
              "    </tr>\n",
              "    <tr>\n",
              "      <th>3</th>\n",
              "      <td>0.59</td>\n",
              "      <td>0.69</td>\n",
              "      <td>0.78</td>\n",
              "      <td>0:00:47</td>\n",
              "      <td>0:00:02</td>\n",
              "    </tr>\n",
              "    <tr>\n",
              "      <th>4</th>\n",
              "      <td>0.37</td>\n",
              "      <td>0.67</td>\n",
              "      <td>0.75</td>\n",
              "      <td>0:00:47</td>\n",
              "      <td>0:00:02</td>\n",
              "    </tr>\n",
              "  </tbody>\n",
              "</table>\n",
              "</div>"
            ],
            "text/plain": [
              "       Training Loss  Valid. Loss  Valid. Accur. Training Time Validation Time\n",
              "epoch                                                                         \n",
              "1               1.33         1.17           0.51       0:00:43         0:00:02\n",
              "2               0.96         0.85           0.73       0:00:46         0:00:02\n",
              "3               0.59         0.69           0.78       0:00:47         0:00:02\n",
              "4               0.37         0.67           0.75       0:00:47         0:00:02"
            ]
          },
          "metadata": {
            "tags": []
          },
          "execution_count": 47
        }
      ]
    },
    {
      "cell_type": "code",
      "metadata": {
        "colab": {
          "base_uri": "https://localhost:8080/",
          "height": 427
        },
        "id": "xFTPlLasyWiq",
        "outputId": "74cef59b-6f68-48a0-cc36-a25adb7492cc"
      },
      "source": [
        "import matplotlib.pyplot as plt\n",
        "% matplotlib inline\n",
        "\n",
        "import seaborn as sns\n",
        "\n",
        "# Use plot styling from seaborn.\n",
        "sns.set(style='darkgrid')\n",
        "\n",
        "# Increase the plot size and font size.\n",
        "sns.set(font_scale=1.5)\n",
        "plt.rcParams[\"figure.figsize\"] = (12,6)\n",
        "\n",
        "# Plot the learning curve.\n",
        "plt.plot(df_stats['Training Loss'], 'b-o', label=\"Training\")\n",
        "plt.plot(df_stats['Valid. Loss'], 'g-o', label=\"Validation\")\n",
        "\n",
        "# Label the plot.\n",
        "plt.title(\"Training & Validation Loss\")\n",
        "plt.xlabel(\"Epoch\")\n",
        "plt.ylabel(\"Loss\")\n",
        "plt.legend()\n",
        "plt.xticks([1, 2, 3, 4])\n",
        "\n",
        "plt.show()"
      ],
      "execution_count": null,
      "outputs": [
        {
          "output_type": "display_data",
          "data": {
            "image/png": "[encoded data removed]",
            "text/plain": [
              "<Figure size 864x432 with 1 Axes>"
            ]
          },
          "metadata": {
            "tags": []
          }
        }
      ]
    },
    {
      "cell_type": "code",
      "metadata": {
        "id": "HZdVDQArycLm"
      },
      "source": [
        "# Create sentence and label lists\n",
        "sentences = test_final['tweet']\n",
        "labels = test_final['label']\n",
        "\n",
        "# Tokenize all of the sentences and map the tokens to thier word IDs.\n",
        "input_ids = []\n",
        "attention_masks = []\n",
        "\n",
        "# For every sentence...\n",
        "for sent in sentences:\n",
        "    encoded_dict = tokenizer.encode_plus(\n",
        "                        sent,                      # Sentence to encode.\n",
        "                        add_special_tokens = True, # Add '[CLS]' and '[SEP]'\n",
        "                        max_length = 64,           # Pad & truncate all sentences.\n",
        "                        pad_to_max_length = True,\n",
        "                        return_attention_mask = True,   # Construct attn. masks.\n",
        "                        return_tensors = 'pt',     # Return pytorch tensors.\n",
        "                   )\n",
        "    \n",
        "    # Add the encoded sentence to the list.    \n",
        "    input_ids.append(encoded_dict['input_ids'])\n",
        "    \n",
        "    # And its attention mask (simply differentiates padding from non-padding).\n",
        "    attention_masks.append(encoded_dict['attention_mask'])\n",
        "\n",
        "# Convert the lists into tensors.\n",
        "input_ids = torch.cat(input_ids, dim=0)\n",
        "attention_masks = torch.cat(attention_masks, dim=0)\n",
        "labels = torch.tensor(labels)\n",
        "\n",
        "# Set the batch size.  \n",
        "batch_size =  16\n",
        "\n",
        "# Create the DataLoader.\n",
        "prediction_data = TensorDataset(input_ids, attention_masks, labels)\n",
        "prediction_sampler = SequentialSampler(prediction_data)\n",
        "prediction_dataloader = DataLoader(prediction_data, sampler=prediction_sampler, batch_size=batch_size)"
      ],
      "execution_count": null,
      "outputs": []
    },
    {
      "cell_type": "code",
      "metadata": {
        "colab": {
          "base_uri": "https://localhost:8080/"
        },
        "id": "0KEhK2-NBdqo",
        "outputId": "525a56a2-fbf8-4e96-b005-10d68b1bf027"
      },
      "source": [
        "# Prediction on test set\n",
        "\n",
        "print('Predicting labels for {:,} test sentences...'.format(len(input_ids)))\n",
        "\n",
        "# Put model in evaluation mode\n",
        "model.eval()\n",
        "\n",
        "# Tracking variables \n",
        "predictions , true_labels = [], []\n",
        "\n",
        "# Predict \n",
        "for batch in prediction_dataloader:\n",
        "  # Add batch to GPU\n",
        "  batch = tuple(t.to(device) for t in batch)\n",
        "  \n",
        "  # Unpack the inputs from our dataloader\n",
        "  b_input_ids, b_input_mask, b_labels = batch\n",
        "  \n",
        "  # Telling the model not to compute or store gradients, saving memory and \n",
        "  # speeding up prediction\n",
        "  with torch.no_grad():\n",
        "      # Forward pass, calculate logit predictions.\n",
        "      result = model(b_input_ids, \n",
        "                     token_type_ids=None, \n",
        "                     attention_mask=b_input_mask,\n",
        "                     return_dict=True)\n",
        "\n",
        "  logits = result.logits\n",
        "\n",
        "  # Move logits and labels to CPU\n",
        "  logits = logits.detach().cpu().numpy()\n",
        "  label_ids = b_labels.to('cpu').numpy()\n",
        "  \n",
        "  # Store predictions and true labels\n",
        "  predictions.append(logits)\n",
        "  true_labels.append(label_ids)\n",
        "\n",
        "print('    DONE.')"
      ],
      "execution_count": null,
      "outputs": [
        {
          "output_type": "stream",
          "text": [
            "Predicting labels for 298 test sentences...\n",
            "    DONE.\n"
          ],
          "name": "stdout"
        }
      ]
    },
    {
      "cell_type": "code",
      "metadata": {
        "colab": {
          "base_uri": "https://localhost:8080/"
        },
        "id": "DVzWkVzbFA_1",
        "outputId": "aae803fc-b5b3-495a-fb4c-100df289fb07"
      },
      "source": [
        "print(predictions)"
      ],
      "execution_count": null,
      "outputs": [
        {
          "output_type": "stream",
          "text": [
            "[array([[ 1.5983374 ,  1.0699958 , -1.082781  , -0.7126124 ],\n",
            "       [ 0.07137524, -0.5588703 ,  0.45862168,  0.4809673 ],\n",
            "       [-0.5679131 , -1.4803356 ,  2.143618  ,  0.31761232],\n",
            "       [-0.2211312 ,  0.87568647,  0.91505814, -1.1232944 ],\n",
            "       [ 0.931524  ,  2.2428188 , -1.8212215 , -0.37696245],\n",
            "       [-0.7378858 , -1.8818312 ,  1.1824362 ,  1.7041553 ],\n",
            "       [ 0.04882753, -1.3381985 ,  2.535571  , -0.65847677],\n",
            "       [-0.15524161,  2.5261004 , -0.48908672, -1.7770272 ],\n",
            "       [ 1.3586969 ,  1.944399  , -0.91316324, -0.48138967],\n",
            "       [ 0.3168776 , -1.8907923 , -1.0717524 ,  2.9818628 ],\n",
            "       [ 0.47710186,  2.160873  , -0.35390183, -2.5301912 ],\n",
            "       [-0.13523436, -1.3820765 ,  0.41297787,  1.8393742 ],\n",
            "       [ 2.0971525 ,  1.3957366 , -0.83834916, -1.1367791 ],\n",
            "       [ 1.9868746 ,  0.15846287, -0.25628877, -0.9232773 ],\n",
            "       [ 2.7324846 , -0.02661885,  0.32024515, -1.1983716 ],\n",
            "       [-0.85599655, -1.6198549 ,  1.7142524 ,  0.46988088]],\n",
            "      dtype=float32), array([[ 2.9625812e-01,  6.1542624e-01,  6.8348581e-01, -1.4013202e+00],\n",
            "       [-8.6971658e-01, -1.5989882e+00,  2.9267368e+00,  3.7625007e-02],\n",
            "       [ 1.1404263e-01, -6.5507096e-01, -1.4805688e+00,  2.5394349e+00],\n",
            "       [ 2.9506186e-01,  1.9281625e-03,  7.8195827e-03,  4.6888742e-01],\n",
            "       [ 1.3416266e+00,  2.4956679e+00, -1.3686637e+00, -9.4642055e-01],\n",
            "       [-3.6463681e-01, -2.0262880e+00,  1.8517832e+00,  7.4120235e-01],\n",
            "       [ 2.5148959e+00, -1.3124645e-01, -1.8411915e+00,  1.0517825e+00],\n",
            "       [ 2.5192654e+00,  3.0833626e-01, -1.7701190e+00,  8.4589675e-02],\n",
            "       [-9.1936535e-01, -6.8337852e-01,  3.3251843e+00, -1.2901566e+00],\n",
            "       [ 7.2429794e-01,  2.5174854e+00, -7.4902457e-01, -1.7697512e+00],\n",
            "       [ 5.2227771e-01, -8.2345766e-01, -1.3532665e+00,  2.5335042e+00],\n",
            "       [ 3.1921095e-01,  2.6211858e-01,  2.1082673e+00, -1.7980051e+00],\n",
            "       [-1.0917164e+00, -1.9208144e+00,  1.7608047e+00,  1.1268710e+00],\n",
            "       [ 6.1679280e-01, -8.2555985e-01, -1.5634078e+00,  2.2565062e+00],\n",
            "       [ 8.3567601e-01,  1.8380835e+00, -4.7614959e-01, -1.4536302e+00],\n",
            "       [ 9.5808333e-01,  1.2459108e+00, -1.0506395e+00, -7.3962167e-02]],\n",
            "      dtype=float32), array([[-0.29840374, -1.4927219 ,  0.45957077,  2.0776172 ],\n",
            "       [ 1.8160919 ,  0.5359009 , -1.8815054 ,  0.6303148 ],\n",
            "       [-1.1931014 , -1.0828191 ,  3.3088634 , -1.0634136 ],\n",
            "       [ 0.45366344, -1.1030658 ,  0.9828586 ,  0.55559534],\n",
            "       [-0.15192583, -1.493222  , -0.16160466,  2.4134538 ],\n",
            "       [-0.15226237, -1.6253986 ,  1.3677491 ,  1.4404209 ],\n",
            "       [-0.09575034, -1.6977929 ,  2.0891714 ,  0.14407387],\n",
            "       [ 1.6612809 , -0.14612189, -1.8471209 ,  1.3269752 ],\n",
            "       [ 1.5664176 ,  1.7628356 , -1.2683985 , -0.6694826 ],\n",
            "       [-0.4283376 , -1.359522  ,  2.395217  ,  0.05178554],\n",
            "       [-0.6229945 , -1.331059  ,  3.0145023 , -0.56936544],\n",
            "       [ 2.331773  ,  0.3573714 , -1.8300165 ,  0.19050594],\n",
            "       [-0.41715035, -1.7385385 , -0.13227613,  2.8047268 ],\n",
            "       [ 0.22663395,  0.5805882 ,  0.9739512 , -0.9976484 ],\n",
            "       [ 2.462698  ,  0.22997186, -0.21219681, -0.46856645],\n",
            "       [ 1.7751752 ,  0.3513486 ,  0.01236556, -0.65594816]],\n",
            "      dtype=float32), array([[-0.94932723, -1.22906   ,  2.9873486 , -0.8279878 ],\n",
            "       [-0.39185968, -1.5589305 , -0.30110815,  2.630875  ],\n",
            "       [ 2.0228274 ,  0.73808527, -0.8673709 , -0.29624176],\n",
            "       [ 0.19504073,  1.1108397 ,  1.5143088 , -2.2597897 ],\n",
            "       [ 1.0989718 ,  2.2746506 , -1.3419152 , -0.8407321 ],\n",
            "       [ 2.5202084 , -0.3701866 , -0.7215084 , -0.23188533],\n",
            "       [ 0.7689457 ,  2.3779893 , -1.1345521 , -1.2585999 ],\n",
            "       [ 0.8800944 ,  2.6163137 , -1.2053291 , -1.4802163 ],\n",
            "       [ 0.8280721 ,  1.3637376 , -0.42555663, -0.60240513],\n",
            "       [-1.0152313 , -1.6778198 ,  2.0646775 ,  0.9460412 ],\n",
            "       [-0.34677288, -1.2827712 , -0.1153525 ,  2.1885316 ],\n",
            "       [-0.35208443,  0.36000925,  2.2828846 , -1.9832256 ],\n",
            "       [ 1.5968977 ,  1.6869413 , -1.9063439 , -0.3805087 ],\n",
            "       [ 0.24773906,  2.07226   , -0.9527487 , -0.5965739 ],\n",
            "       [ 2.126982  , -0.16903403, -1.7109078 ,  0.76668674],\n",
            "       [ 0.82203686, -1.3521891 , -0.7770318 ,  1.8577584 ]],\n",
            "      dtype=float32), array([[ 1.0105835e+00,  2.1900361e+00, -1.2987179e+00, -1.2086657e+00],\n",
            "       [ 1.6330504e-03, -9.4939381e-01,  2.6753515e-02,  1.7575740e+00],\n",
            "       [ 1.2235441e+00,  5.4183054e-01,  9.4787681e-01, -1.0583748e+00],\n",
            "       [ 6.0881448e-01,  2.2681022e+00, -4.9188936e-01, -1.1363089e+00],\n",
            "       [-9.9200332e-01, -6.4437783e-01,  2.6224368e+00, -4.9043962e-01],\n",
            "       [ 4.7321138e-01,  6.0661137e-01,  1.0421985e+00, -1.4982429e+00],\n",
            "       [-3.9619502e-01,  1.2187085e+00, -1.3349463e+00,  2.4517651e-01],\n",
            "       [ 2.6657772e+00, -1.9046220e-01, -1.1020157e-02, -5.5370748e-01],\n",
            "       [ 1.9191108e+00, -5.2028376e-01, -4.8959506e-01,  3.5844931e-01],\n",
            "       [ 2.3939793e-01, -5.4603362e-01, -8.6574835e-01,  1.1667156e+00],\n",
            "       [ 1.5831053e+00,  1.5215262e+00, -2.0461812e+00,  6.4955592e-01],\n",
            "       [ 1.8504040e-02, -1.7827741e+00, -4.1656813e-01,  2.4546778e+00],\n",
            "       [ 2.8138404e+00,  4.8719579e-01, -6.6303873e-01, -1.0118204e+00],\n",
            "       [ 4.5727852e-01,  1.7545630e+00,  5.4998380e-01, -1.6279804e+00],\n",
            "       [ 1.0473690e+00,  2.3799973e+00, -1.3958365e+00, -1.0712484e+00],\n",
            "       [ 1.7067112e+00,  4.6438891e-01, -1.9205714e+00,  1.2463126e+00]],\n",
            "      dtype=float32), array([[-0.9465641 , -0.50685066,  3.0646677 , -1.3098183 ],\n",
            "       [-0.66268086, -0.90252787,  2.3080854 , -0.21067733],\n",
            "       [-0.9523083 , -1.3962897 ,  2.898453  , -0.15276635],\n",
            "       [-0.98497844, -0.6746693 ,  3.0214655 , -1.1209186 ],\n",
            "       [ 1.4067525 ,  0.81781584, -0.5383895 , -0.6833454 ],\n",
            "       [ 1.7564013 ,  0.8860943 , -1.5803753 ,  0.36358914],\n",
            "       [-0.17907637,  1.5070075 ,  0.32439026, -1.1261258 ],\n",
            "       [ 0.49859783, -0.7077653 , -0.27153102,  0.8816819 ],\n",
            "       [ 1.3264962 ,  0.20877372, -0.1128322 , -0.07571001],\n",
            "       [-0.809119  , -1.2682749 ,  2.9344575 , -0.8242243 ],\n",
            "       [-0.60849816,  0.3073143 ,  2.552901  , -1.796777  ],\n",
            "       [-0.20505467, -1.8474885 ,  0.6210263 ,  2.1337078 ],\n",
            "       [-0.5527745 , -2.0318882 ,  2.1854777 ,  0.40424868],\n",
            "       [-0.76822186, -1.7922429 ,  2.4217873 ,  0.6030155 ],\n",
            "       [-0.6730674 ,  1.4316312 ,  1.2872654 , -2.127905  ],\n",
            "       [ 0.896396  ,  2.2557492 , -1.1126161 , -1.3003223 ]],\n",
            "      dtype=float32), array([[ 2.7711484 ,  0.7113405 , -1.3649527 , -0.47245038],\n",
            "       [-0.63170815, -1.138837  ,  3.1956723 , -1.021741  ],\n",
            "       [-0.56128234, -1.1732013 ,  2.7468538 , -0.7924535 ],\n",
            "       [ 0.44031897,  2.2177148 , -0.8324877 , -1.5783498 ],\n",
            "       [-0.31553185, -0.86692053,  1.4376342 , -0.14765377],\n",
            "       [ 0.38072374,  0.06821451,  0.7144503 , -0.6241032 ],\n",
            "       [ 1.9155114 , -0.10020538, -2.3034956 ,  1.6592577 ],\n",
            "       [ 0.20814684,  2.0958936 , -0.4521769 , -1.281252  ],\n",
            "       [ 2.3379521 , -0.178817  , -0.9598553 , -0.2855993 ],\n",
            "       [-0.6974994 , -1.0719204 ,  2.3970976 , -0.57860583],\n",
            "       [-0.86184645, -1.844715  ,  2.3828135 ,  0.6547364 ],\n",
            "       [ 1.8255277 ,  0.3739801 , -1.7009629 ,  0.9653708 ],\n",
            "       [ 2.7460914 ,  0.02194288, -1.4475034 , -0.07865477],\n",
            "       [ 0.4325644 ,  0.0187788 ,  0.65335906, -0.555558  ],\n",
            "       [-0.9305314 , -1.0614877 ,  3.2936673 , -0.68156123],\n",
            "       [ 0.3910418 ,  2.8094127 , -1.298645  , -1.4234749 ]],\n",
            "      dtype=float32), array([[-0.36701408, -1.5168887 ,  0.6647772 ,  1.8126723 ],\n",
            "       [ 0.8384447 ,  1.8860296 , -0.47855228, -0.9680394 ],\n",
            "       [ 1.5852598 ,  1.1337721 , -0.6867382 , -0.89627147],\n",
            "       [ 0.3954798 ,  1.1978354 ,  0.9011036 , -1.9586148 ],\n",
            "       [-1.0481135 , -1.3026588 ,  3.1822364 , -0.31887355],\n",
            "       [ 1.1946651 ,  2.1307108 , -1.3078163 , -0.8610204 ],\n",
            "       [ 0.12956227, -1.7742867 , -0.7025218 ,  3.0414326 ],\n",
            "       [-0.70591176, -1.6550883 ,  1.7448635 ,  0.6683148 ],\n",
            "       [ 2.4528515 ,  0.22297233, -1.5495949 ,  0.23232116],\n",
            "       [-0.8766833 , -1.0186394 ,  2.8702478 , -0.74304986],\n",
            "       [-0.79904306, -1.4011024 ,  1.9265213 ,  0.61728966],\n",
            "       [ 0.84672666, -0.81421393, -0.4935378 ,  1.3545009 ],\n",
            "       [ 1.8972089 , -0.38744932, -0.48958057,  0.02294469],\n",
            "       [ 1.1106    ,  1.6726516 , -1.1273383 , -0.8670734 ],\n",
            "       [ 0.3991349 , -1.2954272 , -0.2336951 ,  1.8804665 ],\n",
            "       [ 0.23595531,  0.07979704, -0.9051613 ,  1.2428268 ]],\n",
            "      dtype=float32), array([[ 0.02225397, -1.4726756 ,  2.6803324 , -0.63697636],\n",
            "       [ 0.44016132, -0.95014143, -1.1587278 ,  2.3290257 ],\n",
            "       [ 1.1872536 ,  1.0883819 , -0.7226773 , -0.6199448 ],\n",
            "       [-0.77169114, -1.6110573 ,  1.7568771 ,  1.0886515 ],\n",
            "       [ 0.44279528, -0.05457   , -0.5121365 ,  0.6281844 ],\n",
            "       [ 1.2439716 , -1.0425497 , -1.528311  ,  1.9923108 ],\n",
            "       [-0.09581379,  1.2546548 ,  0.1294278 , -0.65284634],\n",
            "       [ 1.5670179 ,  0.6341292 , -0.6811265 , -0.5169668 ],\n",
            "       [-0.05333435, -1.0045836 ,  0.32221034,  1.3451055 ],\n",
            "       [-1.1879536 , -0.9295431 ,  3.3363128 , -0.8586033 ],\n",
            "       [ 0.20797013,  2.7651486 , -1.3084242 , -0.91277504],\n",
            "       [-0.20072594, -1.0654749 ,  2.459309  , -0.6583413 ],\n",
            "       [ 0.68586904, -1.7794    , -0.36917707,  1.8302583 ],\n",
            "       [ 1.9866204 ,  0.90088123, -0.5787046 , -1.0072589 ],\n",
            "       [ 0.7996365 ,  2.7786927 , -1.0116795 , -1.5601927 ],\n",
            "       [ 1.8769698 ,  1.6370844 , -1.7244542 , -0.39032128]],\n",
            "      dtype=float32), array([[ 0.54884255,  2.2196107 , -0.485366  , -1.4188274 ],\n",
            "       [-0.66694444, -2.191115  ,  2.133264  ,  1.0243418 ],\n",
            "       [-1.0051309 , -0.80544835,  2.6149898 , -0.72844744],\n",
            "       [ 0.66019845,  2.2947676 , -0.25237453, -1.6390585 ],\n",
            "       [ 1.8825052 , -0.47009367, -0.7336165 ,  0.29509   ],\n",
            "       [ 1.4529256 ,  0.9313582 , -1.3426557 ,  0.38088402],\n",
            "       [ 1.3921256 , -0.62606543, -2.0383556 ,  1.9493611 ],\n",
            "       [-0.90903664, -0.54319674,  2.7381978 , -0.6226688 ],\n",
            "       [ 2.0579317 , -1.5556211 ,  0.29021367,  0.31385583],\n",
            "       [-0.32357353, -1.624107  ,  0.566984  ,  1.8701693 ],\n",
            "       [-0.07751182, -0.48103043,  2.129534  , -0.6605707 ],\n",
            "       [ 0.7175191 ,  0.87372726,  0.6940773 , -1.681557  ],\n",
            "       [ 0.75225794,  1.8982106 , -1.7756718 ,  0.30512837],\n",
            "       [ 2.3423932 ,  0.4700184 , -0.68270254, -0.28951508],\n",
            "       [ 0.47216052, -1.994742  , -0.2014376 ,  2.3089736 ],\n",
            "       [ 1.4653726 , -1.0543157 , -0.4447807 ,  1.4039737 ]],\n",
            "      dtype=float32), array([[ 0.21429583,  0.4873569 ,  0.3299092 , -0.23751232],\n",
            "       [-0.5585698 , -1.2416376 ,  3.022197  , -1.042401  ],\n",
            "       [ 0.01528394, -1.701644  , -0.7898131 ,  2.8284338 ],\n",
            "       [ 0.9481717 ,  1.300016  , -0.32832742, -0.86959857],\n",
            "       [ 0.9152018 ,  2.7129312 , -1.1918344 , -1.6683422 ],\n",
            "       [ 1.2024101 ,  0.42522383, -1.0750158 ,  0.9056585 ],\n",
            "       [ 0.4262115 ,  2.804646  , -1.2403824 , -1.0260519 ],\n",
            "       [ 1.1025077 ,  0.50033176,  0.7438109 , -1.1532627 ],\n",
            "       [ 1.636312  , -0.6536813 , -0.94113976,  1.1032851 ],\n",
            "       [ 1.0842482 , -0.20996451, -1.8610283 ,  1.8682039 ],\n",
            "       [ 0.08538215, -1.7904631 , -0.9441855 ,  2.6573262 ],\n",
            "       [-0.06554405, -1.563635  , -0.02500133,  2.4743094 ],\n",
            "       [-0.3052012 , -1.9728328 ,  2.0745137 ,  0.74965644],\n",
            "       [ 0.879516  ,  1.4109344 , -0.49927023, -0.5192491 ],\n",
            "       [ 3.3129833 ,  0.13737337, -0.49393532, -0.9322754 ],\n",
            "       [ 1.6202658 ,  0.2599452 , -1.1768745 ,  0.33755898]],\n",
            "      dtype=float32), array([[-0.55649096, -1.7094634 ,  2.6301455 , -0.1465512 ],\n",
            "       [ 0.53619707, -0.45575213, -1.1679378 ,  1.578447  ],\n",
            "       [ 1.9104538 ,  1.3095167 , -0.58683324, -0.74007714],\n",
            "       [ 0.32024086, -2.0120394 , -0.6617821 ,  2.7563665 ],\n",
            "       [-0.63702744, -1.3321261 ,  3.2024112 , -0.92524916],\n",
            "       [ 0.04605054, -2.3623016 ,  0.5365162 ,  1.7841094 ],\n",
            "       [-0.3698169 , -1.1719854 , -0.7648045 ,  2.70462   ],\n",
            "       [-0.36965784, -1.6975693 ,  0.44420734,  2.3290393 ],\n",
            "       [ 0.94326615, -1.4956983 , -0.92346376,  2.1147609 ],\n",
            "       [ 0.8013644 ,  2.7798896 , -1.0781515 , -1.1563355 ],\n",
            "       [ 2.9896946 ,  0.3509577 , -0.99030215, -0.76697624],\n",
            "       [ 1.470542  ,  1.8161594 , -1.4156308 , -0.86659396],\n",
            "       [-0.38759974, -1.718573  , -0.18266414,  2.8061132 ],\n",
            "       [-0.9002516 , -1.0985405 ,  2.801263  , -0.1434391 ],\n",
            "       [-0.64055824, -1.4613936 ,  1.3750182 ,  1.2681863 ],\n",
            "       [ 0.8756026 ,  2.3342361 , -1.0480223 , -1.040954  ]],\n",
            "      dtype=float32), array([[-1.0333258 , -1.035113  ,  3.3044307 , -0.6852513 ],\n",
            "       [-0.2415158 , -1.5128648 , -0.9349305 ,  3.0336218 ],\n",
            "       [ 0.13001768, -1.2915155 , -1.1798097 ,  2.6501048 ],\n",
            "       [-0.3144124 , -0.10117222,  1.6712508 , -0.7256682 ],\n",
            "       [ 0.7768025 ,  0.4267416 , -0.05630575, -0.21969654],\n",
            "       [ 1.4496337 ,  1.7127087 , -1.1644372 , -0.70043534],\n",
            "       [ 1.1659316 , -0.95806915,  0.9913616 , -0.30740747],\n",
            "       [ 1.2651879 ,  2.3628302 , -1.2255185 , -1.3607233 ],\n",
            "       [-0.45248148, -0.93642247,  2.9957082 , -1.1331508 ],\n",
            "       [ 2.2621055 ,  1.6606904 , -1.4424614 , -0.83895427],\n",
            "       [ 1.6333578 ,  0.7124295 , -1.6202396 ,  0.7688965 ],\n",
            "       [ 2.3122206 ,  0.24083781, -1.6575142 ,  0.26996258],\n",
            "       [ 0.16177881, -1.2500461 ,  1.2082268 ,  0.41112652],\n",
            "       [-0.8604692 , -1.4299668 ,  3.1730177 , -0.17490883],\n",
            "       [-0.06871341, -1.3399645 , -1.0868548 ,  2.9387243 ],\n",
            "       [ 0.08369336, -1.6959068 , -0.5803008 ,  2.4824147 ]],\n",
            "      dtype=float32), array([[ 0.7209604 , -0.7648855 , -1.7911094 ,  2.293547  ],\n",
            "       [ 0.52118963,  2.1120265 , -0.38543567, -1.577496  ],\n",
            "       [ 2.4837577 , -0.05153655, -1.6940674 ,  0.7100807 ],\n",
            "       [ 0.7989652 ,  1.0118856 ,  0.561518  , -1.0151948 ],\n",
            "       [ 0.15118374, -1.1544684 ,  1.450941  ,  0.81615096],\n",
            "       [ 0.62622523, -0.02332656, -0.13738981,  0.17174661],\n",
            "       [-0.25193822, -1.4566147 ,  0.04531229,  1.8837574 ],\n",
            "       [ 1.2964495 ,  0.03989188, -0.9536311 ,  0.4101189 ],\n",
            "       [-0.911602  , -0.8013833 ,  2.978583  , -0.64628214],\n",
            "       [ 1.1359439 , -0.28653422,  0.530484  , -0.7202588 ],\n",
            "       [-0.2869478 , -0.8634666 ,  2.1085627 , -0.7719774 ],\n",
            "       [ 1.6022516 ,  1.3360964 , -0.37832755, -0.9447106 ],\n",
            "       [ 0.13713104, -1.2908603 , -1.396565  ,  2.5068789 ],\n",
            "       [ 1.2462214 ,  1.61032   ,  0.02315243, -1.4320557 ],\n",
            "       [-0.65102804, -1.3013556 ,  2.4151206 , -0.35940096],\n",
            "       [-0.01675485, -1.5351763 , -1.0609027 ,  2.8416796 ]],\n",
            "      dtype=float32), array([[-0.80129486, -0.4722845 ,  2.5576248 , -0.73328745],\n",
            "       [ 0.07077316, -1.6496866 , -0.7730328 ,  2.9190896 ],\n",
            "       [ 0.16864395,  0.6894509 ,  1.013981  , -1.8109851 ],\n",
            "       [ 1.0418494 ,  0.46064252, -0.6259384 ,  0.24176183],\n",
            "       [ 2.3612635 ,  0.6314812 , -1.7079202 ,  0.6838411 ],\n",
            "       [-0.03016696, -1.9728916 ,  0.6354612 ,  2.1973927 ],\n",
            "       [ 0.2722722 ,  1.9963897 , -0.32720977, -1.2534629 ],\n",
            "       [ 0.7321476 , -0.9060946 ,  1.540439  , -0.8139721 ],\n",
            "       [-1.0429859 , -1.7065978 ,  2.5884008 ,  0.45433286],\n",
            "       [ 0.07346145, -0.6302255 ,  1.2361593 ,  0.2620316 ],\n",
            "       [ 0.79044676,  2.779421  , -0.8297588 , -1.4624118 ],\n",
            "       [ 0.6773115 , -1.3461547 , -0.34948707,  1.6738771 ],\n",
            "       [ 0.46088317,  1.8230816 ,  0.01203128, -1.6717051 ],\n",
            "       [-0.68715656,  0.34191796,  2.546151  , -1.6145475 ],\n",
            "       [-0.36624   , -1.6142963 ,  2.4413247 ,  0.197912  ],\n",
            "       [-0.34305456, -1.4588588 ,  2.3976629 ,  0.2638791 ]],\n",
            "      dtype=float32), array([[ 1.1342775 , -0.7728699 , -1.3504908 ,  1.4797422 ],\n",
            "       [-0.3088151 , -1.410398  ,  0.5286952 ,  1.9303654 ],\n",
            "       [ 1.0210136 , -1.4345781 , -0.28785947,  1.5802361 ],\n",
            "       [ 2.0577064 ,  0.15300977,  0.31738704, -1.4058737 ],\n",
            "       [ 1.0108657 , -1.7881374 , -0.61993384,  2.0121906 ],\n",
            "       [ 1.3578378 ,  1.308243  , -0.67068946, -1.0055219 ],\n",
            "       [-0.45443836, -1.1779002 ,  1.3557067 ,  0.33211052],\n",
            "       [-0.34747025, -1.4397569 ,  0.11358494,  1.8756076 ],\n",
            "       [ 1.6920993 ,  0.50484055, -1.4148319 ,  0.35067567],\n",
            "       [-0.24792936, -1.1606865 , -0.7515708 ,  2.6288624 ],\n",
            "       [-0.09129397, -1.2861422 , -0.76664895,  2.5298414 ],\n",
            "       [-0.84047437, -0.26238978,  2.6101089 , -1.2960209 ],\n",
            "       [-1.0550195 , -0.2937237 ,  3.1053178 , -1.5819294 ],\n",
            "       [ 0.15990868, -0.13127786,  2.0501683 , -1.7470638 ],\n",
            "       [ 2.0805254 , -0.17093036, -1.0460572 ,  0.40912274],\n",
            "       [ 0.8646067 , -0.61979115, -0.9732531 ,  1.3980949 ]],\n",
            "      dtype=float32), array([[-0.49519438,  0.26367944,  1.75043   , -1.2562213 ],\n",
            "       [-0.46701914, -1.7628304 , -0.347791  ,  3.0298266 ],\n",
            "       [ 1.7495437 , -0.5107176 , -0.8645625 , -0.09980467],\n",
            "       [-0.42530808, -2.0184524 , -0.0214045 ,  2.3802419 ],\n",
            "       [ 0.85074085,  2.3436704 , -1.0961065 , -1.4460595 ],\n",
            "       [ 2.9958565 ,  0.11236939, -1.7354792 ,  0.24480864],\n",
            "       [ 0.19418068,  3.0753222 , -0.8112139 , -1.6697334 ],\n",
            "       [ 0.02716121, -1.604355  , -0.27047783,  2.5212562 ],\n",
            "       [ 1.3806711 , -0.37294894, -0.03097104,  0.63020754],\n",
            "       [ 1.12873   ,  2.5204124 , -1.3679757 , -1.1004384 ],\n",
            "       [-0.34654868, -1.792071  ,  1.2718827 ,  1.6685332 ],\n",
            "       [ 2.970196  ,  0.46150267, -1.2147923 , -0.6476841 ],\n",
            "       [ 1.3015428 ,  1.7075009 , -0.90092975, -0.847198  ],\n",
            "       [ 0.7618713 ,  2.5460315 , -0.5980611 , -1.5382311 ],\n",
            "       [-0.11426455, -1.408362  , -1.2581563 ,  2.9302816 ],\n",
            "       [ 1.5276494 ,  1.2803947 , -0.557954  , -1.1411015 ]],\n",
            "      dtype=float32), array([[ 1.484936  ,  0.7422621 ,  0.08265848, -1.9182318 ],\n",
            "       [ 0.26533428,  2.687154  , -1.2343812 , -1.199301  ],\n",
            "       [ 3.083166  ,  0.32855713, -0.76368445, -0.82485956],\n",
            "       [ 0.22547647,  2.5324445 , -1.1891998 , -1.3801292 ],\n",
            "       [ 2.6370473 ,  0.5624176 , -1.7923533 ,  0.15391235],\n",
            "       [-0.00539219, -1.2958175 , -0.9913016 ,  2.6369996 ],\n",
            "       [-0.6153226 , -1.9710981 ,  0.19648246,  2.454356  ],\n",
            "       [ 2.3303258 , -0.38070652, -0.08113524, -0.31603298],\n",
            "       [ 0.81572324,  2.4099984 , -1.1310904 , -1.4721549 ],\n",
            "       [ 1.0367863 ,  0.39894706, -0.645188  ,  0.17186694],\n",
            "       [-0.00751703, -1.5877908 , -0.9814695 ,  3.0394862 ],\n",
            "       [ 2.0459433 ,  0.9264168 , -1.2195    , -0.48769978],\n",
            "       [ 1.2283958 , -0.08964834, -0.28928733,  0.7265124 ],\n",
            "       [ 0.5722494 ,  2.7296128 , -0.81314707, -1.3912429 ],\n",
            "       [ 0.25675115, -1.3891323 , -1.0518398 ,  2.5683577 ],\n",
            "       [ 0.55156213, -1.9423743 , -0.4217282 ,  2.160406  ]],\n",
            "      dtype=float32), array([[ 0.51561886,  1.3293953 , -0.18943451, -1.0138499 ],\n",
            "       [ 2.6316836 , -0.5120607 , -0.03126464, -0.6066602 ],\n",
            "       [-0.69522434, -1.8223574 ,  2.3210392 ,  0.64030373],\n",
            "       [ 2.1792336 ,  0.67347866, -0.8514875 , -0.92370415],\n",
            "       [ 0.67728114,  2.6889007 , -0.64311486, -1.308087  ],\n",
            "       [-0.9553563 , -1.319321  ,  2.7296143 , -0.07334825],\n",
            "       [ 1.0673499 ,  2.1097827 , -1.95317   ,  0.02768802],\n",
            "       [ 0.8852967 , -1.2562476 , -1.086022  ,  2.096779  ],\n",
            "       [ 2.4240177 , -0.8825413 , -0.71505505,  0.2715398 ],\n",
            "       [ 0.3004315 ,  2.5147698 , -0.23735376, -1.9809473 ]],\n",
            "      dtype=float32)]\n"
          ],
          "name": "stdout"
        }
      ]
    },
    {
      "cell_type": "code",
      "metadata": {
        "colab": {
          "base_uri": "https://localhost:8080/"
        },
        "id": "9lueGYXbEHtC",
        "outputId": "78cd3d25-bd11-41f2-d93a-7178887cc843"
      },
      "source": [
        "from sklearn.metrics import matthews_corrcoef\n",
        "\n",
        "matthews_set = []\n",
        "pred_labels =[]\n",
        "print('Calculating Matthews Corr. Coef. for each batch...')\n",
        "\n",
        "# For each input batch...\n",
        "for i in range(len(true_labels)):\n",
        "  pred_labels_i = np.argmax(predictions[i], axis=1).flatten()\n",
        "  pred_labels.append(pred_labels_i)\n",
        "  # Calculate and store the coef for this batch.  \n"
      ],
      "execution_count": null,
      "outputs": [
        {
          "output_type": "stream",
          "text": [
            "Calculating Matthews Corr. Coef. for each batch...\n"
          ],
          "name": "stdout"
        }
      ]
    },
    {
      "cell_type": "code",
      "metadata": {
        "colab": {
          "base_uri": "https://localhost:8080/"
        },
        "id": "JXRaTrFXEe6D",
        "outputId": "77b63f3b-1db8-4e57-f294-10b0be360bc0"
      },
      "source": [
        "print(pred_labels)"
      ],
      "execution_count": null,
      "outputs": [
        {
          "output_type": "stream",
          "text": [
            "[array([0, 3, 2, 2, 1, 3, 2, 1, 1, 3, 1, 3, 0, 0, 0, 2]), array([2, 2, 3, 3, 1, 2, 0, 0, 2, 1, 3, 2, 2, 3, 1, 1]), array([3, 0, 2, 2, 3, 3, 2, 0, 1, 2, 2, 0, 3, 2, 0, 0]), array([2, 3, 0, 2, 1, 0, 1, 1, 1, 2, 3, 2, 1, 1, 0, 3]), array([1, 3, 0, 1, 2, 2, 1, 0, 0, 3, 0, 3, 0, 1, 1, 0]), array([2, 2, 2, 2, 0, 0, 1, 3, 0, 2, 2, 3, 2, 2, 1, 1]), array([0, 2, 2, 1, 2, 2, 0, 1, 0, 2, 2, 0, 0, 2, 2, 1]), array([3, 1, 0, 1, 2, 1, 3, 2, 0, 2, 2, 3, 0, 1, 3, 3]), array([2, 3, 0, 2, 3, 3, 1, 0, 3, 2, 1, 2, 3, 0, 1, 0]), array([1, 2, 2, 1, 0, 0, 3, 2, 0, 3, 2, 1, 1, 0, 3, 0]), array([1, 2, 3, 1, 1, 0, 1, 0, 0, 3, 3, 3, 2, 1, 0, 0]), array([2, 3, 0, 3, 2, 3, 3, 3, 3, 1, 0, 1, 3, 2, 2, 1]), array([2, 3, 3, 2, 0, 1, 0, 1, 2, 0, 0, 0, 2, 2, 3, 3]), array([3, 1, 0, 1, 2, 0, 3, 0, 2, 0, 2, 0, 3, 1, 2, 3]), array([2, 3, 2, 0, 0, 3, 1, 2, 2, 2, 1, 3, 1, 2, 2, 2]), array([3, 3, 3, 0, 3, 0, 2, 3, 0, 3, 3, 2, 2, 2, 0, 3]), array([2, 3, 0, 3, 1, 0, 1, 3, 0, 1, 3, 0, 1, 1, 3, 0]), array([0, 1, 0, 1, 0, 3, 3, 0, 1, 0, 3, 0, 0, 1, 3, 3]), array([1, 0, 2, 0, 1, 2, 1, 3, 0, 1])]\n"
          ],
          "name": "stdout"
        }
      ]
    },
    {
      "cell_type": "code",
      "metadata": {
        "id": "Bz74HPk5E-ro"
      },
      "source": [
        "# Combine the results across all batches. \n",
        "flat_predictions = np.concatenate(pred_labels, axis=0)\n",
        "true_labels_all = np.concatenate(true_labels, axis=0)"
      ],
      "execution_count": null,
      "outputs": []
    },
    {
      "cell_type": "code",
      "metadata": {
        "colab": {
          "base_uri": "https://localhost:8080/"
        },
        "id": "wk5llg0gFds_",
        "outputId": "69d96c03-395d-4a61-b10d-7c5d70128bca"
      },
      "source": [
        "from sklearn.metrics import accuracy_score\n",
        "accuracy_score(true_labels_all, flat_predictions)"
      ],
      "execution_count": null,
      "outputs": [
        {
          "output_type": "execute_result",
          "data": {
            "text/plain": [
              "0.6442953020134228"
            ]
          },
          "metadata": {
            "tags": []
          },
          "execution_count": 55
        }
      ]
    }
  ]
}